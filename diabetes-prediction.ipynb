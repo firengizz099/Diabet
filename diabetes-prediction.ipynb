{
 "cells": [
  {
   "cell_type": "code",
   "execution_count": 1,
   "id": "a1cbe1f0",
   "metadata": {
    "_cell_guid": "b1076dfc-b9ad-4769-8c92-a6c4dae69d19",
    "_uuid": "8f2839f25d086af736a60e9eeb907d3b93b6e0e5",
    "execution": {
     "iopub.execute_input": "2022-12-03T19:19:02.105958Z",
     "iopub.status.busy": "2022-12-03T19:19:02.105497Z",
     "iopub.status.idle": "2022-12-03T19:19:03.673719Z",
     "shell.execute_reply": "2022-12-03T19:19:03.672596Z"
    },
    "papermill": {
     "duration": 1.599607,
     "end_time": "2022-12-03T19:19:03.677150",
     "exception": false,
     "start_time": "2022-12-03T19:19:02.077543",
     "status": "completed"
    },
    "tags": []
   },
   "outputs": [],
   "source": [
    "import pandas as pd\n",
    "#pd.options.display.max_rows=17760\n",
    "import os\n",
    "import matplotlib.pyplot as plt\n",
    "import seaborn as sns\n",
    "from sklearn.preprocessing import LabelEncoder\n",
    "import numpy as np\n",
    "from sklearn.model_selection import train_test_split\n",
    "from sklearn.preprocessing import StandardScaler,MinMaxScaler\n",
    "from sklearn.model_selection import KFold, cross_val_score\n",
    "from datetime import datetime\n",
    "import xgboost as xgb\n",
    "from sklearn.metrics import accuracy_score,confusion_matrix\n",
    "from  sklearn import metrics\n",
    "from sklearn.model_selection import train_test_split\n",
    "import warnings\n",
    "warnings.filterwarnings('ignore')\n",
    "from sklearn.linear_model import LinearRegression\n",
    "from scipy import stats\n",
    "from sklearn.preprocessing import MinMaxScaler,StandardScaler,RobustScaler,PowerTransformer"
   ]
  },
  {
   "cell_type": "code",
   "execution_count": 2,
   "id": "0aab5702",
   "metadata": {
    "execution": {
     "iopub.execute_input": "2022-12-03T19:19:03.722361Z",
     "iopub.status.busy": "2022-12-03T19:19:03.721938Z",
     "iopub.status.idle": "2022-12-03T19:19:04.969484Z",
     "shell.execute_reply": "2022-12-03T19:19:04.967861Z"
    },
    "papermill": {
     "duration": 1.273153,
     "end_time": "2022-12-03T19:19:04.972648",
     "exception": false,
     "start_time": "2022-12-03T19:19:03.699495",
     "status": "completed"
    },
    "tags": []
   },
   "outputs": [],
   "source": [
    "train=pd.read_csv('../input/diabetes-prediction-competitiontfug-chd-nov-2022/train_data.csv')\n",
    "test = pd.read_csv(\"../input/diabetes-prediction-competitiontfug-chd-nov-2022/test_data.csv\")\n",
    "data3=pd.read_csv(\"/kaggle/input/diabetes-health-indicators-dataset/diabetes_binary_health_indicators_BRFSS2015.csv\")"
   ]
  },
  {
   "cell_type": "markdown",
   "id": "34c8f79f",
   "metadata": {
    "papermill": {
     "duration": 0.020294,
     "end_time": "2022-12-03T19:19:05.013921",
     "exception": false,
     "start_time": "2022-12-03T19:19:04.993627",
     "status": "completed"
    },
    "tags": []
   },
   "source": [
    "* age: 3 seviyeli yaş kategorisi (_AGEG5YR kod kitabına bakın) 1 = 18-24, 9 = 60-64, 13 = 80 veya daha büyük\n",
    "* sex: 0 = kadın, 1 = erkek\n",
    "* HighChol: 0 = yüksek kolesterol yok, 1 = yüksek kolesterol\n",
    "* CholCheck: 0 = 5 yılda kolesterol kontrolü yok, 1 = evet 5 yılda kolesterol kontrolü\n",
    "* BMI: Vücut kitle indeksi\n",
    "* Smoker: Hayatınız boyunca en az 100 sigara içtiniz mi? [Not: 5 paket = 100 sigara] 0 = hayır, 1 = evet\n",
    "* HeartDiseaseorAttack: Koroner kalp hastalığı (KKH) veya miyokard enfarktüsü (MI) 0 = hayır, 1 = evet\n",
    "* PhysActivity: Son 30 gündeki fiziksel aktivite - iş dahil değil 0 = hayır, 1 = evet\n",
    "* Fruits: Günde bir veya daha fazla meyve tüketin 0 = hayır, 1 = evet\n",
    "* Veggies: Günde 1 veya daha fazla Sebze tüketin 0 = hayır, 1 = evet\n",
    "* HvyAlcoholConsump: Yetişkin erkek: haftada 14'ten fazla içki. Yetişkin kadın: haftada 7'den fazla içki. 0 = hayır, 1 = evet\n",
    "* GenHlth: Genel olarak sağlığınızın: (ölçek 1-5) olduğunu söyleyebilir misiniz? 1 = mükemmel, 2 = çok iyi, 3 = iyi, 4 = orta, 5 = kötü\n",
    "* MentHlth: Ruh sağlığının zayıf olduğu günler ölçeği 1-30 gün\n",
    "* PhysHlth: Son 30 gün içindeki fiziksel hastalık veya yaralanma günleri 1-30 arası ölçek\n",
    "* DiffWalk: Yürümek veya merdiven çıkmakta ciddi zorluk çekiyor musunuz? 0 = hayır, 1 = evet\n",
    "* Hypertension: 0 = hipertansiyon yok, 1 = hipertansiyon\n",
    "* Stroke: 0 = hayır, 1 = evet\n",
    "* Diabetes: 0 = diyabet yok, 1 = diyabet (Hedef değişken)"
   ]
  },
  {
   "cell_type": "code",
   "execution_count": 3,
   "id": "230fafd8",
   "metadata": {
    "execution": {
     "iopub.execute_input": "2022-12-03T19:19:05.056857Z",
     "iopub.status.busy": "2022-12-03T19:19:05.056449Z",
     "iopub.status.idle": "2022-12-03T19:19:05.202514Z",
     "shell.execute_reply": "2022-12-03T19:19:05.201231Z"
    },
    "papermill": {
     "duration": 0.170961,
     "end_time": "2022-12-03T19:19:05.205507",
     "exception": false,
     "start_time": "2022-12-03T19:19:05.034546",
     "status": "completed"
    },
    "tags": []
   },
   "outputs": [
    {
     "data": {
      "text/html": [
       "<div>\n",
       "<style scoped>\n",
       "    .dataframe tbody tr th:only-of-type {\n",
       "        vertical-align: middle;\n",
       "    }\n",
       "\n",
       "    .dataframe tbody tr th {\n",
       "        vertical-align: top;\n",
       "    }\n",
       "\n",
       "    .dataframe thead th {\n",
       "        text-align: right;\n",
       "    }\n",
       "</style>\n",
       "<table border=\"1\" class=\"dataframe\">\n",
       "  <thead>\n",
       "    <tr style=\"text-align: right;\">\n",
       "      <th></th>\n",
       "      <th>count</th>\n",
       "      <th>mean</th>\n",
       "      <th>std</th>\n",
       "      <th>min</th>\n",
       "      <th>25%</th>\n",
       "      <th>50%</th>\n",
       "      <th>75%</th>\n",
       "      <th>max</th>\n",
       "    </tr>\n",
       "  </thead>\n",
       "  <tbody>\n",
       "    <tr>\n",
       "      <th>Age</th>\n",
       "      <td>80692.0</td>\n",
       "      <td>8.571841</td>\n",
       "      <td>2.852525</td>\n",
       "      <td>1.0</td>\n",
       "      <td>7.0</td>\n",
       "      <td>9.0</td>\n",
       "      <td>11.0</td>\n",
       "      <td>13.0</td>\n",
       "    </tr>\n",
       "    <tr>\n",
       "      <th>Sex</th>\n",
       "      <td>80692.0</td>\n",
       "      <td>0.481919</td>\n",
       "      <td>0.499676</td>\n",
       "      <td>0.0</td>\n",
       "      <td>0.0</td>\n",
       "      <td>0.0</td>\n",
       "      <td>1.0</td>\n",
       "      <td>1.0</td>\n",
       "    </tr>\n",
       "    <tr>\n",
       "      <th>HighChol</th>\n",
       "      <td>80692.0</td>\n",
       "      <td>0.518750</td>\n",
       "      <td>0.499651</td>\n",
       "      <td>0.0</td>\n",
       "      <td>0.0</td>\n",
       "      <td>1.0</td>\n",
       "      <td>1.0</td>\n",
       "      <td>1.0</td>\n",
       "    </tr>\n",
       "    <tr>\n",
       "      <th>CholCheck</th>\n",
       "      <td>80692.0</td>\n",
       "      <td>0.969687</td>\n",
       "      <td>0.171448</td>\n",
       "      <td>0.0</td>\n",
       "      <td>1.0</td>\n",
       "      <td>1.0</td>\n",
       "      <td>1.0</td>\n",
       "      <td>1.0</td>\n",
       "    </tr>\n",
       "    <tr>\n",
       "      <th>BMI</th>\n",
       "      <td>80692.0</td>\n",
       "      <td>29.897747</td>\n",
       "      <td>7.365230</td>\n",
       "      <td>12.0</td>\n",
       "      <td>25.0</td>\n",
       "      <td>29.0</td>\n",
       "      <td>33.0</td>\n",
       "      <td>98.0</td>\n",
       "    </tr>\n",
       "    <tr>\n",
       "      <th>Smoker</th>\n",
       "      <td>80692.0</td>\n",
       "      <td>0.494894</td>\n",
       "      <td>0.499977</td>\n",
       "      <td>0.0</td>\n",
       "      <td>0.0</td>\n",
       "      <td>0.0</td>\n",
       "      <td>1.0</td>\n",
       "      <td>1.0</td>\n",
       "    </tr>\n",
       "    <tr>\n",
       "      <th>HeartDiseaseorAttack</th>\n",
       "      <td>80692.0</td>\n",
       "      <td>0.141823</td>\n",
       "      <td>0.348871</td>\n",
       "      <td>0.0</td>\n",
       "      <td>0.0</td>\n",
       "      <td>0.0</td>\n",
       "      <td>0.0</td>\n",
       "      <td>1.0</td>\n",
       "    </tr>\n",
       "    <tr>\n",
       "      <th>PhysActivity</th>\n",
       "      <td>80692.0</td>\n",
       "      <td>0.680861</td>\n",
       "      <td>0.466146</td>\n",
       "      <td>0.0</td>\n",
       "      <td>0.0</td>\n",
       "      <td>1.0</td>\n",
       "      <td>1.0</td>\n",
       "      <td>1.0</td>\n",
       "    </tr>\n",
       "    <tr>\n",
       "      <th>Fruits</th>\n",
       "      <td>80692.0</td>\n",
       "      <td>0.588757</td>\n",
       "      <td>0.492062</td>\n",
       "      <td>0.0</td>\n",
       "      <td>0.0</td>\n",
       "      <td>1.0</td>\n",
       "      <td>1.0</td>\n",
       "      <td>1.0</td>\n",
       "    </tr>\n",
       "    <tr>\n",
       "      <th>Veggies</th>\n",
       "      <td>80692.0</td>\n",
       "      <td>0.777735</td>\n",
       "      <td>0.415771</td>\n",
       "      <td>0.0</td>\n",
       "      <td>1.0</td>\n",
       "      <td>1.0</td>\n",
       "      <td>1.0</td>\n",
       "      <td>1.0</td>\n",
       "    </tr>\n",
       "    <tr>\n",
       "      <th>HvyAlcoholConsump</th>\n",
       "      <td>80692.0</td>\n",
       "      <td>0.041516</td>\n",
       "      <td>0.199481</td>\n",
       "      <td>0.0</td>\n",
       "      <td>0.0</td>\n",
       "      <td>0.0</td>\n",
       "      <td>0.0</td>\n",
       "      <td>1.0</td>\n",
       "    </tr>\n",
       "    <tr>\n",
       "      <th>GenHlth</th>\n",
       "      <td>80692.0</td>\n",
       "      <td>2.854583</td>\n",
       "      <td>1.106053</td>\n",
       "      <td>1.0</td>\n",
       "      <td>2.0</td>\n",
       "      <td>3.0</td>\n",
       "      <td>4.0</td>\n",
       "      <td>5.0</td>\n",
       "    </tr>\n",
       "    <tr>\n",
       "      <th>MentHlth</th>\n",
       "      <td>80692.0</td>\n",
       "      <td>3.618959</td>\n",
       "      <td>7.995605</td>\n",
       "      <td>0.0</td>\n",
       "      <td>0.0</td>\n",
       "      <td>0.0</td>\n",
       "      <td>2.0</td>\n",
       "      <td>30.0</td>\n",
       "    </tr>\n",
       "    <tr>\n",
       "      <th>PhysHlth</th>\n",
       "      <td>80692.0</td>\n",
       "      <td>5.807763</td>\n",
       "      <td>10.026168</td>\n",
       "      <td>0.0</td>\n",
       "      <td>0.0</td>\n",
       "      <td>0.0</td>\n",
       "      <td>6.0</td>\n",
       "      <td>30.0</td>\n",
       "    </tr>\n",
       "    <tr>\n",
       "      <th>DiffWalk</th>\n",
       "      <td>80692.0</td>\n",
       "      <td>0.257869</td>\n",
       "      <td>0.437464</td>\n",
       "      <td>0.0</td>\n",
       "      <td>0.0</td>\n",
       "      <td>0.0</td>\n",
       "      <td>1.0</td>\n",
       "      <td>1.0</td>\n",
       "    </tr>\n",
       "    <tr>\n",
       "      <th>Diabetes</th>\n",
       "      <td>80692.0</td>\n",
       "      <td>0.509319</td>\n",
       "      <td>0.499916</td>\n",
       "      <td>0.0</td>\n",
       "      <td>0.0</td>\n",
       "      <td>1.0</td>\n",
       "      <td>1.0</td>\n",
       "      <td>1.0</td>\n",
       "    </tr>\n",
       "    <tr>\n",
       "      <th>Hypertension</th>\n",
       "      <td>80692.0</td>\n",
       "      <td>0.545903</td>\n",
       "      <td>0.497892</td>\n",
       "      <td>0.0</td>\n",
       "      <td>0.0</td>\n",
       "      <td>1.0</td>\n",
       "      <td>1.0</td>\n",
       "      <td>1.0</td>\n",
       "    </tr>\n",
       "    <tr>\n",
       "      <th>Stroke</th>\n",
       "      <td>80692.0</td>\n",
       "      <td>0.062732</td>\n",
       "      <td>0.242482</td>\n",
       "      <td>0.0</td>\n",
       "      <td>0.0</td>\n",
       "      <td>0.0</td>\n",
       "      <td>0.0</td>\n",
       "      <td>1.0</td>\n",
       "    </tr>\n",
       "  </tbody>\n",
       "</table>\n",
       "</div>"
      ],
      "text/plain": [
       "                        count       mean        std   min   25%   50%   75%  \\\n",
       "Age                   80692.0   8.571841   2.852525   1.0   7.0   9.0  11.0   \n",
       "Sex                   80692.0   0.481919   0.499676   0.0   0.0   0.0   1.0   \n",
       "HighChol              80692.0   0.518750   0.499651   0.0   0.0   1.0   1.0   \n",
       "CholCheck             80692.0   0.969687   0.171448   0.0   1.0   1.0   1.0   \n",
       "BMI                   80692.0  29.897747   7.365230  12.0  25.0  29.0  33.0   \n",
       "Smoker                80692.0   0.494894   0.499977   0.0   0.0   0.0   1.0   \n",
       "HeartDiseaseorAttack  80692.0   0.141823   0.348871   0.0   0.0   0.0   0.0   \n",
       "PhysActivity          80692.0   0.680861   0.466146   0.0   0.0   1.0   1.0   \n",
       "Fruits                80692.0   0.588757   0.492062   0.0   0.0   1.0   1.0   \n",
       "Veggies               80692.0   0.777735   0.415771   0.0   1.0   1.0   1.0   \n",
       "HvyAlcoholConsump     80692.0   0.041516   0.199481   0.0   0.0   0.0   0.0   \n",
       "GenHlth               80692.0   2.854583   1.106053   1.0   2.0   3.0   4.0   \n",
       "MentHlth              80692.0   3.618959   7.995605   0.0   0.0   0.0   2.0   \n",
       "PhysHlth              80692.0   5.807763  10.026168   0.0   0.0   0.0   6.0   \n",
       "DiffWalk              80692.0   0.257869   0.437464   0.0   0.0   0.0   1.0   \n",
       "Diabetes              80692.0   0.509319   0.499916   0.0   0.0   1.0   1.0   \n",
       "Hypertension          80692.0   0.545903   0.497892   0.0   0.0   1.0   1.0   \n",
       "Stroke                80692.0   0.062732   0.242482   0.0   0.0   0.0   0.0   \n",
       "\n",
       "                       max  \n",
       "Age                   13.0  \n",
       "Sex                    1.0  \n",
       "HighChol               1.0  \n",
       "CholCheck              1.0  \n",
       "BMI                   98.0  \n",
       "Smoker                 1.0  \n",
       "HeartDiseaseorAttack   1.0  \n",
       "PhysActivity           1.0  \n",
       "Fruits                 1.0  \n",
       "Veggies                1.0  \n",
       "HvyAlcoholConsump      1.0  \n",
       "GenHlth                5.0  \n",
       "MentHlth              30.0  \n",
       "PhysHlth              30.0  \n",
       "DiffWalk               1.0  \n",
       "Diabetes               1.0  \n",
       "Hypertension           1.0  \n",
       "Stroke                 1.0  "
      ]
     },
     "execution_count": 3,
     "metadata": {},
     "output_type": "execute_result"
    }
   ],
   "source": [
    "train.describe().T"
   ]
  },
  {
   "cell_type": "code",
   "execution_count": 4,
   "id": "01063097",
   "metadata": {
    "execution": {
     "iopub.execute_input": "2022-12-03T19:19:05.251920Z",
     "iopub.status.busy": "2022-12-03T19:19:05.251250Z",
     "iopub.status.idle": "2022-12-03T19:19:05.271933Z",
     "shell.execute_reply": "2022-12-03T19:19:05.270140Z"
    },
    "papermill": {
     "duration": 0.047541,
     "end_time": "2022-12-03T19:19:05.274649",
     "exception": false,
     "start_time": "2022-12-03T19:19:05.227108",
     "status": "completed"
    },
    "tags": []
   },
   "outputs": [
    {
     "name": "stdout",
     "output_type": "stream",
     "text": [
      "<class 'pandas.core.frame.DataFrame'>\n",
      "RangeIndex: 80692 entries, 0 to 80691\n",
      "Data columns (total 18 columns):\n",
      " #   Column                Non-Null Count  Dtype  \n",
      "---  ------                --------------  -----  \n",
      " 0   Age                   80692 non-null  float64\n",
      " 1   Sex                   80692 non-null  float64\n",
      " 2   HighChol              80692 non-null  float64\n",
      " 3   CholCheck             80692 non-null  float64\n",
      " 4   BMI                   80692 non-null  float64\n",
      " 5   Smoker                80692 non-null  float64\n",
      " 6   HeartDiseaseorAttack  80692 non-null  float64\n",
      " 7   PhysActivity          80692 non-null  float64\n",
      " 8   Fruits                80692 non-null  float64\n",
      " 9   Veggies               80692 non-null  float64\n",
      " 10  HvyAlcoholConsump     80692 non-null  float64\n",
      " 11  GenHlth               80692 non-null  float64\n",
      " 12  MentHlth              80692 non-null  float64\n",
      " 13  PhysHlth              80692 non-null  float64\n",
      " 14  DiffWalk              80692 non-null  float64\n",
      " 15  Diabetes              80692 non-null  float64\n",
      " 16  Hypertension          80692 non-null  float64\n",
      " 17  Stroke                80692 non-null  float64\n",
      "dtypes: float64(18)\n",
      "memory usage: 11.1 MB\n"
     ]
    }
   ],
   "source": [
    "train.info()"
   ]
  },
  {
   "cell_type": "code",
   "execution_count": 5,
   "id": "985228f7",
   "metadata": {
    "execution": {
     "iopub.execute_input": "2022-12-03T19:19:05.319808Z",
     "iopub.status.busy": "2022-12-03T19:19:05.319395Z",
     "iopub.status.idle": "2022-12-03T19:19:07.083877Z",
     "shell.execute_reply": "2022-12-03T19:19:07.082551Z"
    },
    "papermill": {
     "duration": 1.792095,
     "end_time": "2022-12-03T19:19:07.088847",
     "exception": false,
     "start_time": "2022-12-03T19:19:05.296752",
     "status": "completed"
    },
    "tags": []
   },
   "outputs": [
    {
     "data": {
      "image/png": "[encoded data removed]",
      "text/plain": [
       "<Figure size 1440x1080 with 2 Axes>"
      ]
     },
     "metadata": {
      "needs_background": "light"
     },
     "output_type": "display_data"
    }
   ],
   "source": [
    "plt.figure(figsize=(20,15))\n",
    "p=sns.heatmap(train.corr(),annot=True,cmap='Blues')\n",
    "plt.show()"
   ]
  },
  {
   "cell_type": "code",
   "execution_count": 6,
   "id": "c2cecb26",
   "metadata": {
    "execution": {
     "iopub.execute_input": "2022-12-03T19:19:07.141571Z",
     "iopub.status.busy": "2022-12-03T19:19:07.141127Z",
     "iopub.status.idle": "2022-12-03T19:19:07.147627Z",
     "shell.execute_reply": "2022-12-03T19:19:07.146640Z"
    },
    "papermill": {
     "duration": 0.035729,
     "end_time": "2022-12-03T19:19:07.149752",
     "exception": false,
     "start_time": "2022-12-03T19:19:07.114023",
     "status": "completed"
    },
    "tags": []
   },
   "outputs": [],
   "source": [
    "diabetes=train[['Diabetes']]"
   ]
  },
  {
   "cell_type": "code",
   "execution_count": 7,
   "id": "9729b8e4",
   "metadata": {
    "execution": {
     "iopub.execute_input": "2022-12-03T19:19:07.201712Z",
     "iopub.status.busy": "2022-12-03T19:19:07.201221Z",
     "iopub.status.idle": "2022-12-03T19:19:07.213444Z",
     "shell.execute_reply": "2022-12-03T19:19:07.211966Z"
    },
    "papermill": {
     "duration": 0.041421,
     "end_time": "2022-12-03T19:19:07.216201",
     "exception": false,
     "start_time": "2022-12-03T19:19:07.174780",
     "status": "completed"
    },
    "tags": []
   },
   "outputs": [],
   "source": [
    "train.drop(columns='Diabetes',axis=1,inplace=True)"
   ]
  },
  {
   "cell_type": "code",
   "execution_count": 8,
   "id": "f99e61b3",
   "metadata": {
    "execution": {
     "iopub.execute_input": "2022-12-03T19:19:07.267681Z",
     "iopub.status.busy": "2022-12-03T19:19:07.267235Z",
     "iopub.status.idle": "2022-12-03T19:19:07.282621Z",
     "shell.execute_reply": "2022-12-03T19:19:07.281336Z"
    },
    "papermill": {
     "duration": 0.044572,
     "end_time": "2022-12-03T19:19:07.285468",
     "exception": false,
     "start_time": "2022-12-03T19:19:07.240896",
     "status": "completed"
    },
    "tags": []
   },
   "outputs": [],
   "source": [
    "train=train.join(diabetes)"
   ]
  },
  {
   "cell_type": "code",
   "execution_count": 9,
   "id": "78c0ce38",
   "metadata": {
    "execution": {
     "iopub.execute_input": "2022-12-03T19:19:07.338633Z",
     "iopub.status.busy": "2022-12-03T19:19:07.338212Z",
     "iopub.status.idle": "2022-12-03T19:19:07.546101Z",
     "shell.execute_reply": "2022-12-03T19:19:07.544884Z"
    },
    "papermill": {
     "duration": 0.238517,
     "end_time": "2022-12-03T19:19:07.549049",
     "exception": false,
     "start_time": "2022-12-03T19:19:07.310532",
     "status": "completed"
    },
    "tags": []
   },
   "outputs": [
    {
     "data": {
      "text/html": [
       "<style type=\"text/css\">\n",
       "#T_4c8df_row0_col0, #T_4c8df_row1_col1, #T_4c8df_row2_col2, #T_4c8df_row3_col3, #T_4c8df_row4_col4, #T_4c8df_row5_col5, #T_4c8df_row6_col6, #T_4c8df_row7_col7, #T_4c8df_row8_col8, #T_4c8df_row9_col9, #T_4c8df_row10_col10, #T_4c8df_row11_col11, #T_4c8df_row12_col12, #T_4c8df_row13_col13, #T_4c8df_row14_col14, #T_4c8df_row15_col15, #T_4c8df_row16_col16, #T_4c8df_row17_col17 {\n",
       "  background-color: #b40426;\n",
       "  color: #f1f1f1;\n",
       "}\n",
       "#T_4c8df_row0_col1, #T_4c8df_row4_col1, #T_4c8df_row16_col1 {\n",
       "  background-color: #5470de;\n",
       "  color: #f1f1f1;\n",
       "}\n",
       "#T_4c8df_row0_col2 {\n",
       "  background-color: #a5c3fe;\n",
       "  color: #000000;\n",
       "}\n",
       "#T_4c8df_row0_col3, #T_4c8df_row0_col4, #T_4c8df_row2_col3 {\n",
       "  background-color: #5f7fe8;\n",
       "  color: #f1f1f1;\n",
       "}\n",
       "#T_4c8df_row0_col5, #T_4c8df_row5_col7, #T_4c8df_row9_col14, #T_4c8df_row10_col13, #T_4c8df_row16_col4 {\n",
       "  background-color: #6e90f2;\n",
       "  color: #f1f1f1;\n",
       "}\n",
       "#T_4c8df_row0_col6, #T_4c8df_row13_col6, #T_4c8df_row17_col6 {\n",
       "  background-color: #9abbff;\n",
       "  color: #000000;\n",
       "}\n",
       "#T_4c8df_row0_col7, #T_4c8df_row1_col4, #T_4c8df_row5_col16, #T_4c8df_row8_col0, #T_4c8df_row8_col11, #T_4c8df_row17_col3 {\n",
       "  background-color: #6687ed;\n",
       "  color: #f1f1f1;\n",
       "}\n",
       "#T_4c8df_row0_col8, #T_4c8df_row2_col7, #T_4c8df_row9_col11, #T_4c8df_row10_col5, #T_4c8df_row15_col3 {\n",
       "  background-color: #6485ec;\n",
       "  color: #f1f1f1;\n",
       "}\n",
       "#T_4c8df_row0_col9, #T_4c8df_row4_col0, #T_4c8df_row9_col0, #T_4c8df_row9_col15, #T_4c8df_row10_col17, #T_4c8df_row14_col3 {\n",
       "  background-color: #536edd;\n",
       "  color: #f1f1f1;\n",
       "}\n",
       "#T_4c8df_row0_col10, #T_4c8df_row1_col12, #T_4c8df_row9_col1 {\n",
       "  background-color: #445acc;\n",
       "  color: #f1f1f1;\n",
       "}\n",
       "#T_4c8df_row0_col11 {\n",
       "  background-color: #aec9fc;\n",
       "  color: #000000;\n",
       "}\n",
       "#T_4c8df_row0_col12, #T_4c8df_row8_col3, #T_4c8df_row13_col7, #T_4c8df_row13_col9 {\n",
       "  background-color: #465ecf;\n",
       "  color: #f1f1f1;\n",
       "}\n",
       "#T_4c8df_row0_col13, #T_4c8df_row14_col16, #T_4c8df_row16_col17 {\n",
       "  background-color: #94b6ff;\n",
       "  color: #000000;\n",
       "}\n",
       "#T_4c8df_row0_col14, #T_4c8df_row16_col14 {\n",
       "  background-color: #bad0f8;\n",
       "  color: #000000;\n",
       "}\n",
       "#T_4c8df_row0_col15 {\n",
       "  background-color: #c6d6f1;\n",
       "  color: #000000;\n",
       "}\n",
       "#T_4c8df_row0_col16, #T_4c8df_row12_col15, #T_4c8df_row16_col2 {\n",
       "  background-color: #7b9ff9;\n",
       "  color: #f1f1f1;\n",
       "}\n",
       "#T_4c8df_row0_col17 {\n",
       "  background-color: #bed2f6;\n",
       "  color: #000000;\n",
       "}\n",
       "#T_4c8df_row1_col0, #T_4c8df_row1_col10, #T_4c8df_row8_col15, #T_4c8df_row10_col1 {\n",
       "  background-color: #5875e1;\n",
       "  color: #f1f1f1;\n",
       "}\n",
       "#T_4c8df_row1_col2, #T_4c8df_row3_col12, #T_4c8df_row3_col16, #T_4c8df_row4_col16, #T_4c8df_row7_col1 {\n",
       "  background-color: #5d7ce6;\n",
       "  color: #f1f1f1;\n",
       "}\n",
       "#T_4c8df_row1_col3, #T_4c8df_row7_col3, #T_4c8df_row12_col1 {\n",
       "  background-color: #3c4ec2;\n",
       "  color: #f1f1f1;\n",
       "}\n",
       "#T_4c8df_row1_col5, #T_4c8df_row5_col12, #T_4c8df_row15_col12 {\n",
       "  background-color: #7597f6;\n",
       "  color: #f1f1f1;\n",
       "}\n",
       "#T_4c8df_row1_col6, #T_4c8df_row1_col14, #T_4c8df_row12_col16 {\n",
       "  background-color: #6f92f3;\n",
       "  color: #f1f1f1;\n",
       "}\n",
       "#T_4c8df_row1_col7, #T_4c8df_row2_col4, #T_4c8df_row13_col16 {\n",
       "  background-color: #8caffe;\n",
       "  color: #000000;\n",
       "}\n",
       "#T_4c8df_row1_col8, #T_4c8df_row11_col7 {\n",
       "  background-color: #3d50c3;\n",
       "  color: #f1f1f1;\n",
       "}\n",
       "#T_4c8df_row1_col9, #T_4c8df_row4_col9, #T_4c8df_row9_col16, #T_4c8df_row16_col3 {\n",
       "  background-color: #4961d2;\n",
       "  color: #f1f1f1;\n",
       "}\n",
       "#T_4c8df_row1_col11, #T_4c8df_row3_col7, #T_4c8df_row11_col5, #T_4c8df_row16_col0, #T_4c8df_row17_col16 {\n",
       "  background-color: #7ea1fa;\n",
       "  color: #f1f1f1;\n",
       "}\n",
       "#T_4c8df_row1_col13, #T_4c8df_row6_col1 {\n",
       "  background-color: #6c8ff1;\n",
       "  color: #f1f1f1;\n",
       "}\n",
       "#T_4c8df_row1_col15, #T_4c8df_row2_col5, #T_4c8df_row8_col13, #T_4c8df_row12_col5, #T_4c8df_row16_col7, #T_4c8df_row17_col5 {\n",
       "  background-color: #6a8bef;\n",
       "  color: #f1f1f1;\n",
       "}\n",
       "#T_4c8df_row1_col16, #T_4c8df_row4_col5, #T_4c8df_row11_col3 {\n",
       "  background-color: #5572df;\n",
       "  color: #f1f1f1;\n",
       "}\n",
       "#T_4c8df_row1_col17, #T_4c8df_row4_col12 {\n",
       "  background-color: #7a9df8;\n",
       "  color: #f1f1f1;\n",
       "}\n",
       "#T_4c8df_row2_col0, #T_4c8df_row4_col13, #T_4c8df_row14_col6 {\n",
       "  background-color: #a3c2fe;\n",
       "  color: #000000;\n",
       "}\n",
       "#T_4c8df_row2_col1, #T_4c8df_row9_col4, #T_4c8df_row9_col17, #T_4c8df_row10_col4 {\n",
       "  background-color: #5673e0;\n",
       "  color: #f1f1f1;\n",
       "}\n",
       "#T_4c8df_row2_col6, #T_4c8df_row3_col11, #T_4c8df_row3_col14, #T_4c8df_row13_col4 {\n",
       "  background-color: #93b5fe;\n",
       "  color: #000000;\n",
       "}\n",
       "#T_4c8df_row2_col8, #T_4c8df_row6_col10, #T_4c8df_row13_col10 {\n",
       "  background-color: #4a63d3;\n",
       "  color: #f1f1f1;\n",
       "}\n",
       "#T_4c8df_row2_col9, #T_4c8df_row2_col10, #T_4c8df_row8_col2, #T_4c8df_row8_col10, #T_4c8df_row8_col12, #T_4c8df_row10_col6, #T_4c8df_row16_col9 {\n",
       "  background-color: #4c66d6;\n",
       "  color: #f1f1f1;\n",
       "}\n",
       "#T_4c8df_row2_col11, #T_4c8df_row4_col11, #T_4c8df_row6_col14, #T_4c8df_row11_col15, #T_4c8df_row12_col14 {\n",
       "  background-color: #c4d5f3;\n",
       "  color: #000000;\n",
       "}\n",
       "#T_4c8df_row2_col12, #T_4c8df_row2_col16, #T_4c8df_row3_col2, #T_4c8df_row5_col1, #T_4c8df_row6_col4, #T_4c8df_row16_col12 {\n",
       "  background-color: #779af7;\n",
       "  color: #f1f1f1;\n",
       "}\n",
       "#T_4c8df_row2_col13, #T_4c8df_row6_col15, #T_4c8df_row11_col2, #T_4c8df_row14_col12, #T_4c8df_row15_col4 {\n",
       "  background-color: #a7c5fe;\n",
       "  color: #000000;\n",
       "}\n",
       "#T_4c8df_row2_col14, #T_4c8df_row17_col2 {\n",
       "  background-color: #b7cff9;\n",
       "  color: #000000;\n",
       "}\n",
       "#T_4c8df_row2_col15, #T_4c8df_row2_col17 {\n",
       "  background-color: #c5d6f2;\n",
       "  color: #000000;\n",
       "}\n",
       "#T_4c8df_row3_col0, #T_4c8df_row5_col0, #T_4c8df_row6_col12, #T_4c8df_row10_col14, #T_4c8df_row12_col2, #T_4c8df_row13_col0 {\n",
       "  background-color: #7699f6;\n",
       "  color: #f1f1f1;\n",
       "}\n",
       "#T_4c8df_row3_col1, #T_4c8df_row3_col5, #T_4c8df_row5_col9, #T_4c8df_row6_col9, #T_4c8df_row8_col4, #T_4c8df_row8_col16, #T_4c8df_row10_col8 {\n",
       "  background-color: #4f69d9;\n",
       "  color: #f1f1f1;\n",
       "}\n",
       "#T_4c8df_row3_col4, #T_4c8df_row10_col11, #T_4c8df_row12_col6 {\n",
       "  background-color: #7093f3;\n",
       "  color: #f1f1f1;\n",
       "}\n",
       "#T_4c8df_row3_col6, #T_4c8df_row9_col13, #T_4c8df_row15_col5 {\n",
       "  background-color: #6788ee;\n",
       "  color: #f1f1f1;\n",
       "}\n",
       "#T_4c8df_row3_col8, #T_4c8df_row7_col10, #T_4c8df_row9_col10, #T_4c8df_row15_col1, #T_4c8df_row15_col7 {\n",
       "  background-color: #5b7ae5;\n",
       "  color: #f1f1f1;\n",
       "}\n",
       "#T_4c8df_row3_col9, #T_4c8df_row8_col17, #T_4c8df_row12_col10 {\n",
       "  background-color: #5977e3;\n",
       "  color: #f1f1f1;\n",
       "}\n",
       "#T_4c8df_row3_col10, #T_4c8df_row4_col3, #T_4c8df_row9_col2, #T_4c8df_row9_col6, #T_4c8df_row10_col16, #T_4c8df_row13_col3, #T_4c8df_row16_col10 {\n",
       "  background-color: #4e68d8;\n",
       "  color: #f1f1f1;\n",
       "}\n",
       "#T_4c8df_row3_col13, #T_4c8df_row5_col17, #T_4c8df_row7_col9 {\n",
       "  background-color: #85a8fc;\n",
       "  color: #f1f1f1;\n",
       "}\n",
       "#T_4c8df_row3_col15 {\n",
       "  background-color: #86a9fc;\n",
       "  color: #f1f1f1;\n",
       "}\n",
       "#T_4c8df_row3_col17, #T_4c8df_row11_col16 {\n",
       "  background-color: #90b2fe;\n",
       "  color: #000000;\n",
       "}\n",
       "#T_4c8df_row4_col2 {\n",
       "  background-color: #81a4fb;\n",
       "  color: #f1f1f1;\n",
       "}\n",
       "#T_4c8df_row4_col6, #T_4c8df_row5_col4, #T_4c8df_row5_col10, #T_4c8df_row6_col7 {\n",
       "  background-color: #688aef;\n",
       "  color: #f1f1f1;\n",
       "}\n",
       "#T_4c8df_row4_col7, #T_4c8df_row10_col15 {\n",
       "  background-color: #5a78e4;\n",
       "  color: #f1f1f1;\n",
       "}\n",
       "#T_4c8df_row4_col8, #T_4c8df_row5_col8, #T_4c8df_row14_col9 {\n",
       "  background-color: #4055c8;\n",
       "  color: #f1f1f1;\n",
       "}\n",
       "#T_4c8df_row4_col10, #T_4c8df_row14_col8, #T_4c8df_row14_col10 {\n",
       "  background-color: #455cce;\n",
       "  color: #f1f1f1;\n",
       "}\n",
       "#T_4c8df_row4_col14 {\n",
       "  background-color: #c0d4f5;\n",
       "  color: #000000;\n",
       "}\n",
       "#T_4c8df_row4_col15 {\n",
       "  background-color: #a6c4fe;\n",
       "  color: #000000;\n",
       "}\n",
       "#T_4c8df_row4_col17 {\n",
       "  background-color: #bbd1f8;\n",
       "  color: #000000;\n",
       "}\n",
       "#T_4c8df_row5_col2, #T_4c8df_row14_col5 {\n",
       "  background-color: #7396f5;\n",
       "  color: #f1f1f1;\n",
       "}\n",
       "#T_4c8df_row5_col3, #T_4c8df_row14_col1 {\n",
       "  background-color: #3f53c6;\n",
       "  color: #f1f1f1;\n",
       "}\n",
       "#T_4c8df_row5_col6, #T_4c8df_row5_col15, #T_4c8df_row17_col12 {\n",
       "  background-color: #799cf8;\n",
       "  color: #f1f1f1;\n",
       "}\n",
       "#T_4c8df_row5_col11 {\n",
       "  background-color: #a9c6fd;\n",
       "  color: #000000;\n",
       "}\n",
       "#T_4c8df_row5_col13, #T_4c8df_row14_col0 {\n",
       "  background-color: #97b8ff;\n",
       "  color: #000000;\n",
       "}\n",
       "#T_4c8df_row5_col14 {\n",
       "  background-color: #a2c1ff;\n",
       "  color: #000000;\n",
       "}\n",
       "#T_4c8df_row6_col0, #T_4c8df_row9_col8 {\n",
       "  background-color: #9bbcff;\n",
       "  color: #000000;\n",
       "}\n",
       "#T_4c8df_row6_col2, #T_4c8df_row14_col2 {\n",
       "  background-color: #96b7ff;\n",
       "  color: #000000;\n",
       "}\n",
       "#T_4c8df_row6_col3, #T_4c8df_row6_col8, #T_4c8df_row8_col6, #T_4c8df_row10_col2, #T_4c8df_row11_col1, #T_4c8df_row16_col8, #T_4c8df_row17_col7 {\n",
       "  background-color: #516ddb;\n",
       "  color: #f1f1f1;\n",
       "}\n",
       "#T_4c8df_row6_col5, #T_4c8df_row8_col14, #T_4c8df_row13_col5 {\n",
       "  background-color: #7295f4;\n",
       "  color: #f1f1f1;\n",
       "}\n",
       "#T_4c8df_row6_col11 {\n",
       "  background-color: #cad8ef;\n",
       "  color: #000000;\n",
       "}\n",
       "#T_4c8df_row6_col13 {\n",
       "  background-color: #b5cdfa;\n",
       "  color: #000000;\n",
       "}\n",
       "#T_4c8df_row6_col16, #T_4c8df_row8_col9, #T_4c8df_row15_col6 {\n",
       "  background-color: #9dbdff;\n",
       "  color: #000000;\n",
       "}\n",
       "#T_4c8df_row6_col17, #T_4c8df_row8_col7, #T_4c8df_row9_col7 {\n",
       "  background-color: #abc8fd;\n",
       "  color: #000000;\n",
       "}\n",
       "#T_4c8df_row7_col0, #T_4c8df_row7_col2, #T_4c8df_row7_col4, #T_4c8df_row7_col5, #T_4c8df_row7_col6, #T_4c8df_row7_col11, #T_4c8df_row7_col12, #T_4c8df_row7_col13, #T_4c8df_row7_col14, #T_4c8df_row7_col15, #T_4c8df_row7_col16, #T_4c8df_row7_col17, #T_4c8df_row8_col1, #T_4c8df_row8_col5, #T_4c8df_row10_col3, #T_4c8df_row11_col8, #T_4c8df_row11_col9, #T_4c8df_row14_col7, #T_4c8df_row17_col10 {\n",
       "  background-color: #3b4cc0;\n",
       "  color: #f1f1f1;\n",
       "}\n",
       "#T_4c8df_row7_col8 {\n",
       "  background-color: #84a7fc;\n",
       "  color: #f1f1f1;\n",
       "}\n",
       "#T_4c8df_row9_col3, #T_4c8df_row12_col0, #T_4c8df_row12_col3, #T_4c8df_row17_col9 {\n",
       "  background-color: #4257c9;\n",
       "  color: #f1f1f1;\n",
       "}\n",
       "#T_4c8df_row9_col5, #T_4c8df_row10_col0, #T_4c8df_row12_col8, #T_4c8df_row13_col1, #T_4c8df_row13_col8, #T_4c8df_row15_col9 {\n",
       "  background-color: #485fd1;\n",
       "  color: #f1f1f1;\n",
       "}\n",
       "#T_4c8df_row9_col12 {\n",
       "  background-color: #506bda;\n",
       "  color: #f1f1f1;\n",
       "}\n",
       "#T_4c8df_row10_col7, #T_4c8df_row11_col0 {\n",
       "  background-color: #8badfd;\n",
       "  color: #000000;\n",
       "}\n",
       "#T_4c8df_row10_col9 {\n",
       "  background-color: #5e7de7;\n",
       "  color: #f1f1f1;\n",
       "}\n",
       "#T_4c8df_row10_col12 {\n",
       "  background-color: #6180e9;\n",
       "  color: #f1f1f1;\n",
       "}\n",
       "#T_4c8df_row11_col4, #T_4c8df_row13_col17, #T_4c8df_row15_col13, #T_4c8df_row17_col0 {\n",
       "  background-color: #afcafc;\n",
       "  color: #000000;\n",
       "}\n",
       "#T_4c8df_row11_col6 {\n",
       "  background-color: #adc9fd;\n",
       "  color: #000000;\n",
       "}\n",
       "#T_4c8df_row11_col10, #T_4c8df_row17_col8 {\n",
       "  background-color: #4358cb;\n",
       "  color: #f1f1f1;\n",
       "}\n",
       "#T_4c8df_row11_col12, #T_4c8df_row17_col13 {\n",
       "  background-color: #b9d0f9;\n",
       "  color: #000000;\n",
       "}\n",
       "#T_4c8df_row11_col13 {\n",
       "  background-color: #f4c6af;\n",
       "  color: #000000;\n",
       "}\n",
       "#T_4c8df_row11_col14 {\n",
       "  background-color: #f0cdbb;\n",
       "  color: #000000;\n",
       "}\n",
       "#T_4c8df_row11_col17 {\n",
       "  background-color: #dddcdc;\n",
       "  color: #000000;\n",
       "}\n",
       "#T_4c8df_row12_col4 {\n",
       "  background-color: #82a6fb;\n",
       "  color: #f1f1f1;\n",
       "}\n",
       "#T_4c8df_row12_col7, #T_4c8df_row17_col1 {\n",
       "  background-color: #6282ea;\n",
       "  color: #f1f1f1;\n",
       "}\n",
       "#T_4c8df_row12_col9, #T_4c8df_row15_col8, #T_4c8df_row15_col10 {\n",
       "  background-color: #4b64d5;\n",
       "  color: #f1f1f1;\n",
       "}\n",
       "#T_4c8df_row12_col11 {\n",
       "  background-color: #cfdaea;\n",
       "  color: #000000;\n",
       "}\n",
       "#T_4c8df_row12_col13, #T_4c8df_row15_col17 {\n",
       "  background-color: #d8dce2;\n",
       "  color: #000000;\n",
       "}\n",
       "#T_4c8df_row12_col17 {\n",
       "  background-color: #89acfd;\n",
       "  color: #000000;\n",
       "}\n",
       "#T_4c8df_row13_col2, #T_4c8df_row16_col15 {\n",
       "  background-color: #8db0fe;\n",
       "  color: #000000;\n",
       "}\n",
       "#T_4c8df_row13_col11 {\n",
       "  background-color: #f5c2aa;\n",
       "  color: #000000;\n",
       "}\n",
       "#T_4c8df_row13_col12 {\n",
       "  background-color: #c9d7f0;\n",
       "  color: #000000;\n",
       "}\n",
       "#T_4c8df_row13_col14 {\n",
       "  background-color: #f1ccb8;\n",
       "  color: #000000;\n",
       "}\n",
       "#T_4c8df_row13_col15, #T_4c8df_row16_col6 {\n",
       "  background-color: #9fbfff;\n",
       "  color: #000000;\n",
       "}\n",
       "#T_4c8df_row14_col4, #T_4c8df_row16_col13 {\n",
       "  background-color: #aac7fd;\n",
       "  color: #000000;\n",
       "}\n",
       "#T_4c8df_row14_col11 {\n",
       "  background-color: #efcebd;\n",
       "  color: #000000;\n",
       "}\n",
       "#T_4c8df_row14_col13 {\n",
       "  background-color: #efcfbf;\n",
       "  color: #000000;\n",
       "}\n",
       "#T_4c8df_row14_col15 {\n",
       "  background-color: #b2ccfb;\n",
       "  color: #000000;\n",
       "}\n",
       "#T_4c8df_row14_col17 {\n",
       "  background-color: #c3d5f4;\n",
       "  color: #000000;\n",
       "}\n",
       "#T_4c8df_row15_col0, #T_4c8df_row15_col2 {\n",
       "  background-color: #bfd3f6;\n",
       "  color: #000000;\n",
       "}\n",
       "#T_4c8df_row15_col11 {\n",
       "  background-color: #d5dbe5;\n",
       "  color: #000000;\n",
       "}\n",
       "#T_4c8df_row15_col14 {\n",
       "  background-color: #c7d7f0;\n",
       "  color: #000000;\n",
       "}\n",
       "#T_4c8df_row15_col16 {\n",
       "  background-color: #80a3fa;\n",
       "  color: #f1f1f1;\n",
       "}\n",
       "#T_4c8df_row16_col5 {\n",
       "  background-color: #6384eb;\n",
       "  color: #f1f1f1;\n",
       "}\n",
       "#T_4c8df_row16_col11, #T_4c8df_row17_col4 {\n",
       "  background-color: #b6cefa;\n",
       "  color: #000000;\n",
       "}\n",
       "#T_4c8df_row17_col11 {\n",
       "  background-color: #e6d7cf;\n",
       "  color: #000000;\n",
       "}\n",
       "#T_4c8df_row17_col14 {\n",
       "  background-color: #d1dae9;\n",
       "  color: #000000;\n",
       "}\n",
       "#T_4c8df_row17_col15 {\n",
       "  background-color: #d4dbe6;\n",
       "  color: #000000;\n",
       "}\n",
       "</style>\n",
       "<table id=\"T_4c8df_\">\n",
       "  <thead>\n",
       "    <tr>\n",
       "      <th class=\"blank level0\" >&nbsp;</th>\n",
       "      <th class=\"col_heading level0 col0\" >Age</th>\n",
       "      <th class=\"col_heading level0 col1\" >Sex</th>\n",
       "      <th class=\"col_heading level0 col2\" >HighChol</th>\n",
       "      <th class=\"col_heading level0 col3\" >CholCheck</th>\n",
       "      <th class=\"col_heading level0 col4\" >BMI</th>\n",
       "      <th class=\"col_heading level0 col5\" >Smoker</th>\n",
       "      <th class=\"col_heading level0 col6\" >HeartDiseaseorAttack</th>\n",
       "      <th class=\"col_heading level0 col7\" >PhysActivity</th>\n",
       "      <th class=\"col_heading level0 col8\" >Fruits</th>\n",
       "      <th class=\"col_heading level0 col9\" >Veggies</th>\n",
       "      <th class=\"col_heading level0 col10\" >HvyAlcoholConsump</th>\n",
       "      <th class=\"col_heading level0 col11\" >GenHlth</th>\n",
       "      <th class=\"col_heading level0 col12\" >MentHlth</th>\n",
       "      <th class=\"col_heading level0 col13\" >PhysHlth</th>\n",
       "      <th class=\"col_heading level0 col14\" >DiffWalk</th>\n",
       "      <th class=\"col_heading level0 col15\" >Hypertension</th>\n",
       "      <th class=\"col_heading level0 col16\" >Stroke</th>\n",
       "      <th class=\"col_heading level0 col17\" >Diabetes</th>\n",
       "    </tr>\n",
       "  </thead>\n",
       "  <tbody>\n",
       "    <tr>\n",
       "      <th id=\"T_4c8df_level0_row0\" class=\"row_heading level0 row0\" >Age</th>\n",
       "      <td id=\"T_4c8df_row0_col0\" class=\"data row0 col0\" >1.000000</td>\n",
       "      <td id=\"T_4c8df_row0_col1\" class=\"data row0 col1\" >-0.002097</td>\n",
       "      <td id=\"T_4c8df_row0_col2\" class=\"data row0 col2\" >0.240798</td>\n",
       "      <td id=\"T_4c8df_row0_col3\" class=\"data row0 col3\" >0.096641</td>\n",
       "      <td id=\"T_4c8df_row0_col4\" class=\"data row0 col4\" >-0.020402</td>\n",
       "      <td id=\"T_4c8df_row0_col5\" class=\"data row0 col5\" >0.094777</td>\n",
       "      <td id=\"T_4c8df_row0_col6\" class=\"data row0 col6\" >0.215550</td>\n",
       "      <td id=\"T_4c8df_row0_col7\" class=\"data row0 col7\" >-0.108896</td>\n",
       "      <td id=\"T_4c8df_row0_col8\" class=\"data row0 col8\" >0.045859</td>\n",
       "      <td id=\"T_4c8df_row0_col9\" class=\"data row0 col9\" >-0.019363</td>\n",
       "      <td id=\"T_4c8df_row0_col10\" class=\"data row0 col10\" >-0.057817</td>\n",
       "      <td id=\"T_4c8df_row0_col11\" class=\"data row0 col11\" >0.163867</td>\n",
       "      <td id=\"T_4c8df_row0_col12\" class=\"data row0 col12\" >-0.079316</td>\n",
       "      <td id=\"T_4c8df_row0_col13\" class=\"data row0 col13\" >0.098262</td>\n",
       "      <td id=\"T_4c8df_row0_col14\" class=\"data row0 col14\" >0.200999</td>\n",
       "      <td id=\"T_4c8df_row0_col15\" class=\"data row0 col15\" >0.329729</td>\n",
       "      <td id=\"T_4c8df_row0_col16\" class=\"data row0 col16\" >0.123777</td>\n",
       "      <td id=\"T_4c8df_row0_col17\" class=\"data row0 col17\" >0.277494</td>\n",
       "    </tr>\n",
       "    <tr>\n",
       "      <th id=\"T_4c8df_level0_row1\" class=\"row_heading level0 row1\" >Sex</th>\n",
       "      <td id=\"T_4c8df_row1_col0\" class=\"data row1 col0\" >-0.002097</td>\n",
       "      <td id=\"T_4c8df_row1_col1\" class=\"data row1 col1\" >1.000000</td>\n",
       "      <td id=\"T_4c8df_row1_col2\" class=\"data row1 col2\" >0.008754</td>\n",
       "      <td id=\"T_4c8df_row1_col3\" class=\"data row1 col3\" >-0.019417</td>\n",
       "      <td id=\"T_4c8df_row1_col4\" class=\"data row1 col4\" >0.000112</td>\n",
       "      <td id=\"T_4c8df_row1_col5\" class=\"data row1 col5\" >0.115139</td>\n",
       "      <td id=\"T_4c8df_row1_col6\" class=\"data row1 col6\" >0.079333</td>\n",
       "      <td id=\"T_4c8df_row1_col7\" class=\"data row1 col7\" >0.029018</td>\n",
       "      <td id=\"T_4c8df_row1_col8\" class=\"data row1 col8\" >-0.093550</td>\n",
       "      <td id=\"T_4c8df_row1_col9\" class=\"data row1 col9\" >-0.055226</td>\n",
       "      <td id=\"T_4c8df_row1_col10\" class=\"data row1 col10\" >0.010888</td>\n",
       "      <td id=\"T_4c8df_row1_col11\" class=\"data row1 col11\" >-0.009511</td>\n",
       "      <td id=\"T_4c8df_row1_col12\" class=\"data row1 col12\" >-0.086326</td>\n",
       "      <td id=\"T_4c8df_row1_col13\" class=\"data row1 col13\" >-0.044244</td>\n",
       "      <td id=\"T_4c8df_row1_col14\" class=\"data row1 col14\" >-0.074314</td>\n",
       "      <td id=\"T_4c8df_row1_col15\" class=\"data row1 col15\" >0.021942</td>\n",
       "      <td id=\"T_4c8df_row1_col16\" class=\"data row1 col16\" >0.000156</td>\n",
       "      <td id=\"T_4c8df_row1_col17\" class=\"data row1 col17\" >0.045003</td>\n",
       "    </tr>\n",
       "    <tr>\n",
       "      <th id=\"T_4c8df_level0_row2\" class=\"row_heading level0 row2\" >HighChol</th>\n",
       "      <td id=\"T_4c8df_row2_col0\" class=\"data row2 col0\" >0.240798</td>\n",
       "      <td id=\"T_4c8df_row2_col1\" class=\"data row2 col1\" >0.008754</td>\n",
       "      <td id=\"T_4c8df_row2_col2\" class=\"data row2 col2\" >1.000000</td>\n",
       "      <td id=\"T_4c8df_row2_col3\" class=\"data row2 col3\" >0.095607</td>\n",
       "      <td id=\"T_4c8df_row2_col4\" class=\"data row2 col4\" >0.127620</td>\n",
       "      <td id=\"T_4c8df_row2_col5\" class=\"data row2 col5\" >0.082163</td>\n",
       "      <td id=\"T_4c8df_row2_col6\" class=\"data row2 col6\" >0.191135</td>\n",
       "      <td id=\"T_4c8df_row2_col7\" class=\"data row2 col7\" >-0.114567</td>\n",
       "      <td id=\"T_4c8df_row2_col8\" class=\"data row2 col8\" >-0.047220</td>\n",
       "      <td id=\"T_4c8df_row2_col9\" class=\"data row2 col9\" >-0.040638</td>\n",
       "      <td id=\"T_4c8df_row2_col10\" class=\"data row2 col10\" >-0.029694</td>\n",
       "      <td id=\"T_4c8df_row2_col11\" class=\"data row2 col11\" >0.248873</td>\n",
       "      <td id=\"T_4c8df_row2_col12\" class=\"data row2 col12\" >0.090274</td>\n",
       "      <td id=\"T_4c8df_row2_col13\" class=\"data row2 col13\" >0.164805</td>\n",
       "      <td id=\"T_4c8df_row2_col14\" class=\"data row2 col14\" >0.190382</td>\n",
       "      <td id=\"T_4c8df_row2_col15\" class=\"data row2 col15\" >0.327845</td>\n",
       "      <td id=\"T_4c8df_row2_col16\" class=\"data row2 col16\" >0.111606</td>\n",
       "      <td id=\"T_4c8df_row2_col17\" class=\"data row2 col17\" >0.302967</td>\n",
       "    </tr>\n",
       "    <tr>\n",
       "      <th id=\"T_4c8df_level0_row3\" class=\"row_heading level0 row3\" >CholCheck</th>\n",
       "      <td id=\"T_4c8df_row3_col0\" class=\"data row3 col0\" >0.096641</td>\n",
       "      <td id=\"T_4c8df_row3_col1\" class=\"data row3 col1\" >-0.019417</td>\n",
       "      <td id=\"T_4c8df_row3_col2\" class=\"data row3 col2\" >0.095607</td>\n",
       "      <td id=\"T_4c8df_row3_col3\" class=\"data row3 col3\" >1.000000</td>\n",
       "      <td id=\"T_4c8df_row3_col4\" class=\"data row3 col4\" >0.039727</td>\n",
       "      <td id=\"T_4c8df_row3_col5\" class=\"data row3 col5\" >-0.006287</td>\n",
       "      <td id=\"T_4c8df_row3_col6\" class=\"data row3 col6\" >0.052814</td>\n",
       "      <td id=\"T_4c8df_row3_col7\" class=\"data row3 col7\" >-0.018859</td>\n",
       "      <td id=\"T_4c8df_row3_col8\" class=\"data row3 col8\" >0.016761</td>\n",
       "      <td id=\"T_4c8df_row3_col9\" class=\"data row3 col9\" >0.000755</td>\n",
       "      <td id=\"T_4c8df_row3_col10\" class=\"data row3 col10\" >-0.025167</td>\n",
       "      <td id=\"T_4c8df_row3_col11\" class=\"data row3 col11\" >0.063805</td>\n",
       "      <td id=\"T_4c8df_row3_col12\" class=\"data row3 col12\" >-0.000751</td>\n",
       "      <td id=\"T_4c8df_row3_col13\" class=\"data row3 col13\" >0.042520</td>\n",
       "      <td id=\"T_4c8df_row3_col14\" class=\"data row3 col14\" >0.057295</td>\n",
       "      <td id=\"T_4c8df_row3_col15\" class=\"data row3 col15\" >0.114878</td>\n",
       "      <td id=\"T_4c8df_row3_col16\" class=\"data row3 col16\" >0.025769</td>\n",
       "      <td id=\"T_4c8df_row3_col17\" class=\"data row3 col17\" >0.117524</td>\n",
       "    </tr>\n",
       "    <tr>\n",
       "      <th id=\"T_4c8df_level0_row4\" class=\"row_heading level0 row4\" >BMI</th>\n",
       "      <td id=\"T_4c8df_row4_col0\" class=\"data row4 col0\" >-0.020402</td>\n",
       "      <td id=\"T_4c8df_row4_col1\" class=\"data row4 col1\" >0.000112</td>\n",
       "      <td id=\"T_4c8df_row4_col2\" class=\"data row4 col2\" >0.127620</td>\n",
       "      <td id=\"T_4c8df_row4_col3\" class=\"data row4 col3\" >0.039727</td>\n",
       "      <td id=\"T_4c8df_row4_col4\" class=\"data row4 col4\" >1.000000</td>\n",
       "      <td id=\"T_4c8df_row4_col5\" class=\"data row4 col5\" >0.013241</td>\n",
       "      <td id=\"T_4c8df_row4_col6\" class=\"data row4 col6\" >0.060183</td>\n",
       "      <td id=\"T_4c8df_row4_col7\" class=\"data row4 col7\" >-0.158526</td>\n",
       "      <td id=\"T_4c8df_row4_col8\" class=\"data row4 col8\" >-0.077959</td>\n",
       "      <td id=\"T_4c8df_row4_col9\" class=\"data row4 col9\" >-0.052028</td>\n",
       "      <td id=\"T_4c8df_row4_col10\" class=\"data row4 col10\" >-0.053541</td>\n",
       "      <td id=\"T_4c8df_row4_col11\" class=\"data row4 col11\" >0.247145</td>\n",
       "      <td id=\"T_4c8df_row4_col12\" class=\"data row4 col12\" >0.099113</td>\n",
       "      <td id=\"T_4c8df_row4_col13\" class=\"data row4 col13\" >0.152925</td>\n",
       "      <td id=\"T_4c8df_row4_col14\" class=\"data row4 col14\" >0.226328</td>\n",
       "      <td id=\"T_4c8df_row4_col15\" class=\"data row4 col15\" >0.219422</td>\n",
       "      <td id=\"T_4c8df_row4_col16\" class=\"data row4 col16\" >0.028073</td>\n",
       "      <td id=\"T_4c8df_row4_col17\" class=\"data row4 col17\" >0.269473</td>\n",
       "    </tr>\n",
       "    <tr>\n",
       "      <th id=\"T_4c8df_level0_row5\" class=\"row_heading level0 row5\" >Smoker</th>\n",
       "      <td id=\"T_4c8df_row5_col0\" class=\"data row5 col0\" >0.094777</td>\n",
       "      <td id=\"T_4c8df_row5_col1\" class=\"data row5 col1\" >0.115139</td>\n",
       "      <td id=\"T_4c8df_row5_col2\" class=\"data row5 col2\" >0.082163</td>\n",
       "      <td id=\"T_4c8df_row5_col3\" class=\"data row5 col3\" >-0.006287</td>\n",
       "      <td id=\"T_4c8df_row5_col4\" class=\"data row5 col4\" >0.013241</td>\n",
       "      <td id=\"T_4c8df_row5_col5\" class=\"data row5 col5\" >1.000000</td>\n",
       "      <td id=\"T_4c8df_row5_col6\" class=\"data row5 col6\" >0.107884</td>\n",
       "      <td id=\"T_4c8df_row5_col7\" class=\"data row5 col7\" >-0.080798</td>\n",
       "      <td id=\"T_4c8df_row5_col8\" class=\"data row5 col8\" >-0.080267</td>\n",
       "      <td id=\"T_4c8df_row5_col9\" class=\"data row5 col9\" >-0.033211</td>\n",
       "      <td id=\"T_4c8df_row5_col10\" class=\"data row5 col10\" >0.065372</td>\n",
       "      <td id=\"T_4c8df_row5_col11\" class=\"data row5 col11\" >0.143294</td>\n",
       "      <td id=\"T_4c8df_row5_col12\" class=\"data row5 col12\" >0.079640</td>\n",
       "      <td id=\"T_4c8df_row5_col13\" class=\"data row5 col13\" >0.107977</td>\n",
       "      <td id=\"T_4c8df_row5_col14\" class=\"data row5 col14\" >0.111862</td>\n",
       "      <td id=\"T_4c8df_row5_col15\" class=\"data row5 col15\" >0.071685</td>\n",
       "      <td id=\"T_4c8df_row5_col16\" class=\"data row5 col16\" >0.059069</td>\n",
       "      <td id=\"T_4c8df_row5_col17\" class=\"data row5 col17\" >0.081853</td>\n",
       "    </tr>\n",
       "    <tr>\n",
       "      <th id=\"T_4c8df_level0_row6\" class=\"row_heading level0 row6\" >HeartDiseaseorAttack</th>\n",
       "      <td id=\"T_4c8df_row6_col0\" class=\"data row6 col0\" >0.215550</td>\n",
       "      <td id=\"T_4c8df_row6_col1\" class=\"data row6 col1\" >0.079333</td>\n",
       "      <td id=\"T_4c8df_row6_col2\" class=\"data row6 col2\" >0.191135</td>\n",
       "      <td id=\"T_4c8df_row6_col3\" class=\"data row6 col3\" >0.052814</td>\n",
       "      <td id=\"T_4c8df_row6_col4\" class=\"data row6 col4\" >0.060183</td>\n",
       "      <td id=\"T_4c8df_row6_col5\" class=\"data row6 col5\" >0.107884</td>\n",
       "      <td id=\"T_4c8df_row6_col6\" class=\"data row6 col6\" >1.000000</td>\n",
       "      <td id=\"T_4c8df_row6_col7\" class=\"data row6 col7\" >-0.103317</td>\n",
       "      <td id=\"T_4c8df_row6_col8\" class=\"data row6 col8\" >-0.019834</td>\n",
       "      <td id=\"T_4c8df_row6_col9\" class=\"data row6 col9\" >-0.031134</td>\n",
       "      <td id=\"T_4c8df_row6_col10\" class=\"data row6 col10\" >-0.037415</td>\n",
       "      <td id=\"T_4c8df_row6_col11\" class=\"data row6 col11\" >0.275086</td>\n",
       "      <td id=\"T_4c8df_row6_col12\" class=\"data row6 col12\" >0.082990</td>\n",
       "      <td id=\"T_4c8df_row6_col13\" class=\"data row6 col13\" >0.213011</td>\n",
       "      <td id=\"T_4c8df_row6_col14\" class=\"data row6 col14\" >0.243683</td>\n",
       "      <td id=\"T_4c8df_row6_col15\" class=\"data row6 col15\" >0.223436</td>\n",
       "      <td id=\"T_4c8df_row6_col16\" class=\"data row6 col16\" >0.228989</td>\n",
       "      <td id=\"T_4c8df_row6_col17\" class=\"data row6 col17\" >0.212559</td>\n",
       "    </tr>\n",
       "    <tr>\n",
       "      <th id=\"T_4c8df_level0_row7\" class=\"row_heading level0 row7\" >PhysActivity</th>\n",
       "      <td id=\"T_4c8df_row7_col0\" class=\"data row7 col0\" >-0.108896</td>\n",
       "      <td id=\"T_4c8df_row7_col1\" class=\"data row7 col1\" >0.029018</td>\n",
       "      <td id=\"T_4c8df_row7_col2\" class=\"data row7 col2\" >-0.114567</td>\n",
       "      <td id=\"T_4c8df_row7_col3\" class=\"data row7 col3\" >-0.018859</td>\n",
       "      <td id=\"T_4c8df_row7_col4\" class=\"data row7 col4\" >-0.158526</td>\n",
       "      <td id=\"T_4c8df_row7_col5\" class=\"data row7 col5\" >-0.080798</td>\n",
       "      <td id=\"T_4c8df_row7_col6\" class=\"data row7 col6\" >-0.103317</td>\n",
       "      <td id=\"T_4c8df_row7_col7\" class=\"data row7 col7\" >1.000000</td>\n",
       "      <td id=\"T_4c8df_row7_col8\" class=\"data row7 col8\" >0.144350</td>\n",
       "      <td id=\"T_4c8df_row7_col9\" class=\"data row7 col9\" >0.145231</td>\n",
       "      <td id=\"T_4c8df_row7_col10\" class=\"data row7 col10\" >0.024938</td>\n",
       "      <td id=\"T_4c8df_row7_col11\" class=\"data row7 col11\" >-0.279062</td>\n",
       "      <td id=\"T_4c8df_row7_col12\" class=\"data row7 col12\" >-0.123778</td>\n",
       "      <td id=\"T_4c8df_row7_col13\" class=\"data row7 col13\" >-0.238606</td>\n",
       "      <td id=\"T_4c8df_row7_col14\" class=\"data row7 col14\" >-0.289726</td>\n",
       "      <td id=\"T_4c8df_row7_col15\" class=\"data row7 col15\" >-0.151696</td>\n",
       "      <td id=\"T_4c8df_row7_col16\" class=\"data row7 col16\" >-0.094786</td>\n",
       "      <td id=\"T_4c8df_row7_col17\" class=\"data row7 col17\" >-0.190228</td>\n",
       "    </tr>\n",
       "    <tr>\n",
       "      <th id=\"T_4c8df_level0_row8\" class=\"row_heading level0 row8\" >Fruits</th>\n",
       "      <td id=\"T_4c8df_row8_col0\" class=\"data row8 col0\" >0.045859</td>\n",
       "      <td id=\"T_4c8df_row8_col1\" class=\"data row8 col1\" >-0.093550</td>\n",
       "      <td id=\"T_4c8df_row8_col2\" class=\"data row8 col2\" >-0.047220</td>\n",
       "      <td id=\"T_4c8df_row8_col3\" class=\"data row8 col3\" >0.016761</td>\n",
       "      <td id=\"T_4c8df_row8_col4\" class=\"data row8 col4\" >-0.077959</td>\n",
       "      <td id=\"T_4c8df_row8_col5\" class=\"data row8 col5\" >-0.080267</td>\n",
       "      <td id=\"T_4c8df_row8_col6\" class=\"data row8 col6\" >-0.019834</td>\n",
       "      <td id=\"T_4c8df_row8_col7\" class=\"data row8 col7\" >0.144350</td>\n",
       "      <td id=\"T_4c8df_row8_col8\" class=\"data row8 col8\" >1.000000</td>\n",
       "      <td id=\"T_4c8df_row8_col9\" class=\"data row8 col9\" >0.219489</td>\n",
       "      <td id=\"T_4c8df_row8_col10\" class=\"data row8 col10\" >-0.028450</td>\n",
       "      <td id=\"T_4c8df_row8_col11\" class=\"data row8 col11\" >-0.103278</td>\n",
       "      <td id=\"T_4c8df_row8_col12\" class=\"data row8 col12\" >-0.055116</td>\n",
       "      <td id=\"T_4c8df_row8_col13\" class=\"data row8 col13\" >-0.053632</td>\n",
       "      <td id=\"T_4c8df_row8_col14\" class=\"data row8 col14\" >-0.063552</td>\n",
       "      <td id=\"T_4c8df_row8_col15\" class=\"data row8 col15\" >-0.041417</td>\n",
       "      <td id=\"T_4c8df_row8_col16\" class=\"data row8 col16\" >-0.018622</td>\n",
       "      <td id=\"T_4c8df_row8_col17\" class=\"data row8 col17\" >-0.072131</td>\n",
       "    </tr>\n",
       "    <tr>\n",
       "      <th id=\"T_4c8df_level0_row9\" class=\"row_heading level0 row9\" >Veggies</th>\n",
       "      <td id=\"T_4c8df_row9_col0\" class=\"data row9 col0\" >-0.019363</td>\n",
       "      <td id=\"T_4c8df_row9_col1\" class=\"data row9 col1\" >-0.055226</td>\n",
       "      <td id=\"T_4c8df_row9_col2\" class=\"data row9 col2\" >-0.040638</td>\n",
       "      <td id=\"T_4c8df_row9_col3\" class=\"data row9 col3\" >0.000755</td>\n",
       "      <td id=\"T_4c8df_row9_col4\" class=\"data row9 col4\" >-0.052028</td>\n",
       "      <td id=\"T_4c8df_row9_col5\" class=\"data row9 col5\" >-0.033211</td>\n",
       "      <td id=\"T_4c8df_row9_col6\" class=\"data row9 col6\" >-0.031134</td>\n",
       "      <td id=\"T_4c8df_row9_col7\" class=\"data row9 col7\" >0.145231</td>\n",
       "      <td id=\"T_4c8df_row9_col8\" class=\"data row9 col8\" >0.219489</td>\n",
       "      <td id=\"T_4c8df_row9_col9\" class=\"data row9 col9\" >1.000000</td>\n",
       "      <td id=\"T_4c8df_row9_col10\" class=\"data row9 col10\" >0.021605</td>\n",
       "      <td id=\"T_4c8df_row9_col11\" class=\"data row9 col11\" >-0.107394</td>\n",
       "      <td id=\"T_4c8df_row9_col12\" class=\"data row9 col12\" >-0.044691</td>\n",
       "      <td id=\"T_4c8df_row9_col13\" class=\"data row9 col13\" >-0.061836</td>\n",
       "      <td id=\"T_4c8df_row9_col14\" class=\"data row9 col14\" >-0.082044</td>\n",
       "      <td id=\"T_4c8df_row9_col15\" class=\"data row9 col15\" >-0.059761</td>\n",
       "      <td id=\"T_4c8df_row9_col16\" class=\"data row9 col16\" >-0.041659</td>\n",
       "      <td id=\"T_4c8df_row9_col17\" class=\"data row9 col17\" >-0.080991</td>\n",
       "    </tr>\n",
       "    <tr>\n",
       "      <th id=\"T_4c8df_level0_row10\" class=\"row_heading level0 row10\" >HvyAlcoholConsump</th>\n",
       "      <td id=\"T_4c8df_row10_col0\" class=\"data row10 col0\" >-0.057817</td>\n",
       "      <td id=\"T_4c8df_row10_col1\" class=\"data row10 col1\" >0.010888</td>\n",
       "      <td id=\"T_4c8df_row10_col2\" class=\"data row10 col2\" >-0.029694</td>\n",
       "      <td id=\"T_4c8df_row10_col3\" class=\"data row10 col3\" >-0.025167</td>\n",
       "      <td id=\"T_4c8df_row10_col4\" class=\"data row10 col4\" >-0.053541</td>\n",
       "      <td id=\"T_4c8df_row10_col5\" class=\"data row10 col5\" >0.065372</td>\n",
       "      <td id=\"T_4c8df_row10_col6\" class=\"data row10 col6\" >-0.037415</td>\n",
       "      <td id=\"T_4c8df_row10_col7\" class=\"data row10 col7\" >0.024938</td>\n",
       "      <td id=\"T_4c8df_row10_col8\" class=\"data row10 col8\" >-0.028450</td>\n",
       "      <td id=\"T_4c8df_row10_col9\" class=\"data row10 col9\" >0.021605</td>\n",
       "      <td id=\"T_4c8df_row10_col10\" class=\"data row10 col10\" >1.000000</td>\n",
       "      <td id=\"T_4c8df_row10_col11\" class=\"data row10 col11\" >-0.060093</td>\n",
       "      <td id=\"T_4c8df_row10_col12\" class=\"data row10 col12\" >0.014114</td>\n",
       "      <td id=\"T_4c8df_row10_col13\" class=\"data row10 col13\" >-0.038647</td>\n",
       "      <td id=\"T_4c8df_row10_col14\" class=\"data row10 col14\" >-0.052383</td>\n",
       "      <td id=\"T_4c8df_row10_col15\" class=\"data row10 col15\" >-0.031541</td>\n",
       "      <td id=\"T_4c8df_row10_col16\" class=\"data row10 col16\" >-0.025148</td>\n",
       "      <td id=\"T_4c8df_row10_col17\" class=\"data row10 col17\" >-0.094226</td>\n",
       "    </tr>\n",
       "    <tr>\n",
       "      <th id=\"T_4c8df_level0_row11\" class=\"row_heading level0 row11\" >GenHlth</th>\n",
       "      <td id=\"T_4c8df_row11_col0\" class=\"data row11 col0\" >0.163867</td>\n",
       "      <td id=\"T_4c8df_row11_col1\" class=\"data row11 col1\" >-0.009511</td>\n",
       "      <td id=\"T_4c8df_row11_col2\" class=\"data row11 col2\" >0.248873</td>\n",
       "      <td id=\"T_4c8df_row11_col3\" class=\"data row11 col3\" >0.063805</td>\n",
       "      <td id=\"T_4c8df_row11_col4\" class=\"data row11 col4\" >0.247145</td>\n",
       "      <td id=\"T_4c8df_row11_col5\" class=\"data row11 col5\" >0.143294</td>\n",
       "      <td id=\"T_4c8df_row11_col6\" class=\"data row11 col6\" >0.275086</td>\n",
       "      <td id=\"T_4c8df_row11_col7\" class=\"data row11 col7\" >-0.279062</td>\n",
       "      <td id=\"T_4c8df_row11_col8\" class=\"data row11 col8\" >-0.103278</td>\n",
       "      <td id=\"T_4c8df_row11_col9\" class=\"data row11 col9\" >-0.107394</td>\n",
       "      <td id=\"T_4c8df_row11_col10\" class=\"data row11 col10\" >-0.060093</td>\n",
       "      <td id=\"T_4c8df_row11_col11\" class=\"data row11 col11\" >1.000000</td>\n",
       "      <td id=\"T_4c8df_row11_col12\" class=\"data row11 col12\" >0.297985</td>\n",
       "      <td id=\"T_4c8df_row11_col13\" class=\"data row11 col13\" >0.527891</td>\n",
       "      <td id=\"T_4c8df_row11_col14\" class=\"data row11 col14\" >0.468709</td>\n",
       "      <td id=\"T_4c8df_row11_col15\" class=\"data row11 col15\" >0.323377</td>\n",
       "      <td id=\"T_4c8df_row11_col16\" class=\"data row11 col16\" >0.191537</td>\n",
       "      <td id=\"T_4c8df_row11_col17\" class=\"data row11 col17\" >0.406178</td>\n",
       "    </tr>\n",
       "    <tr>\n",
       "      <th id=\"T_4c8df_level0_row12\" class=\"row_heading level0 row12\" >MentHlth</th>\n",
       "      <td id=\"T_4c8df_row12_col0\" class=\"data row12 col0\" >-0.079316</td>\n",
       "      <td id=\"T_4c8df_row12_col1\" class=\"data row12 col1\" >-0.086326</td>\n",
       "      <td id=\"T_4c8df_row12_col2\" class=\"data row12 col2\" >0.090274</td>\n",
       "      <td id=\"T_4c8df_row12_col3\" class=\"data row12 col3\" >-0.000751</td>\n",
       "      <td id=\"T_4c8df_row12_col4\" class=\"data row12 col4\" >0.099113</td>\n",
       "      <td id=\"T_4c8df_row12_col5\" class=\"data row12 col5\" >0.079640</td>\n",
       "      <td id=\"T_4c8df_row12_col6\" class=\"data row12 col6\" >0.082990</td>\n",
       "      <td id=\"T_4c8df_row12_col7\" class=\"data row12 col7\" >-0.123778</td>\n",
       "      <td id=\"T_4c8df_row12_col8\" class=\"data row12 col8\" >-0.055116</td>\n",
       "      <td id=\"T_4c8df_row12_col9\" class=\"data row12 col9\" >-0.044691</td>\n",
       "      <td id=\"T_4c8df_row12_col10\" class=\"data row12 col10\" >0.014114</td>\n",
       "      <td id=\"T_4c8df_row12_col11\" class=\"data row12 col11\" >0.297985</td>\n",
       "      <td id=\"T_4c8df_row12_col12\" class=\"data row12 col12\" >1.000000</td>\n",
       "      <td id=\"T_4c8df_row12_col13\" class=\"data row12 col13\" >0.357411</td>\n",
       "      <td id=\"T_4c8df_row12_col14\" class=\"data row12 col14\" >0.243263</td>\n",
       "      <td id=\"T_4c8df_row12_col15\" class=\"data row12 col15\" >0.078409</td>\n",
       "      <td id=\"T_4c8df_row12_col16\" class=\"data row12 col16\" >0.088651</td>\n",
       "      <td id=\"T_4c8df_row12_col17\" class=\"data row12 col17\" >0.094242</td>\n",
       "    </tr>\n",
       "    <tr>\n",
       "      <th id=\"T_4c8df_level0_row13\" class=\"row_heading level0 row13\" >PhysHlth</th>\n",
       "      <td id=\"T_4c8df_row13_col0\" class=\"data row13 col0\" >0.098262</td>\n",
       "      <td id=\"T_4c8df_row13_col1\" class=\"data row13 col1\" >-0.044244</td>\n",
       "      <td id=\"T_4c8df_row13_col2\" class=\"data row13 col2\" >0.164805</td>\n",
       "      <td id=\"T_4c8df_row13_col3\" class=\"data row13 col3\" >0.042520</td>\n",
       "      <td id=\"T_4c8df_row13_col4\" class=\"data row13 col4\" >0.152925</td>\n",
       "      <td id=\"T_4c8df_row13_col5\" class=\"data row13 col5\" >0.107977</td>\n",
       "      <td id=\"T_4c8df_row13_col6\" class=\"data row13 col6\" >0.213011</td>\n",
       "      <td id=\"T_4c8df_row13_col7\" class=\"data row13 col7\" >-0.238606</td>\n",
       "      <td id=\"T_4c8df_row13_col8\" class=\"data row13 col8\" >-0.053632</td>\n",
       "      <td id=\"T_4c8df_row13_col9\" class=\"data row13 col9\" >-0.061836</td>\n",
       "      <td id=\"T_4c8df_row13_col10\" class=\"data row13 col10\" >-0.038647</td>\n",
       "      <td id=\"T_4c8df_row13_col11\" class=\"data row13 col11\" >0.527891</td>\n",
       "      <td id=\"T_4c8df_row13_col12\" class=\"data row13 col12\" >0.357411</td>\n",
       "      <td id=\"T_4c8df_row13_col13\" class=\"data row13 col13\" >1.000000</td>\n",
       "      <td id=\"T_4c8df_row13_col14\" class=\"data row13 col14\" >0.480476</td>\n",
       "      <td id=\"T_4c8df_row13_col15\" class=\"data row13 col15\" >0.195929</td>\n",
       "      <td id=\"T_4c8df_row13_col16\" class=\"data row13 col16\" >0.175906</td>\n",
       "      <td id=\"T_4c8df_row13_col17\" class=\"data row13 col17\" >0.225895</td>\n",
       "    </tr>\n",
       "    <tr>\n",
       "      <th id=\"T_4c8df_level0_row14\" class=\"row_heading level0 row14\" >DiffWalk</th>\n",
       "      <td id=\"T_4c8df_row14_col0\" class=\"data row14 col0\" >0.200999</td>\n",
       "      <td id=\"T_4c8df_row14_col1\" class=\"data row14 col1\" >-0.074314</td>\n",
       "      <td id=\"T_4c8df_row14_col2\" class=\"data row14 col2\" >0.190382</td>\n",
       "      <td id=\"T_4c8df_row14_col3\" class=\"data row14 col3\" >0.057295</td>\n",
       "      <td id=\"T_4c8df_row14_col4\" class=\"data row14 col4\" >0.226328</td>\n",
       "      <td id=\"T_4c8df_row14_col5\" class=\"data row14 col5\" >0.111862</td>\n",
       "      <td id=\"T_4c8df_row14_col6\" class=\"data row14 col6\" >0.243683</td>\n",
       "      <td id=\"T_4c8df_row14_col7\" class=\"data row14 col7\" >-0.289726</td>\n",
       "      <td id=\"T_4c8df_row14_col8\" class=\"data row14 col8\" >-0.063552</td>\n",
       "      <td id=\"T_4c8df_row14_col9\" class=\"data row14 col9\" >-0.082044</td>\n",
       "      <td id=\"T_4c8df_row14_col10\" class=\"data row14 col10\" >-0.052383</td>\n",
       "      <td id=\"T_4c8df_row14_col11\" class=\"data row14 col11\" >0.468709</td>\n",
       "      <td id=\"T_4c8df_row14_col12\" class=\"data row14 col12\" >0.243263</td>\n",
       "      <td id=\"T_4c8df_row14_col13\" class=\"data row14 col13\" >0.480476</td>\n",
       "      <td id=\"T_4c8df_row14_col14\" class=\"data row14 col14\" >1.000000</td>\n",
       "      <td id=\"T_4c8df_row14_col15\" class=\"data row14 col15\" >0.259390</td>\n",
       "      <td id=\"T_4c8df_row14_col16\" class=\"data row14 col16\" >0.203361</td>\n",
       "      <td id=\"T_4c8df_row14_col17\" class=\"data row14 col17\" >0.294903</td>\n",
       "    </tr>\n",
       "    <tr>\n",
       "      <th id=\"T_4c8df_level0_row15\" class=\"row_heading level0 row15\" >Hypertension</th>\n",
       "      <td id=\"T_4c8df_row15_col0\" class=\"data row15 col0\" >0.329729</td>\n",
       "      <td id=\"T_4c8df_row15_col1\" class=\"data row15 col1\" >0.021942</td>\n",
       "      <td id=\"T_4c8df_row15_col2\" class=\"data row15 col2\" >0.327845</td>\n",
       "      <td id=\"T_4c8df_row15_col3\" class=\"data row15 col3\" >0.114878</td>\n",
       "      <td id=\"T_4c8df_row15_col4\" class=\"data row15 col4\" >0.219422</td>\n",
       "      <td id=\"T_4c8df_row15_col5\" class=\"data row15 col5\" >0.071685</td>\n",
       "      <td id=\"T_4c8df_row15_col6\" class=\"data row15 col6\" >0.223436</td>\n",
       "      <td id=\"T_4c8df_row15_col7\" class=\"data row15 col7\" >-0.151696</td>\n",
       "      <td id=\"T_4c8df_row15_col8\" class=\"data row15 col8\" >-0.041417</td>\n",
       "      <td id=\"T_4c8df_row15_col9\" class=\"data row15 col9\" >-0.059761</td>\n",
       "      <td id=\"T_4c8df_row15_col10\" class=\"data row15 col10\" >-0.031541</td>\n",
       "      <td id=\"T_4c8df_row15_col11\" class=\"data row15 col11\" >0.323377</td>\n",
       "      <td id=\"T_4c8df_row15_col12\" class=\"data row15 col12\" >0.078409</td>\n",
       "      <td id=\"T_4c8df_row15_col13\" class=\"data row15 col13\" >0.195929</td>\n",
       "      <td id=\"T_4c8df_row15_col14\" class=\"data row15 col14\" >0.259390</td>\n",
       "      <td id=\"T_4c8df_row15_col15\" class=\"data row15 col15\" >1.000000</td>\n",
       "      <td id=\"T_4c8df_row15_col16\" class=\"data row15 col16\" >0.139875</td>\n",
       "      <td id=\"T_4c8df_row15_col17\" class=\"data row15 col17\" >0.385997</td>\n",
       "    </tr>\n",
       "    <tr>\n",
       "      <th id=\"T_4c8df_level0_row16\" class=\"row_heading level0 row16\" >Stroke</th>\n",
       "      <td id=\"T_4c8df_row16_col0\" class=\"data row16 col0\" >0.123777</td>\n",
       "      <td id=\"T_4c8df_row16_col1\" class=\"data row16 col1\" >0.000156</td>\n",
       "      <td id=\"T_4c8df_row16_col2\" class=\"data row16 col2\" >0.111606</td>\n",
       "      <td id=\"T_4c8df_row16_col3\" class=\"data row16 col3\" >0.025769</td>\n",
       "      <td id=\"T_4c8df_row16_col4\" class=\"data row16 col4\" >0.028073</td>\n",
       "      <td id=\"T_4c8df_row16_col5\" class=\"data row16 col5\" >0.059069</td>\n",
       "      <td id=\"T_4c8df_row16_col6\" class=\"data row16 col6\" >0.228989</td>\n",
       "      <td id=\"T_4c8df_row16_col7\" class=\"data row16 col7\" >-0.094786</td>\n",
       "      <td id=\"T_4c8df_row16_col8\" class=\"data row16 col8\" >-0.018622</td>\n",
       "      <td id=\"T_4c8df_row16_col9\" class=\"data row16 col9\" >-0.041659</td>\n",
       "      <td id=\"T_4c8df_row16_col10\" class=\"data row16 col10\" >-0.025148</td>\n",
       "      <td id=\"T_4c8df_row16_col11\" class=\"data row16 col11\" >0.191537</td>\n",
       "      <td id=\"T_4c8df_row16_col12\" class=\"data row16 col12\" >0.088651</td>\n",
       "      <td id=\"T_4c8df_row16_col13\" class=\"data row16 col13\" >0.175906</td>\n",
       "      <td id=\"T_4c8df_row16_col14\" class=\"data row16 col14\" >0.203361</td>\n",
       "      <td id=\"T_4c8df_row16_col15\" class=\"data row16 col15\" >0.139875</td>\n",
       "      <td id=\"T_4c8df_row16_col16\" class=\"data row16 col16\" >1.000000</td>\n",
       "      <td id=\"T_4c8df_row16_col17\" class=\"data row16 col17\" >0.133705</td>\n",
       "    </tr>\n",
       "    <tr>\n",
       "      <th id=\"T_4c8df_level0_row17\" class=\"row_heading level0 row17\" >Diabetes</th>\n",
       "      <td id=\"T_4c8df_row17_col0\" class=\"data row17 col0\" >0.277494</td>\n",
       "      <td id=\"T_4c8df_row17_col1\" class=\"data row17 col1\" >0.045003</td>\n",
       "      <td id=\"T_4c8df_row17_col2\" class=\"data row17 col2\" >0.302967</td>\n",
       "      <td id=\"T_4c8df_row17_col3\" class=\"data row17 col3\" >0.117524</td>\n",
       "      <td id=\"T_4c8df_row17_col4\" class=\"data row17 col4\" >0.269473</td>\n",
       "      <td id=\"T_4c8df_row17_col5\" class=\"data row17 col5\" >0.081853</td>\n",
       "      <td id=\"T_4c8df_row17_col6\" class=\"data row17 col6\" >0.212559</td>\n",
       "      <td id=\"T_4c8df_row17_col7\" class=\"data row17 col7\" >-0.190228</td>\n",
       "      <td id=\"T_4c8df_row17_col8\" class=\"data row17 col8\" >-0.072131</td>\n",
       "      <td id=\"T_4c8df_row17_col9\" class=\"data row17 col9\" >-0.080991</td>\n",
       "      <td id=\"T_4c8df_row17_col10\" class=\"data row17 col10\" >-0.094226</td>\n",
       "      <td id=\"T_4c8df_row17_col11\" class=\"data row17 col11\" >0.406178</td>\n",
       "      <td id=\"T_4c8df_row17_col12\" class=\"data row17 col12\" >0.094242</td>\n",
       "      <td id=\"T_4c8df_row17_col13\" class=\"data row17 col13\" >0.225895</td>\n",
       "      <td id=\"T_4c8df_row17_col14\" class=\"data row17 col14\" >0.294903</td>\n",
       "      <td id=\"T_4c8df_row17_col15\" class=\"data row17 col15\" >0.385997</td>\n",
       "      <td id=\"T_4c8df_row17_col16\" class=\"data row17 col16\" >0.133705</td>\n",
       "      <td id=\"T_4c8df_row17_col17\" class=\"data row17 col17\" >1.000000</td>\n",
       "    </tr>\n",
       "  </tbody>\n",
       "</table>\n"
      ],
      "text/plain": [
       "<pandas.io.formats.style.Styler at 0x7f21de224810>"
      ]
     },
     "execution_count": 9,
     "metadata": {},
     "output_type": "execute_result"
    }
   ],
   "source": [
    "cor_train=train.corr()\n",
    "cor_train.style.background_gradient(cmap='coolwarm')"
   ]
  },
  {
   "cell_type": "code",
   "execution_count": 10,
   "id": "2fbfb4ee",
   "metadata": {
    "execution": {
     "iopub.execute_input": "2022-12-03T19:19:07.603167Z",
     "iopub.status.busy": "2022-12-03T19:19:07.602764Z",
     "iopub.status.idle": "2022-12-03T19:19:07.882733Z",
     "shell.execute_reply": "2022-12-03T19:19:07.881832Z"
    },
    "papermill": {
     "duration": 0.310215,
     "end_time": "2022-12-03T19:19:07.885318",
     "exception": false,
     "start_time": "2022-12-03T19:19:07.575103",
     "status": "completed"
    },
    "tags": []
   },
   "outputs": [],
   "source": [
    "corr_col=list(train.corr()['Diabetes'][(train.corr()['Diabetes']>=0.1) | (train.corr()['Diabetes']<=-0.1)].index)"
   ]
  },
  {
   "cell_type": "code",
   "execution_count": 11,
   "id": "b048fcc6",
   "metadata": {
    "execution": {
     "iopub.execute_input": "2022-12-03T19:19:07.939751Z",
     "iopub.status.busy": "2022-12-03T19:19:07.938582Z",
     "iopub.status.idle": "2022-12-03T19:19:07.943849Z",
     "shell.execute_reply": "2022-12-03T19:19:07.942893Z"
    },
    "papermill": {
     "duration": 0.034724,
     "end_time": "2022-12-03T19:19:07.946182",
     "exception": false,
     "start_time": "2022-12-03T19:19:07.911458",
     "status": "completed"
    },
    "tags": []
   },
   "outputs": [],
   "source": [
    "#corr_col=list(train.corr()['Diabetes'][(train.corr()['Diabetes']>=0.1) | (train.corr()['Diabetes']<=-0.1)].index)"
   ]
  },
  {
   "cell_type": "code",
   "execution_count": 12,
   "id": "e0e585a5",
   "metadata": {
    "execution": {
     "iopub.execute_input": "2022-12-03T19:19:08.000536Z",
     "iopub.status.busy": "2022-12-03T19:19:07.999141Z",
     "iopub.status.idle": "2022-12-03T19:19:08.017960Z",
     "shell.execute_reply": "2022-12-03T19:19:08.016906Z"
    },
    "papermill": {
     "duration": 0.0486,
     "end_time": "2022-12-03T19:19:08.020742",
     "exception": false,
     "start_time": "2022-12-03T19:19:07.972142",
     "status": "completed"
    },
    "tags": []
   },
   "outputs": [],
   "source": [
    "df=train[corr_col]"
   ]
  },
  {
   "cell_type": "code",
   "execution_count": 13,
   "id": "3b72fe5f",
   "metadata": {
    "execution": {
     "iopub.execute_input": "2022-12-03T19:19:08.076505Z",
     "iopub.status.busy": "2022-12-03T19:19:08.075173Z",
     "iopub.status.idle": "2022-12-03T19:19:08.082190Z",
     "shell.execute_reply": "2022-12-03T19:19:08.081366Z"
    },
    "papermill": {
     "duration": 0.037498,
     "end_time": "2022-12-03T19:19:08.084533",
     "exception": false,
     "start_time": "2022-12-03T19:19:08.047035",
     "status": "completed"
    },
    "tags": []
   },
   "outputs": [
    {
     "data": {
      "text/plain": [
       "\"plt.figure(figsize=(10,8))\\nlabels = ['No Diabetes', 'Diabetes', 'Pre Diabetes']\\nsizes = [df['Diabetes'].value_counts()[0], df['Diabetes'].value_counts()[1], df['Diabetes'].value_counts()[1]]\\ncolors = ['orange', 'purple', 'red']\\nexplode = (0.05, 0.05, 0)  # explode 1st slice\\nplt.pie(sizes, explode=explode, labels=labels, autopct='%.1f%%', colors=colors, data = df)\""
      ]
     },
     "execution_count": 13,
     "metadata": {},
     "output_type": "execute_result"
    }
   ],
   "source": [
    "'''plt.figure(figsize=(10,8))\n",
    "labels = ['No Diabetes', 'Diabetes', 'Pre Diabetes']\n",
    "sizes = [df['Diabetes'].value_counts()[0], df['Diabetes'].value_counts()[1], df['Diabetes'].value_counts()[1]]\n",
    "colors = ['orange', 'purple', 'red']\n",
    "explode = (0.05, 0.05, 0)  # explode 1st slice\n",
    "plt.pie(sizes, explode=explode, labels=labels, autopct='%.1f%%', colors=colors, data = df)'''"
   ]
  },
  {
   "cell_type": "code",
   "execution_count": 14,
   "id": "6fb72a95",
   "metadata": {
    "execution": {
     "iopub.execute_input": "2022-12-03T19:19:08.140464Z",
     "iopub.status.busy": "2022-12-03T19:19:08.139711Z",
     "iopub.status.idle": "2022-12-03T19:19:08.144271Z",
     "shell.execute_reply": "2022-12-03T19:19:08.143446Z"
    },
    "papermill": {
     "duration": 0.034814,
     "end_time": "2022-12-03T19:19:08.146609",
     "exception": false,
     "start_time": "2022-12-03T19:19:08.111795",
     "status": "completed"
    },
    "tags": []
   },
   "outputs": [],
   "source": [
    "df_col=list(df.columns)"
   ]
  },
  {
   "cell_type": "code",
   "execution_count": 15,
   "id": "d769839b",
   "metadata": {
    "execution": {
     "iopub.execute_input": "2022-12-03T19:19:08.199854Z",
     "iopub.status.busy": "2022-12-03T19:19:08.199453Z",
     "iopub.status.idle": "2022-12-03T19:19:08.206245Z",
     "shell.execute_reply": "2022-12-03T19:19:08.205475Z"
    },
    "papermill": {
     "duration": 0.036605,
     "end_time": "2022-12-03T19:19:08.209022",
     "exception": false,
     "start_time": "2022-12-03T19:19:08.172417",
     "status": "completed"
    },
    "tags": []
   },
   "outputs": [
    {
     "data": {
      "text/plain": [
       "['Age',\n",
       " 'HighChol',\n",
       " 'CholCheck',\n",
       " 'BMI',\n",
       " 'HeartDiseaseorAttack',\n",
       " 'PhysActivity',\n",
       " 'GenHlth',\n",
       " 'PhysHlth',\n",
       " 'DiffWalk',\n",
       " 'Hypertension',\n",
       " 'Stroke',\n",
       " 'Diabetes']"
      ]
     },
     "execution_count": 15,
     "metadata": {},
     "output_type": "execute_result"
    }
   ],
   "source": [
    "df_col"
   ]
  },
  {
   "cell_type": "code",
   "execution_count": 16,
   "id": "2abbc2e6",
   "metadata": {
    "execution": {
     "iopub.execute_input": "2022-12-03T19:19:08.263682Z",
     "iopub.status.busy": "2022-12-03T19:19:08.262663Z",
     "iopub.status.idle": "2022-12-03T19:19:08.267162Z",
     "shell.execute_reply": "2022-12-03T19:19:08.266369Z"
    },
    "papermill": {
     "duration": 0.034294,
     "end_time": "2022-12-03T19:19:08.269577",
     "exception": false,
     "start_time": "2022-12-03T19:19:08.235283",
     "status": "completed"
    },
    "tags": []
   },
   "outputs": [],
   "source": [
    "df_col.remove('Diabetes')"
   ]
  },
  {
   "cell_type": "code",
   "execution_count": 17,
   "id": "cb4dcfa3",
   "metadata": {
    "execution": {
     "iopub.execute_input": "2022-12-03T19:19:08.328152Z",
     "iopub.status.busy": "2022-12-03T19:19:08.327426Z",
     "iopub.status.idle": "2022-12-03T19:19:08.333851Z",
     "shell.execute_reply": "2022-12-03T19:19:08.332678Z"
    },
    "papermill": {
     "duration": 0.039329,
     "end_time": "2022-12-03T19:19:08.336152",
     "exception": false,
     "start_time": "2022-12-03T19:19:08.296823",
     "status": "completed"
    },
    "tags": []
   },
   "outputs": [],
   "source": [
    "cor_test=test[df_col]"
   ]
  },
  {
   "cell_type": "code",
   "execution_count": 18,
   "id": "773bcbce",
   "metadata": {
    "execution": {
     "iopub.execute_input": "2022-12-03T19:19:08.391148Z",
     "iopub.status.busy": "2022-12-03T19:19:08.390263Z",
     "iopub.status.idle": "2022-12-03T19:19:08.396657Z",
     "shell.execute_reply": "2022-12-03T19:19:08.395838Z"
    },
    "papermill": {
     "duration": 0.036424,
     "end_time": "2022-12-03T19:19:08.398894",
     "exception": false,
     "start_time": "2022-12-03T19:19:08.362470",
     "status": "completed"
    },
    "tags": []
   },
   "outputs": [
    {
     "data": {
      "text/plain": [
       "(20000, 11)"
      ]
     },
     "execution_count": 18,
     "metadata": {},
     "output_type": "execute_result"
    }
   ],
   "source": [
    "cor_test.shape"
   ]
  },
  {
   "cell_type": "code",
   "execution_count": 19,
   "id": "159fac20",
   "metadata": {
    "execution": {
     "iopub.execute_input": "2022-12-03T19:19:08.453180Z",
     "iopub.status.busy": "2022-12-03T19:19:08.452453Z",
     "iopub.status.idle": "2022-12-03T19:19:08.458101Z",
     "shell.execute_reply": "2022-12-03T19:19:08.457351Z"
    },
    "papermill": {
     "duration": 0.035231,
     "end_time": "2022-12-03T19:19:08.460312",
     "exception": false,
     "start_time": "2022-12-03T19:19:08.425081",
     "status": "completed"
    },
    "tags": []
   },
   "outputs": [
    {
     "data": {
      "text/plain": [
       "(80692, 12)"
      ]
     },
     "execution_count": 19,
     "metadata": {},
     "output_type": "execute_result"
    }
   ],
   "source": [
    "df.shape"
   ]
  },
  {
   "cell_type": "code",
   "execution_count": 20,
   "id": "3bb911a4",
   "metadata": {
    "execution": {
     "iopub.execute_input": "2022-12-03T19:19:08.518140Z",
     "iopub.status.busy": "2022-12-03T19:19:08.517394Z",
     "iopub.status.idle": "2022-12-03T19:19:08.549944Z",
     "shell.execute_reply": "2022-12-03T19:19:08.548677Z"
    },
    "papermill": {
     "duration": 0.065582,
     "end_time": "2022-12-03T19:19:08.553098",
     "exception": false,
     "start_time": "2022-12-03T19:19:08.487516",
     "status": "completed"
    },
    "tags": []
   },
   "outputs": [],
   "source": [
    "df=df.drop_duplicates()"
   ]
  },
  {
   "cell_type": "code",
   "execution_count": 21,
   "id": "4570ea90",
   "metadata": {
    "execution": {
     "iopub.execute_input": "2022-12-03T19:19:08.616067Z",
     "iopub.status.busy": "2022-12-03T19:19:08.614790Z",
     "iopub.status.idle": "2022-12-03T19:19:08.623015Z",
     "shell.execute_reply": "2022-12-03T19:19:08.621228Z"
    },
    "papermill": {
     "duration": 0.046183,
     "end_time": "2022-12-03T19:19:08.626328",
     "exception": false,
     "start_time": "2022-12-03T19:19:08.580145",
     "status": "completed"
    },
    "tags": []
   },
   "outputs": [
    {
     "data": {
      "text/plain": [
       "(48527, 12)"
      ]
     },
     "execution_count": 21,
     "metadata": {},
     "output_type": "execute_result"
    }
   ],
   "source": [
    "df.shape"
   ]
  },
  {
   "cell_type": "code",
   "execution_count": 22,
   "id": "1ff0e3b8",
   "metadata": {
    "execution": {
     "iopub.execute_input": "2022-12-03T19:19:08.702924Z",
     "iopub.status.busy": "2022-12-03T19:19:08.701974Z",
     "iopub.status.idle": "2022-12-03T19:19:08.707431Z",
     "shell.execute_reply": "2022-12-03T19:19:08.706360Z"
    },
    "papermill": {
     "duration": 0.042721,
     "end_time": "2022-12-03T19:19:08.709889",
     "exception": false,
     "start_time": "2022-12-03T19:19:08.667168",
     "status": "completed"
    },
    "tags": []
   },
   "outputs": [],
   "source": [
    "#df.corr().nlargest(4,'Diabetes')"
   ]
  },
  {
   "cell_type": "code",
   "execution_count": 23,
   "id": "71256834",
   "metadata": {
    "execution": {
     "iopub.execute_input": "2022-12-03T19:19:08.769267Z",
     "iopub.status.busy": "2022-12-03T19:19:08.768232Z",
     "iopub.status.idle": "2022-12-03T19:19:08.791788Z",
     "shell.execute_reply": "2022-12-03T19:19:08.790920Z"
    },
    "papermill": {
     "duration": 0.05623,
     "end_time": "2022-12-03T19:19:08.794226",
     "exception": false,
     "start_time": "2022-12-03T19:19:08.737996",
     "status": "completed"
    },
    "tags": []
   },
   "outputs": [
    {
     "data": {
      "text/html": [
       "<div>\n",
       "<style scoped>\n",
       "    .dataframe tbody tr th:only-of-type {\n",
       "        vertical-align: middle;\n",
       "    }\n",
       "\n",
       "    .dataframe tbody tr th {\n",
       "        vertical-align: top;\n",
       "    }\n",
       "\n",
       "    .dataframe thead th {\n",
       "        text-align: right;\n",
       "    }\n",
       "</style>\n",
       "<table border=\"1\" class=\"dataframe\">\n",
       "  <thead>\n",
       "    <tr style=\"text-align: right;\">\n",
       "      <th></th>\n",
       "      <th>GenHlth</th>\n",
       "      <th>Diabetes</th>\n",
       "    </tr>\n",
       "  </thead>\n",
       "  <tbody>\n",
       "    <tr>\n",
       "      <th>4</th>\n",
       "      <td>5.0</td>\n",
       "      <td>0.787578</td>\n",
       "    </tr>\n",
       "    <tr>\n",
       "      <th>3</th>\n",
       "      <td>4.0</td>\n",
       "      <td>0.716895</td>\n",
       "    </tr>\n",
       "    <tr>\n",
       "      <th>2</th>\n",
       "      <td>3.0</td>\n",
       "      <td>0.578738</td>\n",
       "    </tr>\n",
       "    <tr>\n",
       "      <th>1</th>\n",
       "      <td>2.0</td>\n",
       "      <td>0.423009</td>\n",
       "    </tr>\n",
       "    <tr>\n",
       "      <th>0</th>\n",
       "      <td>1.0</td>\n",
       "      <td>0.277163</td>\n",
       "    </tr>\n",
       "  </tbody>\n",
       "</table>\n",
       "</div>"
      ],
      "text/plain": [
       "   GenHlth  Diabetes\n",
       "4      5.0  0.787578\n",
       "3      4.0  0.716895\n",
       "2      3.0  0.578738\n",
       "1      2.0  0.423009\n",
       "0      1.0  0.277163"
      ]
     },
     "execution_count": 23,
     "metadata": {},
     "output_type": "execute_result"
    }
   ],
   "source": [
    "df[['GenHlth','Diabetes']].groupby(['GenHlth'], as_index=False).mean().sort_values(by='Diabetes', ascending = False)"
   ]
  },
  {
   "cell_type": "code",
   "execution_count": 24,
   "id": "c4d2d4a7",
   "metadata": {
    "execution": {
     "iopub.execute_input": "2022-12-03T19:19:08.861104Z",
     "iopub.status.busy": "2022-12-03T19:19:08.860700Z",
     "iopub.status.idle": "2022-12-03T19:19:08.865711Z",
     "shell.execute_reply": "2022-12-03T19:19:08.864447Z"
    },
    "papermill": {
     "duration": 0.036368,
     "end_time": "2022-12-03T19:19:08.868183",
     "exception": false,
     "start_time": "2022-12-03T19:19:08.831815",
     "status": "completed"
    },
    "tags": []
   },
   "outputs": [],
   "source": [
    "#df=[(df['HighChol']==1) & (df['BMI']>24) & (df['HeartDiseaseorAttack']==1) &(df['GenHlth']==1)].Diabetes"
   ]
  },
  {
   "cell_type": "code",
   "execution_count": 25,
   "id": "b6027f27",
   "metadata": {
    "execution": {
     "iopub.execute_input": "2022-12-03T19:19:08.928363Z",
     "iopub.status.busy": "2022-12-03T19:19:08.927463Z",
     "iopub.status.idle": "2022-12-03T19:19:08.956134Z",
     "shell.execute_reply": "2022-12-03T19:19:08.954607Z"
    },
    "papermill": {
     "duration": 0.061626,
     "end_time": "2022-12-03T19:19:08.958666",
     "exception": false,
     "start_time": "2022-12-03T19:19:08.897040",
     "status": "completed"
    },
    "tags": []
   },
   "outputs": [
    {
     "data": {
      "text/html": [
       "<div>\n",
       "<style scoped>\n",
       "    .dataframe tbody tr th:only-of-type {\n",
       "        vertical-align: middle;\n",
       "    }\n",
       "\n",
       "    .dataframe tbody tr th {\n",
       "        vertical-align: top;\n",
       "    }\n",
       "\n",
       "    .dataframe thead th {\n",
       "        text-align: right;\n",
       "    }\n",
       "</style>\n",
       "<table border=\"1\" class=\"dataframe\">\n",
       "  <thead>\n",
       "    <tr style=\"text-align: right;\">\n",
       "      <th></th>\n",
       "      <th>Age</th>\n",
       "      <th>HighChol</th>\n",
       "      <th>CholCheck</th>\n",
       "      <th>BMI</th>\n",
       "      <th>HeartDiseaseorAttack</th>\n",
       "      <th>PhysActivity</th>\n",
       "      <th>GenHlth</th>\n",
       "      <th>PhysHlth</th>\n",
       "      <th>DiffWalk</th>\n",
       "      <th>Hypertension</th>\n",
       "      <th>Stroke</th>\n",
       "      <th>Diabetes</th>\n",
       "    </tr>\n",
       "  </thead>\n",
       "  <tbody>\n",
       "    <tr>\n",
       "      <th>0</th>\n",
       "      <td>4.0</td>\n",
       "      <td>0.0</td>\n",
       "      <td>1.0</td>\n",
       "      <td>26.0</td>\n",
       "      <td>0.0</td>\n",
       "      <td>1.0</td>\n",
       "      <td>3.0</td>\n",
       "      <td>30.0</td>\n",
       "      <td>0.0</td>\n",
       "      <td>1.0</td>\n",
       "      <td>0.0</td>\n",
       "      <td>0.0</td>\n",
       "    </tr>\n",
       "    <tr>\n",
       "      <th>1</th>\n",
       "      <td>12.0</td>\n",
       "      <td>1.0</td>\n",
       "      <td>1.0</td>\n",
       "      <td>26.0</td>\n",
       "      <td>0.0</td>\n",
       "      <td>0.0</td>\n",
       "      <td>3.0</td>\n",
       "      <td>0.0</td>\n",
       "      <td>0.0</td>\n",
       "      <td>1.0</td>\n",
       "      <td>1.0</td>\n",
       "      <td>0.0</td>\n",
       "    </tr>\n",
       "    <tr>\n",
       "      <th>2</th>\n",
       "      <td>13.0</td>\n",
       "      <td>0.0</td>\n",
       "      <td>1.0</td>\n",
       "      <td>26.0</td>\n",
       "      <td>0.0</td>\n",
       "      <td>1.0</td>\n",
       "      <td>1.0</td>\n",
       "      <td>10.0</td>\n",
       "      <td>0.0</td>\n",
       "      <td>0.0</td>\n",
       "      <td>0.0</td>\n",
       "      <td>0.0</td>\n",
       "    </tr>\n",
       "    <tr>\n",
       "      <th>3</th>\n",
       "      <td>11.0</td>\n",
       "      <td>1.0</td>\n",
       "      <td>1.0</td>\n",
       "      <td>28.0</td>\n",
       "      <td>0.0</td>\n",
       "      <td>1.0</td>\n",
       "      <td>3.0</td>\n",
       "      <td>3.0</td>\n",
       "      <td>0.0</td>\n",
       "      <td>1.0</td>\n",
       "      <td>0.0</td>\n",
       "      <td>0.0</td>\n",
       "    </tr>\n",
       "    <tr>\n",
       "      <th>4</th>\n",
       "      <td>8.0</td>\n",
       "      <td>0.0</td>\n",
       "      <td>1.0</td>\n",
       "      <td>29.0</td>\n",
       "      <td>0.0</td>\n",
       "      <td>1.0</td>\n",
       "      <td>2.0</td>\n",
       "      <td>0.0</td>\n",
       "      <td>0.0</td>\n",
       "      <td>0.0</td>\n",
       "      <td>0.0</td>\n",
       "      <td>0.0</td>\n",
       "    </tr>\n",
       "    <tr>\n",
       "      <th>...</th>\n",
       "      <td>...</td>\n",
       "      <td>...</td>\n",
       "      <td>...</td>\n",
       "      <td>...</td>\n",
       "      <td>...</td>\n",
       "      <td>...</td>\n",
       "      <td>...</td>\n",
       "      <td>...</td>\n",
       "      <td>...</td>\n",
       "      <td>...</td>\n",
       "      <td>...</td>\n",
       "      <td>...</td>\n",
       "    </tr>\n",
       "    <tr>\n",
       "      <th>80686</th>\n",
       "      <td>7.0</td>\n",
       "      <td>1.0</td>\n",
       "      <td>1.0</td>\n",
       "      <td>41.0</td>\n",
       "      <td>0.0</td>\n",
       "      <td>0.0</td>\n",
       "      <td>4.0</td>\n",
       "      <td>5.0</td>\n",
       "      <td>1.0</td>\n",
       "      <td>1.0</td>\n",
       "      <td>0.0</td>\n",
       "      <td>1.0</td>\n",
       "    </tr>\n",
       "    <tr>\n",
       "      <th>80687</th>\n",
       "      <td>3.0</td>\n",
       "      <td>0.0</td>\n",
       "      <td>1.0</td>\n",
       "      <td>23.0</td>\n",
       "      <td>0.0</td>\n",
       "      <td>1.0</td>\n",
       "      <td>3.0</td>\n",
       "      <td>0.0</td>\n",
       "      <td>1.0</td>\n",
       "      <td>0.0</td>\n",
       "      <td>0.0</td>\n",
       "      <td>0.0</td>\n",
       "    </tr>\n",
       "    <tr>\n",
       "      <th>80688</th>\n",
       "      <td>10.0</td>\n",
       "      <td>1.0</td>\n",
       "      <td>1.0</td>\n",
       "      <td>22.0</td>\n",
       "      <td>0.0</td>\n",
       "      <td>0.0</td>\n",
       "      <td>3.0</td>\n",
       "      <td>30.0</td>\n",
       "      <td>1.0</td>\n",
       "      <td>1.0</td>\n",
       "      <td>0.0</td>\n",
       "      <td>1.0</td>\n",
       "    </tr>\n",
       "    <tr>\n",
       "      <th>80690</th>\n",
       "      <td>4.0</td>\n",
       "      <td>1.0</td>\n",
       "      <td>0.0</td>\n",
       "      <td>29.0</td>\n",
       "      <td>0.0</td>\n",
       "      <td>1.0</td>\n",
       "      <td>3.0</td>\n",
       "      <td>15.0</td>\n",
       "      <td>0.0</td>\n",
       "      <td>0.0</td>\n",
       "      <td>0.0</td>\n",
       "      <td>0.0</td>\n",
       "    </tr>\n",
       "    <tr>\n",
       "      <th>80691</th>\n",
       "      <td>11.0</td>\n",
       "      <td>1.0</td>\n",
       "      <td>0.0</td>\n",
       "      <td>26.0</td>\n",
       "      <td>0.0</td>\n",
       "      <td>1.0</td>\n",
       "      <td>1.0</td>\n",
       "      <td>0.0</td>\n",
       "      <td>0.0</td>\n",
       "      <td>1.0</td>\n",
       "      <td>0.0</td>\n",
       "      <td>1.0</td>\n",
       "    </tr>\n",
       "  </tbody>\n",
       "</table>\n",
       "<p>48527 rows × 12 columns</p>\n",
       "</div>"
      ],
      "text/plain": [
       "        Age  HighChol  CholCheck   BMI  HeartDiseaseorAttack  PhysActivity  \\\n",
       "0       4.0       0.0        1.0  26.0                   0.0           1.0   \n",
       "1      12.0       1.0        1.0  26.0                   0.0           0.0   \n",
       "2      13.0       0.0        1.0  26.0                   0.0           1.0   \n",
       "3      11.0       1.0        1.0  28.0                   0.0           1.0   \n",
       "4       8.0       0.0        1.0  29.0                   0.0           1.0   \n",
       "...     ...       ...        ...   ...                   ...           ...   \n",
       "80686   7.0       1.0        1.0  41.0                   0.0           0.0   \n",
       "80687   3.0       0.0        1.0  23.0                   0.0           1.0   \n",
       "80688  10.0       1.0        1.0  22.0                   0.0           0.0   \n",
       "80690   4.0       1.0        0.0  29.0                   0.0           1.0   \n",
       "80691  11.0       1.0        0.0  26.0                   0.0           1.0   \n",
       "\n",
       "       GenHlth  PhysHlth  DiffWalk  Hypertension  Stroke  Diabetes  \n",
       "0          3.0      30.0       0.0           1.0     0.0       0.0  \n",
       "1          3.0       0.0       0.0           1.0     1.0       0.0  \n",
       "2          1.0      10.0       0.0           0.0     0.0       0.0  \n",
       "3          3.0       3.0       0.0           1.0     0.0       0.0  \n",
       "4          2.0       0.0       0.0           0.0     0.0       0.0  \n",
       "...        ...       ...       ...           ...     ...       ...  \n",
       "80686      4.0       5.0       1.0           1.0     0.0       1.0  \n",
       "80687      3.0       0.0       1.0           0.0     0.0       0.0  \n",
       "80688      3.0      30.0       1.0           1.0     0.0       1.0  \n",
       "80690      3.0      15.0       0.0           0.0     0.0       0.0  \n",
       "80691      1.0       0.0       0.0           1.0     0.0       1.0  \n",
       "\n",
       "[48527 rows x 12 columns]"
      ]
     },
     "execution_count": 25,
     "metadata": {},
     "output_type": "execute_result"
    }
   ],
   "source": [
    "df"
   ]
  },
  {
   "cell_type": "code",
   "execution_count": 26,
   "id": "69daf7a8",
   "metadata": {
    "execution": {
     "iopub.execute_input": "2022-12-03T19:19:09.027363Z",
     "iopub.status.busy": "2022-12-03T19:19:09.026550Z",
     "iopub.status.idle": "2022-12-03T19:19:10.149269Z",
     "shell.execute_reply": "2022-12-03T19:19:10.148078Z"
    },
    "papermill": {
     "duration": 1.158925,
     "end_time": "2022-12-03T19:19:10.151832",
     "exception": false,
     "start_time": "2022-12-03T19:19:08.992907",
     "status": "completed"
    },
    "tags": []
   },
   "outputs": [
    {
     "data": {
      "text/plain": [
       "<AxesSubplot:xlabel='Age', ylabel='Diabetes'>"
      ]
     },
     "execution_count": 26,
     "metadata": {},
     "output_type": "execute_result"
    },
    {
     "data": {
      "image/png": "[encoded data removed]",
      "text/plain": [
       "<Figure size 432x288 with 1 Axes>"
      ]
     },
     "metadata": {
      "needs_background": "light"
     },
     "output_type": "display_data"
    }
   ],
   "source": [
    "sns.barplot(x=\"Age\", y=\"Diabetes\", data=df,\n",
    "                      color=\"salmon\", saturation=.5)"
   ]
  },
  {
   "cell_type": "code",
   "execution_count": 27,
   "id": "cf03425e",
   "metadata": {
    "execution": {
     "iopub.execute_input": "2022-12-03T19:19:10.207632Z",
     "iopub.status.busy": "2022-12-03T19:19:10.207206Z",
     "iopub.status.idle": "2022-12-03T19:19:10.213680Z",
     "shell.execute_reply": "2022-12-03T19:19:10.212503Z"
    },
    "papermill": {
     "duration": 0.037201,
     "end_time": "2022-12-03T19:19:10.216087",
     "exception": false,
     "start_time": "2022-12-03T19:19:10.178886",
     "status": "completed"
    },
    "tags": []
   },
   "outputs": [
    {
     "data": {
      "text/plain": [
       "\"plt.figure(figsize=(35,25))\\np=sns.heatmap(df.corr(),annot=True,cmap='RdYlGn')\\nplt.show()\""
      ]
     },
     "execution_count": 27,
     "metadata": {},
     "output_type": "execute_result"
    }
   ],
   "source": [
    "'''plt.figure(figsize=(35,25))\n",
    "p=sns.heatmap(df.corr(),annot=True,cmap='RdYlGn')\n",
    "plt.show()'''"
   ]
  },
  {
   "cell_type": "code",
   "execution_count": 28,
   "id": "2f0ee9fa",
   "metadata": {
    "execution": {
     "iopub.execute_input": "2022-12-03T19:19:10.271659Z",
     "iopub.status.busy": "2022-12-03T19:19:10.271229Z",
     "iopub.status.idle": "2022-12-03T19:19:10.277602Z",
     "shell.execute_reply": "2022-12-03T19:19:10.276520Z"
    },
    "papermill": {
     "duration": 0.036702,
     "end_time": "2022-12-03T19:19:10.279953",
     "exception": false,
     "start_time": "2022-12-03T19:19:10.243251",
     "status": "completed"
    },
    "tags": []
   },
   "outputs": [
    {
     "data": {
      "text/plain": [
       "\"for int in df.columns:\\n    df[int] = df[int].astype('int')\""
      ]
     },
     "execution_count": 28,
     "metadata": {},
     "output_type": "execute_result"
    }
   ],
   "source": [
    "'''for int in df.columns:\n",
    "    df[int] = df[int].astype('int')'''"
   ]
  },
  {
   "cell_type": "code",
   "execution_count": 29,
   "id": "3ef18f57",
   "metadata": {
    "execution": {
     "iopub.execute_input": "2022-12-03T19:19:10.335336Z",
     "iopub.status.busy": "2022-12-03T19:19:10.334928Z",
     "iopub.status.idle": "2022-12-03T19:19:10.342016Z",
     "shell.execute_reply": "2022-12-03T19:19:10.340651Z"
    },
    "papermill": {
     "duration": 0.037884,
     "end_time": "2022-12-03T19:19:10.344491",
     "exception": false,
     "start_time": "2022-12-03T19:19:10.306607",
     "status": "completed"
    },
    "tags": []
   },
   "outputs": [
    {
     "data": {
      "text/plain": [
       "\"for int in cor_test.columns:\\n    cor_test[int]=cor_test[int].astype('int')\""
      ]
     },
     "execution_count": 29,
     "metadata": {},
     "output_type": "execute_result"
    }
   ],
   "source": [
    "'''for int in cor_test.columns:\n",
    "    cor_test[int]=cor_test[int].astype('int')'''"
   ]
  },
  {
   "cell_type": "code",
   "execution_count": 30,
   "id": "88305364",
   "metadata": {
    "execution": {
     "iopub.execute_input": "2022-12-03T19:19:10.401075Z",
     "iopub.status.busy": "2022-12-03T19:19:10.400671Z",
     "iopub.status.idle": "2022-12-03T19:19:10.407711Z",
     "shell.execute_reply": "2022-12-03T19:19:10.406506Z"
    },
    "papermill": {
     "duration": 0.038033,
     "end_time": "2022-12-03T19:19:10.410479",
     "exception": false,
     "start_time": "2022-12-03T19:19:10.372446",
     "status": "completed"
    },
    "tags": []
   },
   "outputs": [
    {
     "data": {
      "text/plain": [
       "'for feature in df:\\n    sns.countplot(data=df, x=feature, hue=\"Diabetes\")\\n    plt.show()'"
      ]
     },
     "execution_count": 30,
     "metadata": {},
     "output_type": "execute_result"
    }
   ],
   "source": [
    "'''for feature in df:\n",
    "    sns.countplot(data=df, x=feature, hue=\"Diabetes\")\n",
    "    plt.show()'''"
   ]
  },
  {
   "cell_type": "code",
   "execution_count": 31,
   "id": "b6d47588",
   "metadata": {
    "execution": {
     "iopub.execute_input": "2022-12-03T19:19:10.467955Z",
     "iopub.status.busy": "2022-12-03T19:19:10.467543Z",
     "iopub.status.idle": "2022-12-03T19:19:10.473906Z",
     "shell.execute_reply": "2022-12-03T19:19:10.472827Z"
    },
    "papermill": {
     "duration": 0.037977,
     "end_time": "2022-12-03T19:19:10.476340",
     "exception": false,
     "start_time": "2022-12-03T19:19:10.438363",
     "status": "completed"
    },
    "tags": []
   },
   "outputs": [],
   "source": [
    "gen=df['Diabetes'][df['HighChol']==1]"
   ]
  },
  {
   "cell_type": "code",
   "execution_count": 32,
   "id": "14486643",
   "metadata": {
    "execution": {
     "iopub.execute_input": "2022-12-03T19:19:10.532943Z",
     "iopub.status.busy": "2022-12-03T19:19:10.532538Z",
     "iopub.status.idle": "2022-12-03T19:19:10.543466Z",
     "shell.execute_reply": "2022-12-03T19:19:10.542233Z"
    },
    "papermill": {
     "duration": 0.042367,
     "end_time": "2022-12-03T19:19:10.546159",
     "exception": false,
     "start_time": "2022-12-03T19:19:10.503792",
     "status": "completed"
    },
    "tags": []
   },
   "outputs": [
    {
     "data": {
      "text/plain": [
       "1.0    18452\n",
       "0.0     8804\n",
       "Name: Diabetes, dtype: int64"
      ]
     },
     "execution_count": 32,
     "metadata": {},
     "output_type": "execute_result"
    }
   ],
   "source": [
    "gen.value_counts()"
   ]
  },
  {
   "cell_type": "code",
   "execution_count": 33,
   "id": "c0dd61f2",
   "metadata": {
    "execution": {
     "iopub.execute_input": "2022-12-03T19:19:10.603057Z",
     "iopub.status.busy": "2022-12-03T19:19:10.602589Z",
     "iopub.status.idle": "2022-12-03T19:19:10.611144Z",
     "shell.execute_reply": "2022-12-03T19:19:10.609874Z"
    },
    "papermill": {
     "duration": 0.040451,
     "end_time": "2022-12-03T19:19:10.614019",
     "exception": false,
     "start_time": "2022-12-03T19:19:10.573568",
     "status": "completed"
    },
    "tags": []
   },
   "outputs": [],
   "source": [
    "h=df['Diabetes'][df['HighChol']==1]"
   ]
  },
  {
   "cell_type": "code",
   "execution_count": 34,
   "id": "c4b5613d",
   "metadata": {
    "execution": {
     "iopub.execute_input": "2022-12-03T19:19:10.671503Z",
     "iopub.status.busy": "2022-12-03T19:19:10.671079Z",
     "iopub.status.idle": "2022-12-03T19:19:10.679273Z",
     "shell.execute_reply": "2022-12-03T19:19:10.678385Z"
    },
    "papermill": {
     "duration": 0.039455,
     "end_time": "2022-12-03T19:19:10.681581",
     "exception": false,
     "start_time": "2022-12-03T19:19:10.642126",
     "status": "completed"
    },
    "tags": []
   },
   "outputs": [
    {
     "data": {
      "text/plain": [
       "1.0    18452\n",
       "0.0     8804\n",
       "Name: Diabetes, dtype: int64"
      ]
     },
     "execution_count": 34,
     "metadata": {},
     "output_type": "execute_result"
    }
   ],
   "source": [
    "h.value_counts()"
   ]
  },
  {
   "cell_type": "code",
   "execution_count": 35,
   "id": "6f317c80",
   "metadata": {
    "execution": {
     "iopub.execute_input": "2022-12-03T19:19:10.739539Z",
     "iopub.status.busy": "2022-12-03T19:19:10.739098Z",
     "iopub.status.idle": "2022-12-03T19:19:10.748991Z",
     "shell.execute_reply": "2022-12-03T19:19:10.747745Z"
    },
    "papermill": {
     "duration": 0.041777,
     "end_time": "2022-12-03T19:19:10.751250",
     "exception": false,
     "start_time": "2022-12-03T19:19:10.709473",
     "status": "completed"
    },
    "tags": []
   },
   "outputs": [
    {
     "data": {
      "text/plain": [
       "Age                     0\n",
       "HighChol                0\n",
       "CholCheck               0\n",
       "BMI                     0\n",
       "HeartDiseaseorAttack    0\n",
       "PhysActivity            0\n",
       "GenHlth                 0\n",
       "PhysHlth                0\n",
       "DiffWalk                0\n",
       "Hypertension            0\n",
       "Stroke                  0\n",
       "Diabetes                0\n",
       "dtype: int64"
      ]
     },
     "execution_count": 35,
     "metadata": {},
     "output_type": "execute_result"
    }
   ],
   "source": [
    "df.isnull().sum()"
   ]
  },
  {
   "cell_type": "code",
   "execution_count": 36,
   "id": "c8a98c9d",
   "metadata": {
    "execution": {
     "iopub.execute_input": "2022-12-03T19:19:10.809421Z",
     "iopub.status.busy": "2022-12-03T19:19:10.808077Z",
     "iopub.status.idle": "2022-12-03T19:19:14.687767Z",
     "shell.execute_reply": "2022-12-03T19:19:14.686419Z"
    },
    "papermill": {
     "duration": 3.911065,
     "end_time": "2022-12-03T19:19:14.690183",
     "exception": false,
     "start_time": "2022-12-03T19:19:10.779118",
     "status": "completed"
    },
    "tags": []
   },
   "outputs": [
    {
     "data": {
      "text/plain": [
       "<seaborn.axisgrid.FacetGrid at 0x7f21ddf9a310>"
      ]
     },
     "execution_count": 36,
     "metadata": {},
     "output_type": "execute_result"
    },
    {
     "data": {
      "image/png": "[encoded data removed]",
      "text/plain": [
       "<Figure size 412.375x360 with 1 Axes>"
      ]
     },
     "metadata": {
      "needs_background": "light"
     },
     "output_type": "display_data"
    }
   ],
   "source": [
    "sns.relplot(\n",
    "    data=df,\n",
    "    x=\"HighChol\", y=\"BMI\",\n",
    "    hue=\"Diabetes\", palette=\"ch:r=-.5,l=.75\").set(title='kolestrol yukseldikce vucut kutle index ile iliskisi')"
   ]
  },
  {
   "cell_type": "code",
   "execution_count": 37,
   "id": "ec372165",
   "metadata": {
    "execution": {
     "iopub.execute_input": "2022-12-03T19:19:14.751053Z",
     "iopub.status.busy": "2022-12-03T19:19:14.750008Z",
     "iopub.status.idle": "2022-12-03T19:19:14.821552Z",
     "shell.execute_reply": "2022-12-03T19:19:14.820342Z"
    },
    "papermill": {
     "duration": 0.10475,
     "end_time": "2022-12-03T19:19:14.824257",
     "exception": false,
     "start_time": "2022-12-03T19:19:14.719507",
     "status": "completed"
    },
    "tags": []
   },
   "outputs": [
    {
     "data": {
      "text/html": [
       "<div>\n",
       "<style scoped>\n",
       "    .dataframe tbody tr th:only-of-type {\n",
       "        vertical-align: middle;\n",
       "    }\n",
       "\n",
       "    .dataframe tbody tr th {\n",
       "        vertical-align: top;\n",
       "    }\n",
       "\n",
       "    .dataframe thead th {\n",
       "        text-align: right;\n",
       "    }\n",
       "</style>\n",
       "<table border=\"1\" class=\"dataframe\">\n",
       "  <thead>\n",
       "    <tr style=\"text-align: right;\">\n",
       "      <th></th>\n",
       "      <th>count</th>\n",
       "      <th>mean</th>\n",
       "      <th>std</th>\n",
       "      <th>min</th>\n",
       "      <th>25%</th>\n",
       "      <th>50%</th>\n",
       "      <th>75%</th>\n",
       "      <th>max</th>\n",
       "    </tr>\n",
       "  </thead>\n",
       "  <tbody>\n",
       "    <tr>\n",
       "      <th>Age</th>\n",
       "      <td>48527.0</td>\n",
       "      <td>8.723082</td>\n",
       "      <td>2.859969</td>\n",
       "      <td>1.0</td>\n",
       "      <td>7.0</td>\n",
       "      <td>9.0</td>\n",
       "      <td>11.0</td>\n",
       "      <td>13.0</td>\n",
       "    </tr>\n",
       "    <tr>\n",
       "      <th>HighChol</th>\n",
       "      <td>48527.0</td>\n",
       "      <td>0.561667</td>\n",
       "      <td>0.496188</td>\n",
       "      <td>0.0</td>\n",
       "      <td>0.0</td>\n",
       "      <td>1.0</td>\n",
       "      <td>1.0</td>\n",
       "      <td>1.0</td>\n",
       "    </tr>\n",
       "    <tr>\n",
       "      <th>CholCheck</th>\n",
       "      <td>48527.0</td>\n",
       "      <td>0.959878</td>\n",
       "      <td>0.196247</td>\n",
       "      <td>0.0</td>\n",
       "      <td>1.0</td>\n",
       "      <td>1.0</td>\n",
       "      <td>1.0</td>\n",
       "      <td>1.0</td>\n",
       "    </tr>\n",
       "    <tr>\n",
       "      <th>BMI</th>\n",
       "      <td>48527.0</td>\n",
       "      <td>31.149216</td>\n",
       "      <td>8.426706</td>\n",
       "      <td>12.0</td>\n",
       "      <td>26.0</td>\n",
       "      <td>30.0</td>\n",
       "      <td>35.0</td>\n",
       "      <td>98.0</td>\n",
       "    </tr>\n",
       "    <tr>\n",
       "      <th>HeartDiseaseorAttack</th>\n",
       "      <td>48527.0</td>\n",
       "      <td>0.197457</td>\n",
       "      <td>0.398084</td>\n",
       "      <td>0.0</td>\n",
       "      <td>0.0</td>\n",
       "      <td>0.0</td>\n",
       "      <td>0.0</td>\n",
       "      <td>1.0</td>\n",
       "    </tr>\n",
       "    <tr>\n",
       "      <th>PhysActivity</th>\n",
       "      <td>48527.0</td>\n",
       "      <td>0.594824</td>\n",
       "      <td>0.490931</td>\n",
       "      <td>0.0</td>\n",
       "      <td>0.0</td>\n",
       "      <td>1.0</td>\n",
       "      <td>1.0</td>\n",
       "      <td>1.0</td>\n",
       "    </tr>\n",
       "    <tr>\n",
       "      <th>GenHlth</th>\n",
       "      <td>48527.0</td>\n",
       "      <td>3.143817</td>\n",
       "      <td>1.105893</td>\n",
       "      <td>1.0</td>\n",
       "      <td>2.0</td>\n",
       "      <td>3.0</td>\n",
       "      <td>4.0</td>\n",
       "      <td>5.0</td>\n",
       "    </tr>\n",
       "    <tr>\n",
       "      <th>PhysHlth</th>\n",
       "      <td>48527.0</td>\n",
       "      <td>8.297113</td>\n",
       "      <td>10.859965</td>\n",
       "      <td>0.0</td>\n",
       "      <td>0.0</td>\n",
       "      <td>3.0</td>\n",
       "      <td>15.0</td>\n",
       "      <td>30.0</td>\n",
       "    </tr>\n",
       "    <tr>\n",
       "      <th>DiffWalk</th>\n",
       "      <td>48527.0</td>\n",
       "      <td>0.367280</td>\n",
       "      <td>0.482069</td>\n",
       "      <td>0.0</td>\n",
       "      <td>0.0</td>\n",
       "      <td>0.0</td>\n",
       "      <td>1.0</td>\n",
       "      <td>1.0</td>\n",
       "    </tr>\n",
       "    <tr>\n",
       "      <th>Hypertension</th>\n",
       "      <td>48527.0</td>\n",
       "      <td>0.607250</td>\n",
       "      <td>0.488367</td>\n",
       "      <td>0.0</td>\n",
       "      <td>0.0</td>\n",
       "      <td>1.0</td>\n",
       "      <td>1.0</td>\n",
       "      <td>1.0</td>\n",
       "    </tr>\n",
       "    <tr>\n",
       "      <th>Stroke</th>\n",
       "      <td>48527.0</td>\n",
       "      <td>0.096359</td>\n",
       "      <td>0.295086</td>\n",
       "      <td>0.0</td>\n",
       "      <td>0.0</td>\n",
       "      <td>0.0</td>\n",
       "      <td>0.0</td>\n",
       "      <td>1.0</td>\n",
       "    </tr>\n",
       "    <tr>\n",
       "      <th>Diabetes</th>\n",
       "      <td>48527.0</td>\n",
       "      <td>0.584829</td>\n",
       "      <td>0.492757</td>\n",
       "      <td>0.0</td>\n",
       "      <td>0.0</td>\n",
       "      <td>1.0</td>\n",
       "      <td>1.0</td>\n",
       "      <td>1.0</td>\n",
       "    </tr>\n",
       "  </tbody>\n",
       "</table>\n",
       "</div>"
      ],
      "text/plain": [
       "                        count       mean        std   min   25%   50%   75%  \\\n",
       "Age                   48527.0   8.723082   2.859969   1.0   7.0   9.0  11.0   \n",
       "HighChol              48527.0   0.561667   0.496188   0.0   0.0   1.0   1.0   \n",
       "CholCheck             48527.0   0.959878   0.196247   0.0   1.0   1.0   1.0   \n",
       "BMI                   48527.0  31.149216   8.426706  12.0  26.0  30.0  35.0   \n",
       "HeartDiseaseorAttack  48527.0   0.197457   0.398084   0.0   0.0   0.0   0.0   \n",
       "PhysActivity          48527.0   0.594824   0.490931   0.0   0.0   1.0   1.0   \n",
       "GenHlth               48527.0   3.143817   1.105893   1.0   2.0   3.0   4.0   \n",
       "PhysHlth              48527.0   8.297113  10.859965   0.0   0.0   3.0  15.0   \n",
       "DiffWalk              48527.0   0.367280   0.482069   0.0   0.0   0.0   1.0   \n",
       "Hypertension          48527.0   0.607250   0.488367   0.0   0.0   1.0   1.0   \n",
       "Stroke                48527.0   0.096359   0.295086   0.0   0.0   0.0   0.0   \n",
       "Diabetes              48527.0   0.584829   0.492757   0.0   0.0   1.0   1.0   \n",
       "\n",
       "                       max  \n",
       "Age                   13.0  \n",
       "HighChol               1.0  \n",
       "CholCheck              1.0  \n",
       "BMI                   98.0  \n",
       "HeartDiseaseorAttack   1.0  \n",
       "PhysActivity           1.0  \n",
       "GenHlth                5.0  \n",
       "PhysHlth              30.0  \n",
       "DiffWalk               1.0  \n",
       "Hypertension           1.0  \n",
       "Stroke                 1.0  \n",
       "Diabetes               1.0  "
      ]
     },
     "execution_count": 37,
     "metadata": {},
     "output_type": "execute_result"
    }
   ],
   "source": [
    "df.describe().T"
   ]
  },
  {
   "cell_type": "code",
   "execution_count": 38,
   "id": "cd25ecaf",
   "metadata": {
    "execution": {
     "iopub.execute_input": "2022-12-03T19:19:14.884061Z",
     "iopub.status.busy": "2022-12-03T19:19:14.883623Z",
     "iopub.status.idle": "2022-12-03T19:19:14.894819Z",
     "shell.execute_reply": "2022-12-03T19:19:14.893753Z"
    },
    "papermill": {
     "duration": 0.044489,
     "end_time": "2022-12-03T19:19:14.897386",
     "exception": false,
     "start_time": "2022-12-03T19:19:14.852897",
     "status": "completed"
    },
    "tags": []
   },
   "outputs": [
    {
     "data": {
      "text/plain": [
       "0.0    1412\n",
       "1.0     709\n",
       "Name: Diabetes, dtype: int64"
      ]
     },
     "execution_count": 38,
     "metadata": {},
     "output_type": "execute_result"
    }
   ],
   "source": [
    "df[(df[\"BMI\"]<=20)][\"Diabetes\"].value_counts()"
   ]
  },
  {
   "cell_type": "code",
   "execution_count": 39,
   "id": "2b533379",
   "metadata": {
    "execution": {
     "iopub.execute_input": "2022-12-03T19:19:14.958030Z",
     "iopub.status.busy": "2022-12-03T19:19:14.957162Z",
     "iopub.status.idle": "2022-12-03T19:19:15.143940Z",
     "shell.execute_reply": "2022-12-03T19:19:15.142759Z"
    },
    "papermill": {
     "duration": 0.220302,
     "end_time": "2022-12-03T19:19:15.146493",
     "exception": false,
     "start_time": "2022-12-03T19:19:14.926191",
     "status": "completed"
    },
    "tags": []
   },
   "outputs": [
    {
     "data": {
      "text/plain": [
       "<AxesSubplot:xlabel='BMI'>"
      ]
     },
     "execution_count": 39,
     "metadata": {},
     "output_type": "execute_result"
    },
    {
     "data": {
      "image/png": "[encoded data removed]",
      "text/plain": [
       "<Figure size 432x288 with 1 Axes>"
      ]
     },
     "metadata": {
      "needs_background": "light"
     },
     "output_type": "display_data"
    }
   ],
   "source": [
    "sns.boxplot(df[\"BMI\"])"
   ]
  },
  {
   "cell_type": "code",
   "execution_count": 40,
   "id": "d2bf1df3",
   "metadata": {
    "execution": {
     "iopub.execute_input": "2022-12-03T19:19:15.208082Z",
     "iopub.status.busy": "2022-12-03T19:19:15.207086Z",
     "iopub.status.idle": "2022-12-03T19:19:15.239327Z",
     "shell.execute_reply": "2022-12-03T19:19:15.238167Z"
    },
    "papermill": {
     "duration": 0.065962,
     "end_time": "2022-12-03T19:19:15.241832",
     "exception": false,
     "start_time": "2022-12-03T19:19:15.175870",
     "status": "completed"
    },
    "tags": []
   },
   "outputs": [
    {
     "data": {
      "text/html": [
       "<div>\n",
       "<style scoped>\n",
       "    .dataframe tbody tr th:only-of-type {\n",
       "        vertical-align: middle;\n",
       "    }\n",
       "\n",
       "    .dataframe tbody tr th {\n",
       "        vertical-align: top;\n",
       "    }\n",
       "\n",
       "    .dataframe thead th {\n",
       "        text-align: right;\n",
       "    }\n",
       "</style>\n",
       "<table border=\"1\" class=\"dataframe\">\n",
       "  <thead>\n",
       "    <tr style=\"text-align: right;\">\n",
       "      <th></th>\n",
       "      <th>Age</th>\n",
       "      <th>HighChol</th>\n",
       "      <th>CholCheck</th>\n",
       "      <th>BMI</th>\n",
       "      <th>HeartDiseaseorAttack</th>\n",
       "      <th>PhysActivity</th>\n",
       "      <th>GenHlth</th>\n",
       "      <th>PhysHlth</th>\n",
       "      <th>DiffWalk</th>\n",
       "      <th>Hypertension</th>\n",
       "      <th>Stroke</th>\n",
       "      <th>Diabetes</th>\n",
       "    </tr>\n",
       "  </thead>\n",
       "  <tbody>\n",
       "    <tr>\n",
       "      <th>0</th>\n",
       "      <td>4.0</td>\n",
       "      <td>0.0</td>\n",
       "      <td>1.0</td>\n",
       "      <td>26.0</td>\n",
       "      <td>0.0</td>\n",
       "      <td>1.0</td>\n",
       "      <td>3.0</td>\n",
       "      <td>30.0</td>\n",
       "      <td>0.0</td>\n",
       "      <td>1.0</td>\n",
       "      <td>0.0</td>\n",
       "      <td>0.0</td>\n",
       "    </tr>\n",
       "    <tr>\n",
       "      <th>1</th>\n",
       "      <td>12.0</td>\n",
       "      <td>1.0</td>\n",
       "      <td>1.0</td>\n",
       "      <td>26.0</td>\n",
       "      <td>0.0</td>\n",
       "      <td>0.0</td>\n",
       "      <td>3.0</td>\n",
       "      <td>0.0</td>\n",
       "      <td>0.0</td>\n",
       "      <td>1.0</td>\n",
       "      <td>1.0</td>\n",
       "      <td>0.0</td>\n",
       "    </tr>\n",
       "    <tr>\n",
       "      <th>2</th>\n",
       "      <td>13.0</td>\n",
       "      <td>0.0</td>\n",
       "      <td>1.0</td>\n",
       "      <td>26.0</td>\n",
       "      <td>0.0</td>\n",
       "      <td>1.0</td>\n",
       "      <td>1.0</td>\n",
       "      <td>10.0</td>\n",
       "      <td>0.0</td>\n",
       "      <td>0.0</td>\n",
       "      <td>0.0</td>\n",
       "      <td>0.0</td>\n",
       "    </tr>\n",
       "    <tr>\n",
       "      <th>3</th>\n",
       "      <td>11.0</td>\n",
       "      <td>1.0</td>\n",
       "      <td>1.0</td>\n",
       "      <td>28.0</td>\n",
       "      <td>0.0</td>\n",
       "      <td>1.0</td>\n",
       "      <td>3.0</td>\n",
       "      <td>3.0</td>\n",
       "      <td>0.0</td>\n",
       "      <td>1.0</td>\n",
       "      <td>0.0</td>\n",
       "      <td>0.0</td>\n",
       "    </tr>\n",
       "    <tr>\n",
       "      <th>4</th>\n",
       "      <td>8.0</td>\n",
       "      <td>0.0</td>\n",
       "      <td>1.0</td>\n",
       "      <td>29.0</td>\n",
       "      <td>0.0</td>\n",
       "      <td>1.0</td>\n",
       "      <td>2.0</td>\n",
       "      <td>0.0</td>\n",
       "      <td>0.0</td>\n",
       "      <td>0.0</td>\n",
       "      <td>0.0</td>\n",
       "      <td>0.0</td>\n",
       "    </tr>\n",
       "    <tr>\n",
       "      <th>...</th>\n",
       "      <td>...</td>\n",
       "      <td>...</td>\n",
       "      <td>...</td>\n",
       "      <td>...</td>\n",
       "      <td>...</td>\n",
       "      <td>...</td>\n",
       "      <td>...</td>\n",
       "      <td>...</td>\n",
       "      <td>...</td>\n",
       "      <td>...</td>\n",
       "      <td>...</td>\n",
       "      <td>...</td>\n",
       "    </tr>\n",
       "    <tr>\n",
       "      <th>80686</th>\n",
       "      <td>7.0</td>\n",
       "      <td>1.0</td>\n",
       "      <td>1.0</td>\n",
       "      <td>41.0</td>\n",
       "      <td>0.0</td>\n",
       "      <td>0.0</td>\n",
       "      <td>4.0</td>\n",
       "      <td>5.0</td>\n",
       "      <td>1.0</td>\n",
       "      <td>1.0</td>\n",
       "      <td>0.0</td>\n",
       "      <td>1.0</td>\n",
       "    </tr>\n",
       "    <tr>\n",
       "      <th>80687</th>\n",
       "      <td>3.0</td>\n",
       "      <td>0.0</td>\n",
       "      <td>1.0</td>\n",
       "      <td>23.0</td>\n",
       "      <td>0.0</td>\n",
       "      <td>1.0</td>\n",
       "      <td>3.0</td>\n",
       "      <td>0.0</td>\n",
       "      <td>1.0</td>\n",
       "      <td>0.0</td>\n",
       "      <td>0.0</td>\n",
       "      <td>0.0</td>\n",
       "    </tr>\n",
       "    <tr>\n",
       "      <th>80688</th>\n",
       "      <td>10.0</td>\n",
       "      <td>1.0</td>\n",
       "      <td>1.0</td>\n",
       "      <td>22.0</td>\n",
       "      <td>0.0</td>\n",
       "      <td>0.0</td>\n",
       "      <td>3.0</td>\n",
       "      <td>30.0</td>\n",
       "      <td>1.0</td>\n",
       "      <td>1.0</td>\n",
       "      <td>0.0</td>\n",
       "      <td>1.0</td>\n",
       "    </tr>\n",
       "    <tr>\n",
       "      <th>80690</th>\n",
       "      <td>4.0</td>\n",
       "      <td>1.0</td>\n",
       "      <td>0.0</td>\n",
       "      <td>29.0</td>\n",
       "      <td>0.0</td>\n",
       "      <td>1.0</td>\n",
       "      <td>3.0</td>\n",
       "      <td>15.0</td>\n",
       "      <td>0.0</td>\n",
       "      <td>0.0</td>\n",
       "      <td>0.0</td>\n",
       "      <td>0.0</td>\n",
       "    </tr>\n",
       "    <tr>\n",
       "      <th>80691</th>\n",
       "      <td>11.0</td>\n",
       "      <td>1.0</td>\n",
       "      <td>0.0</td>\n",
       "      <td>26.0</td>\n",
       "      <td>0.0</td>\n",
       "      <td>1.0</td>\n",
       "      <td>1.0</td>\n",
       "      <td>0.0</td>\n",
       "      <td>0.0</td>\n",
       "      <td>1.0</td>\n",
       "      <td>0.0</td>\n",
       "      <td>1.0</td>\n",
       "    </tr>\n",
       "  </tbody>\n",
       "</table>\n",
       "<p>48527 rows × 12 columns</p>\n",
       "</div>"
      ],
      "text/plain": [
       "        Age  HighChol  CholCheck   BMI  HeartDiseaseorAttack  PhysActivity  \\\n",
       "0       4.0       0.0        1.0  26.0                   0.0           1.0   \n",
       "1      12.0       1.0        1.0  26.0                   0.0           0.0   \n",
       "2      13.0       0.0        1.0  26.0                   0.0           1.0   \n",
       "3      11.0       1.0        1.0  28.0                   0.0           1.0   \n",
       "4       8.0       0.0        1.0  29.0                   0.0           1.0   \n",
       "...     ...       ...        ...   ...                   ...           ...   \n",
       "80686   7.0       1.0        1.0  41.0                   0.0           0.0   \n",
       "80687   3.0       0.0        1.0  23.0                   0.0           1.0   \n",
       "80688  10.0       1.0        1.0  22.0                   0.0           0.0   \n",
       "80690   4.0       1.0        0.0  29.0                   0.0           1.0   \n",
       "80691  11.0       1.0        0.0  26.0                   0.0           1.0   \n",
       "\n",
       "       GenHlth  PhysHlth  DiffWalk  Hypertension  Stroke  Diabetes  \n",
       "0          3.0      30.0       0.0           1.0     0.0       0.0  \n",
       "1          3.0       0.0       0.0           1.0     1.0       0.0  \n",
       "2          1.0      10.0       0.0           0.0     0.0       0.0  \n",
       "3          3.0       3.0       0.0           1.0     0.0       0.0  \n",
       "4          2.0       0.0       0.0           0.0     0.0       0.0  \n",
       "...        ...       ...       ...           ...     ...       ...  \n",
       "80686      4.0       5.0       1.0           1.0     0.0       1.0  \n",
       "80687      3.0       0.0       1.0           0.0     0.0       0.0  \n",
       "80688      3.0      30.0       1.0           1.0     0.0       1.0  \n",
       "80690      3.0      15.0       0.0           0.0     0.0       0.0  \n",
       "80691      1.0       0.0       0.0           1.0     0.0       1.0  \n",
       "\n",
       "[48527 rows x 12 columns]"
      ]
     },
     "execution_count": 40,
     "metadata": {},
     "output_type": "execute_result"
    }
   ],
   "source": [
    "df"
   ]
  },
  {
   "cell_type": "code",
   "execution_count": 41,
   "id": "ddabe472",
   "metadata": {
    "execution": {
     "iopub.execute_input": "2022-12-03T19:19:15.303412Z",
     "iopub.status.busy": "2022-12-03T19:19:15.302395Z",
     "iopub.status.idle": "2022-12-03T19:19:15.311844Z",
     "shell.execute_reply": "2022-12-03T19:19:15.310728Z"
    },
    "papermill": {
     "duration": 0.0427,
     "end_time": "2022-12-03T19:19:15.314042",
     "exception": false,
     "start_time": "2022-12-03T19:19:15.271342",
     "status": "completed"
    },
    "tags": []
   },
   "outputs": [
    {
     "data": {
      "text/plain": [
       "array([26., 28., 29., 18., 31., 32., 27., 24., 21., 58., 30., 20., 22.,\n",
       "       38., 40., 25., 36., 47., 19., 37., 41., 23., 34., 35., 42., 17.,\n",
       "       33., 44., 15., 52., 69., 56., 45., 39., 92., 53., 98., 50., 46.,\n",
       "       79., 48., 16., 63., 72., 54., 49., 68., 43., 84., 73., 76., 55.,\n",
       "       51., 75., 57., 60., 12., 77., 82., 67., 71., 61., 14., 81., 59.,\n",
       "       86., 13., 87., 65., 95., 89., 62., 64., 66., 85., 70., 83., 80.,\n",
       "       78., 74.])"
      ]
     },
     "execution_count": 41,
     "metadata": {},
     "output_type": "execute_result"
    }
   ],
   "source": [
    "df['BMI'].unique()"
   ]
  },
  {
   "cell_type": "code",
   "execution_count": 42,
   "id": "285c992f",
   "metadata": {
    "execution": {
     "iopub.execute_input": "2022-12-03T19:19:15.378331Z",
     "iopub.status.busy": "2022-12-03T19:19:15.376935Z",
     "iopub.status.idle": "2022-12-03T19:19:15.391000Z",
     "shell.execute_reply": "2022-12-03T19:19:15.390060Z"
    },
    "papermill": {
     "duration": 0.049878,
     "end_time": "2022-12-03T19:19:15.394361",
     "exception": false,
     "start_time": "2022-12-03T19:19:15.344483",
     "status": "completed"
    },
    "tags": []
   },
   "outputs": [
    {
     "data": {
      "text/plain": [
       "27.0    3694\n",
       "30.0    3089\n",
       "26.0    2748\n",
       "28.0    2725\n",
       "29.0    2667\n",
       "        ... \n",
       "80.0       2\n",
       "12.0       1\n",
       "85.0       1\n",
       "78.0       1\n",
       "74.0       1\n",
       "Name: BMI, Length: 80, dtype: int64"
      ]
     },
     "execution_count": 42,
     "metadata": {},
     "output_type": "execute_result"
    }
   ],
   "source": [
    "df['BMI'].value_counts()"
   ]
  },
  {
   "cell_type": "code",
   "execution_count": 43,
   "id": "6bfb233b",
   "metadata": {
    "execution": {
     "iopub.execute_input": "2022-12-03T19:19:15.479346Z",
     "iopub.status.busy": "2022-12-03T19:19:15.478348Z",
     "iopub.status.idle": "2022-12-03T19:19:17.165152Z",
     "shell.execute_reply": "2022-12-03T19:19:17.163991Z"
    },
    "papermill": {
     "duration": 1.731234,
     "end_time": "2022-12-03T19:19:17.167879",
     "exception": false,
     "start_time": "2022-12-03T19:19:15.436645",
     "status": "completed"
    },
    "tags": []
   },
   "outputs": [
    {
     "data": {
      "text/plain": [
       "Age                        AxesSubplot(0.125,0.787927;0.168478x0.0920732)\n",
       "HighChol                AxesSubplot(0.327174,0.787927;0.168478x0.0920732)\n",
       "CholCheck               AxesSubplot(0.529348,0.787927;0.168478x0.0920732)\n",
       "BMI                     AxesSubplot(0.731522,0.787927;0.168478x0.0920732)\n",
       "HeartDiseaseorAttack       AxesSubplot(0.125,0.677439;0.168478x0.0920732)\n",
       "PhysActivity            AxesSubplot(0.327174,0.677439;0.168478x0.0920732)\n",
       "GenHlth                 AxesSubplot(0.529348,0.677439;0.168478x0.0920732)\n",
       "PhysHlth                AxesSubplot(0.731522,0.677439;0.168478x0.0920732)\n",
       "DiffWalk                   AxesSubplot(0.125,0.566951;0.168478x0.0920732)\n",
       "Hypertension            AxesSubplot(0.327174,0.566951;0.168478x0.0920732)\n",
       "Stroke                  AxesSubplot(0.529348,0.566951;0.168478x0.0920732)\n",
       "Diabetes                AxesSubplot(0.731522,0.566951;0.168478x0.0920732)\n",
       "dtype: object"
      ]
     },
     "execution_count": 43,
     "metadata": {},
     "output_type": "execute_result"
    },
    {
     "data": {
      "image/png": "[encoded data removed]",
      "text/plain": [
       "<Figure size 1080x1008 with 28 Axes>"
      ]
     },
     "metadata": {
      "needs_background": "light"
     },
     "output_type": "display_data"
    }
   ],
   "source": [
    "df.plot(kind=\"box\", subplots=True, layout=(7,4), figsize=(15,14))"
   ]
  },
  {
   "cell_type": "code",
   "execution_count": 44,
   "id": "ea0917b5",
   "metadata": {
    "execution": {
     "iopub.execute_input": "2022-12-03T19:19:17.231853Z",
     "iopub.status.busy": "2022-12-03T19:19:17.231466Z",
     "iopub.status.idle": "2022-12-03T19:19:17.238418Z",
     "shell.execute_reply": "2022-12-03T19:19:17.237251Z"
    },
    "papermill": {
     "duration": 0.042174,
     "end_time": "2022-12-03T19:19:17.240848",
     "exception": false,
     "start_time": "2022-12-03T19:19:17.198674",
     "status": "completed"
    },
    "tags": []
   },
   "outputs": [
    {
     "data": {
      "text/plain": [
       "\"df.loc[(df['PhysHlth']<=5),'PhysHlth']=1\\ndf.loc[(df['PhysHlth']<=15) & (df['PhysHlth']>5),'PhysHlth']=2\\ndf.loc[(df['PhysHlth']<=30) & (df['PhysHlth']>15),'PhysHlth']=3\""
      ]
     },
     "execution_count": 44,
     "metadata": {},
     "output_type": "execute_result"
    }
   ],
   "source": [
    "'''df.loc[(df['PhysHlth']<=5),'PhysHlth']=1\n",
    "df.loc[(df['PhysHlth']<=15) & (df['PhysHlth']>5),'PhysHlth']=2\n",
    "df.loc[(df['PhysHlth']<=30) & (df['PhysHlth']>15),'PhysHlth']=3'''\n"
   ]
  },
  {
   "cell_type": "code",
   "execution_count": 45,
   "id": "e17068cd",
   "metadata": {
    "execution": {
     "iopub.execute_input": "2022-12-03T19:19:17.304255Z",
     "iopub.status.busy": "2022-12-03T19:19:17.303827Z",
     "iopub.status.idle": "2022-12-03T19:19:17.310329Z",
     "shell.execute_reply": "2022-12-03T19:19:17.309339Z"
    },
    "papermill": {
     "duration": 0.040888,
     "end_time": "2022-12-03T19:19:17.312668",
     "exception": false,
     "start_time": "2022-12-03T19:19:17.271780",
     "status": "completed"
    },
    "tags": []
   },
   "outputs": [
    {
     "data": {
      "text/plain": [
       "\"cor_test.loc[(cor_test['PhysHlth']<=5),'PhysHlth']=1\\ncor_test.loc[(cor_test['PhysHlth']<=15) & (cor_test['PhysHlth']>5),'PhysHlth']=2\\ncor_test.loc[(cor_test['PhysHlth']<=30) & (cor_test['PhysHlth']>15),'PhysHlth']=3\""
      ]
     },
     "execution_count": 45,
     "metadata": {},
     "output_type": "execute_result"
    }
   ],
   "source": [
    "'''cor_test.loc[(cor_test['PhysHlth']<=5),'PhysHlth']=1\n",
    "cor_test.loc[(cor_test['PhysHlth']<=15) & (cor_test['PhysHlth']>5),'PhysHlth']=2\n",
    "cor_test.loc[(cor_test['PhysHlth']<=30) & (cor_test['PhysHlth']>15),'PhysHlth']=3'''"
   ]
  },
  {
   "cell_type": "code",
   "execution_count": 46,
   "id": "69408b0d",
   "metadata": {
    "execution": {
     "iopub.execute_input": "2022-12-03T19:19:17.376163Z",
     "iopub.status.busy": "2022-12-03T19:19:17.375757Z",
     "iopub.status.idle": "2022-12-03T19:19:17.380929Z",
     "shell.execute_reply": "2022-12-03T19:19:17.379584Z"
    },
    "papermill": {
     "duration": 0.040201,
     "end_time": "2022-12-03T19:19:17.383544",
     "exception": false,
     "start_time": "2022-12-03T19:19:17.343343",
     "status": "completed"
    },
    "tags": []
   },
   "outputs": [],
   "source": [
    "#bmi=df.sort_values(by='BMI',ascending=False)"
   ]
  },
  {
   "cell_type": "code",
   "execution_count": 47,
   "id": "38668f0c",
   "metadata": {
    "execution": {
     "iopub.execute_input": "2022-12-03T19:19:17.448886Z",
     "iopub.status.busy": "2022-12-03T19:19:17.448429Z",
     "iopub.status.idle": "2022-12-03T19:19:17.455452Z",
     "shell.execute_reply": "2022-12-03T19:19:17.454262Z"
    },
    "papermill": {
     "duration": 0.042254,
     "end_time": "2022-12-03T19:19:17.458005",
     "exception": false,
     "start_time": "2022-12-03T19:19:17.415751",
     "status": "completed"
    },
    "tags": []
   },
   "outputs": [
    {
     "data": {
      "text/plain": [
       "(48527, 12)"
      ]
     },
     "execution_count": 47,
     "metadata": {},
     "output_type": "execute_result"
    }
   ],
   "source": [
    "df.shape"
   ]
  },
  {
   "cell_type": "code",
   "execution_count": 48,
   "id": "308904f0",
   "metadata": {
    "execution": {
     "iopub.execute_input": "2022-12-03T19:19:17.524189Z",
     "iopub.status.busy": "2022-12-03T19:19:17.523796Z",
     "iopub.status.idle": "2022-12-03T19:19:17.532252Z",
     "shell.execute_reply": "2022-12-03T19:19:17.531134Z"
    },
    "papermill": {
     "duration": 0.044505,
     "end_time": "2022-12-03T19:19:17.535090",
     "exception": false,
     "start_time": "2022-12-03T19:19:17.490585",
     "status": "completed"
    },
    "tags": []
   },
   "outputs": [],
   "source": [
    "df=df[df['BMI']<45]"
   ]
  },
  {
   "cell_type": "code",
   "execution_count": 49,
   "id": "53982ffe",
   "metadata": {
    "execution": {
     "iopub.execute_input": "2022-12-03T19:19:17.601707Z",
     "iopub.status.busy": "2022-12-03T19:19:17.601249Z",
     "iopub.status.idle": "2022-12-03T19:19:17.609688Z",
     "shell.execute_reply": "2022-12-03T19:19:17.608513Z"
    },
    "papermill": {
     "duration": 0.045136,
     "end_time": "2022-12-03T19:19:17.612141",
     "exception": false,
     "start_time": "2022-12-03T19:19:17.567005",
     "status": "completed"
    },
    "tags": []
   },
   "outputs": [
    {
     "data": {
      "text/plain": [
       "array([26., 28., 29., 18., 31., 32., 27., 24., 21., 30., 20., 22., 38.,\n",
       "       40., 25., 36., 19., 37., 41., 23., 34., 35., 42., 17., 33., 44.,\n",
       "       15., 39., 16., 43., 12., 14., 13.])"
      ]
     },
     "execution_count": 49,
     "metadata": {},
     "output_type": "execute_result"
    }
   ],
   "source": [
    "df['BMI'].unique()"
   ]
  },
  {
   "cell_type": "code",
   "execution_count": 50,
   "id": "f3fd8f97",
   "metadata": {
    "execution": {
     "iopub.execute_input": "2022-12-03T19:19:17.679057Z",
     "iopub.status.busy": "2022-12-03T19:19:17.678630Z",
     "iopub.status.idle": "2022-12-03T19:19:17.707821Z",
     "shell.execute_reply": "2022-12-03T19:19:17.706701Z"
    },
    "papermill": {
     "duration": 0.064195,
     "end_time": "2022-12-03T19:19:17.710274",
     "exception": false,
     "start_time": "2022-12-03T19:19:17.646079",
     "status": "completed"
    },
    "tags": []
   },
   "outputs": [
    {
     "data": {
      "text/html": [
       "<div>\n",
       "<style scoped>\n",
       "    .dataframe tbody tr th:only-of-type {\n",
       "        vertical-align: middle;\n",
       "    }\n",
       "\n",
       "    .dataframe tbody tr th {\n",
       "        vertical-align: top;\n",
       "    }\n",
       "\n",
       "    .dataframe thead th {\n",
       "        text-align: right;\n",
       "    }\n",
       "</style>\n",
       "<table border=\"1\" class=\"dataframe\">\n",
       "  <thead>\n",
       "    <tr style=\"text-align: right;\">\n",
       "      <th></th>\n",
       "      <th>Age</th>\n",
       "      <th>HighChol</th>\n",
       "      <th>CholCheck</th>\n",
       "      <th>BMI</th>\n",
       "      <th>HeartDiseaseorAttack</th>\n",
       "      <th>PhysActivity</th>\n",
       "      <th>GenHlth</th>\n",
       "      <th>PhysHlth</th>\n",
       "      <th>DiffWalk</th>\n",
       "      <th>Hypertension</th>\n",
       "      <th>Stroke</th>\n",
       "      <th>Diabetes</th>\n",
       "    </tr>\n",
       "  </thead>\n",
       "  <tbody>\n",
       "    <tr>\n",
       "      <th>0</th>\n",
       "      <td>4.0</td>\n",
       "      <td>0.0</td>\n",
       "      <td>1.0</td>\n",
       "      <td>26.0</td>\n",
       "      <td>0.0</td>\n",
       "      <td>1.0</td>\n",
       "      <td>3.0</td>\n",
       "      <td>30.0</td>\n",
       "      <td>0.0</td>\n",
       "      <td>1.0</td>\n",
       "      <td>0.0</td>\n",
       "      <td>0.0</td>\n",
       "    </tr>\n",
       "    <tr>\n",
       "      <th>1</th>\n",
       "      <td>12.0</td>\n",
       "      <td>1.0</td>\n",
       "      <td>1.0</td>\n",
       "      <td>26.0</td>\n",
       "      <td>0.0</td>\n",
       "      <td>0.0</td>\n",
       "      <td>3.0</td>\n",
       "      <td>0.0</td>\n",
       "      <td>0.0</td>\n",
       "      <td>1.0</td>\n",
       "      <td>1.0</td>\n",
       "      <td>0.0</td>\n",
       "    </tr>\n",
       "    <tr>\n",
       "      <th>2</th>\n",
       "      <td>13.0</td>\n",
       "      <td>0.0</td>\n",
       "      <td>1.0</td>\n",
       "      <td>26.0</td>\n",
       "      <td>0.0</td>\n",
       "      <td>1.0</td>\n",
       "      <td>1.0</td>\n",
       "      <td>10.0</td>\n",
       "      <td>0.0</td>\n",
       "      <td>0.0</td>\n",
       "      <td>0.0</td>\n",
       "      <td>0.0</td>\n",
       "    </tr>\n",
       "    <tr>\n",
       "      <th>3</th>\n",
       "      <td>11.0</td>\n",
       "      <td>1.0</td>\n",
       "      <td>1.0</td>\n",
       "      <td>28.0</td>\n",
       "      <td>0.0</td>\n",
       "      <td>1.0</td>\n",
       "      <td>3.0</td>\n",
       "      <td>3.0</td>\n",
       "      <td>0.0</td>\n",
       "      <td>1.0</td>\n",
       "      <td>0.0</td>\n",
       "      <td>0.0</td>\n",
       "    </tr>\n",
       "    <tr>\n",
       "      <th>4</th>\n",
       "      <td>8.0</td>\n",
       "      <td>0.0</td>\n",
       "      <td>1.0</td>\n",
       "      <td>29.0</td>\n",
       "      <td>0.0</td>\n",
       "      <td>1.0</td>\n",
       "      <td>2.0</td>\n",
       "      <td>0.0</td>\n",
       "      <td>0.0</td>\n",
       "      <td>0.0</td>\n",
       "      <td>0.0</td>\n",
       "      <td>0.0</td>\n",
       "    </tr>\n",
       "    <tr>\n",
       "      <th>...</th>\n",
       "      <td>...</td>\n",
       "      <td>...</td>\n",
       "      <td>...</td>\n",
       "      <td>...</td>\n",
       "      <td>...</td>\n",
       "      <td>...</td>\n",
       "      <td>...</td>\n",
       "      <td>...</td>\n",
       "      <td>...</td>\n",
       "      <td>...</td>\n",
       "      <td>...</td>\n",
       "      <td>...</td>\n",
       "    </tr>\n",
       "    <tr>\n",
       "      <th>80686</th>\n",
       "      <td>7.0</td>\n",
       "      <td>1.0</td>\n",
       "      <td>1.0</td>\n",
       "      <td>41.0</td>\n",
       "      <td>0.0</td>\n",
       "      <td>0.0</td>\n",
       "      <td>4.0</td>\n",
       "      <td>5.0</td>\n",
       "      <td>1.0</td>\n",
       "      <td>1.0</td>\n",
       "      <td>0.0</td>\n",
       "      <td>1.0</td>\n",
       "    </tr>\n",
       "    <tr>\n",
       "      <th>80687</th>\n",
       "      <td>3.0</td>\n",
       "      <td>0.0</td>\n",
       "      <td>1.0</td>\n",
       "      <td>23.0</td>\n",
       "      <td>0.0</td>\n",
       "      <td>1.0</td>\n",
       "      <td>3.0</td>\n",
       "      <td>0.0</td>\n",
       "      <td>1.0</td>\n",
       "      <td>0.0</td>\n",
       "      <td>0.0</td>\n",
       "      <td>0.0</td>\n",
       "    </tr>\n",
       "    <tr>\n",
       "      <th>80688</th>\n",
       "      <td>10.0</td>\n",
       "      <td>1.0</td>\n",
       "      <td>1.0</td>\n",
       "      <td>22.0</td>\n",
       "      <td>0.0</td>\n",
       "      <td>0.0</td>\n",
       "      <td>3.0</td>\n",
       "      <td>30.0</td>\n",
       "      <td>1.0</td>\n",
       "      <td>1.0</td>\n",
       "      <td>0.0</td>\n",
       "      <td>1.0</td>\n",
       "    </tr>\n",
       "    <tr>\n",
       "      <th>80690</th>\n",
       "      <td>4.0</td>\n",
       "      <td>1.0</td>\n",
       "      <td>0.0</td>\n",
       "      <td>29.0</td>\n",
       "      <td>0.0</td>\n",
       "      <td>1.0</td>\n",
       "      <td>3.0</td>\n",
       "      <td>15.0</td>\n",
       "      <td>0.0</td>\n",
       "      <td>0.0</td>\n",
       "      <td>0.0</td>\n",
       "      <td>0.0</td>\n",
       "    </tr>\n",
       "    <tr>\n",
       "      <th>80691</th>\n",
       "      <td>11.0</td>\n",
       "      <td>1.0</td>\n",
       "      <td>0.0</td>\n",
       "      <td>26.0</td>\n",
       "      <td>0.0</td>\n",
       "      <td>1.0</td>\n",
       "      <td>1.0</td>\n",
       "      <td>0.0</td>\n",
       "      <td>0.0</td>\n",
       "      <td>1.0</td>\n",
       "      <td>0.0</td>\n",
       "      <td>1.0</td>\n",
       "    </tr>\n",
       "  </tbody>\n",
       "</table>\n",
       "<p>45660 rows × 12 columns</p>\n",
       "</div>"
      ],
      "text/plain": [
       "        Age  HighChol  CholCheck   BMI  HeartDiseaseorAttack  PhysActivity  \\\n",
       "0       4.0       0.0        1.0  26.0                   0.0           1.0   \n",
       "1      12.0       1.0        1.0  26.0                   0.0           0.0   \n",
       "2      13.0       0.0        1.0  26.0                   0.0           1.0   \n",
       "3      11.0       1.0        1.0  28.0                   0.0           1.0   \n",
       "4       8.0       0.0        1.0  29.0                   0.0           1.0   \n",
       "...     ...       ...        ...   ...                   ...           ...   \n",
       "80686   7.0       1.0        1.0  41.0                   0.0           0.0   \n",
       "80687   3.0       0.0        1.0  23.0                   0.0           1.0   \n",
       "80688  10.0       1.0        1.0  22.0                   0.0           0.0   \n",
       "80690   4.0       1.0        0.0  29.0                   0.0           1.0   \n",
       "80691  11.0       1.0        0.0  26.0                   0.0           1.0   \n",
       "\n",
       "       GenHlth  PhysHlth  DiffWalk  Hypertension  Stroke  Diabetes  \n",
       "0          3.0      30.0       0.0           1.0     0.0       0.0  \n",
       "1          3.0       0.0       0.0           1.0     1.0       0.0  \n",
       "2          1.0      10.0       0.0           0.0     0.0       0.0  \n",
       "3          3.0       3.0       0.0           1.0     0.0       0.0  \n",
       "4          2.0       0.0       0.0           0.0     0.0       0.0  \n",
       "...        ...       ...       ...           ...     ...       ...  \n",
       "80686      4.0       5.0       1.0           1.0     0.0       1.0  \n",
       "80687      3.0       0.0       1.0           0.0     0.0       0.0  \n",
       "80688      3.0      30.0       1.0           1.0     0.0       1.0  \n",
       "80690      3.0      15.0       0.0           0.0     0.0       0.0  \n",
       "80691      1.0       0.0       0.0           1.0     0.0       1.0  \n",
       "\n",
       "[45660 rows x 12 columns]"
      ]
     },
     "execution_count": 50,
     "metadata": {},
     "output_type": "execute_result"
    }
   ],
   "source": [
    "df"
   ]
  },
  {
   "cell_type": "code",
   "execution_count": 51,
   "id": "a48252e9",
   "metadata": {
    "execution": {
     "iopub.execute_input": "2022-12-03T19:19:17.775747Z",
     "iopub.status.busy": "2022-12-03T19:19:17.775330Z",
     "iopub.status.idle": "2022-12-03T19:19:17.780564Z",
     "shell.execute_reply": "2022-12-03T19:19:17.779372Z"
    },
    "papermill": {
     "duration": 0.041182,
     "end_time": "2022-12-03T19:19:17.782868",
     "exception": false,
     "start_time": "2022-12-03T19:19:17.741686",
     "status": "completed"
    },
    "tags": []
   },
   "outputs": [],
   "source": [
    "#df[['Age','HighChol','BMI','HeartDiseaseorAttack','GenHlth','Hypertension','Diabetes']].groupby(['Age','HighChol','BMI','HeartDiseaseorAttack','GenHlth','Hypertension'], as_index=False).mean().sort_values(by='Diabetes', ascending = False)"
   ]
  },
  {
   "cell_type": "code",
   "execution_count": 52,
   "id": "1133e78d",
   "metadata": {
    "execution": {
     "iopub.execute_input": "2022-12-03T19:19:17.847824Z",
     "iopub.status.busy": "2022-12-03T19:19:17.847423Z",
     "iopub.status.idle": "2022-12-03T19:19:17.854347Z",
     "shell.execute_reply": "2022-12-03T19:19:17.852923Z"
    },
    "papermill": {
     "duration": 0.042588,
     "end_time": "2022-12-03T19:19:17.856867",
     "exception": false,
     "start_time": "2022-12-03T19:19:17.814279",
     "status": "completed"
    },
    "tags": []
   },
   "outputs": [],
   "source": [
    "df['Risk']=0\n",
    "cor_test['Risk']=0"
   ]
  },
  {
   "cell_type": "code",
   "execution_count": 53,
   "id": "ac518119",
   "metadata": {
    "execution": {
     "iopub.execute_input": "2022-12-03T19:19:17.925002Z",
     "iopub.status.busy": "2022-12-03T19:19:17.924622Z",
     "iopub.status.idle": "2022-12-03T19:19:17.955711Z",
     "shell.execute_reply": "2022-12-03T19:19:17.954655Z"
    },
    "papermill": {
     "duration": 0.069384,
     "end_time": "2022-12-03T19:19:17.958656",
     "exception": false,
     "start_time": "2022-12-03T19:19:17.889272",
     "status": "completed"
    },
    "tags": []
   },
   "outputs": [],
   "source": [
    "df.loc[((df[\"Age\"]==1) & (df[\"BMI\"]>=24) & (df[\"PhysActivity\"]==0) & (df['HighChol']==1)& (df['Hypertension']==1)), \"Risk\"] = 1\n",
    "df.loc[((df[\"Age\"]==2) | (df[\"Age\"]==3)) &((df[\"BMI\"]<=20) | (df[\"BMI\"]>=25)) & (df[\"PhysActivity\"]==0)& (df['HighChol']==1)& (df['Hypertension']==1) , \"Risk\"] = 1\n",
    "df.loc[((df[\"Age\"]==4) | (df[\"Age\"]==5)) &((df[\"BMI\"]<=21) | (df[\"BMI\"]>=26)) & (df[\"PhysActivity\"]==0)& (df['HighChol']==1)& (df['Hypertension']==1) , \"Risk\"] = 1\n",
    "df.loc[((df[\"Age\"]==6) | (df[\"Age\"]==7)) &((df[\"BMI\"]<=22) | (df[\"BMI\"]>=27)) & (df[\"PhysActivity\"]==0)& (df['HighChol']==1)& (df['Hypertension']==1) , \"Risk\"] = 1\n",
    "df.loc[((df[\"Age\"]==8) | (df[\"Age\"]==9)) & ((df[\"BMI\"]<=23) | (df[\"BMI\"]>=28)) & (df[\"PhysActivity\"]==0) & (df['HighChol']==1)& (df['Hypertension']==1) , \"Risk\"] = 1\n",
    "df.loc[(df[\"Age\"]>=10) &((df[\"BMI\"]<=24) | (df[\"BMI\"]>=29)) & (df[\"PhysActivity\"]==0)& (df['HighChol']==1)& (df['Hypertension']==1), \"Risk\"] = 1"
   ]
  },
  {
   "cell_type": "code",
   "execution_count": 54,
   "id": "2371b352",
   "metadata": {
    "execution": {
     "iopub.execute_input": "2022-12-03T19:19:18.026438Z",
     "iopub.status.busy": "2022-12-03T19:19:18.025985Z",
     "iopub.status.idle": "2022-12-03T19:19:18.056173Z",
     "shell.execute_reply": "2022-12-03T19:19:18.055025Z"
    },
    "papermill": {
     "duration": 0.066898,
     "end_time": "2022-12-03T19:19:18.059034",
     "exception": false,
     "start_time": "2022-12-03T19:19:17.992136",
     "status": "completed"
    },
    "tags": []
   },
   "outputs": [],
   "source": [
    "cor_test.loc[~(cor_test[\"Age\"]==1) & ((cor_test[\"BMI\"]<=18) | (cor_test[\"BMI\"]>=24)) & (cor_test[\"PhysActivity\"]==0) & (cor_test['HighChol']==1)& (cor_test['Hypertension']==1) , \"Risk\"] = 1\n",
    "cor_test.loc[~((cor_test[\"Age\"]==2) | (cor_test[\"Age\"]==3)) & ((cor_test[\"BMI\"]<=20) | (cor_test[\"BMI\"]>=25)) & (cor_test[\"PhysActivity\"]==0)& (cor_test['HighChol']==1)& (cor_test['Hypertension']==1) , \"Risk\"] = 1\n",
    "cor_test.loc[~((cor_test[\"Age\"]==4) | (cor_test[\"Age\"]==5)) & ((cor_test[\"BMI\"]<=21) | (cor_test[\"BMI\"]>=26)) & (cor_test[\"PhysActivity\"]==0)& (cor_test['HighChol']==1)& (cor_test['Hypertension']==1) , \"Risk\"] = 1\n",
    "cor_test.loc[~((cor_test[\"Age\"]==6) | (cor_test[\"Age\"]==7)) & ((cor_test[\"BMI\"]<=22) | (cor_test[\"BMI\"]>=27)) & (cor_test[\"PhysActivity\"]==0)& (cor_test['HighChol']==1)& (cor_test['Hypertension']==1) , \"Risk\"] = 1\n",
    "cor_test.loc[~((cor_test[\"Age\"]==8) | (cor_test[\"Age\"]==9)) & ((cor_test[\"BMI\"]<=23) | (cor_test[\"BMI\"]>=28)) & (cor_test[\"PhysActivity\"]==0) & (cor_test['HighChol']==1)& (cor_test['Hypertension']==1) , \"Risk\"] = 1\n",
    "cor_test.loc[~(cor_test[\"Age\"]>=10) & ((cor_test[\"BMI\"]<=24) | (cor_test[\"BMI\"]>=29)) & (cor_test[\"PhysActivity\"]==0)& (cor_test['HighChol']==1)& (cor_test['Hypertension']==1) , \"Risk\"] = 1"
   ]
  },
  {
   "cell_type": "code",
   "execution_count": 55,
   "id": "49abc8e5",
   "metadata": {
    "execution": {
     "iopub.execute_input": "2022-12-03T19:19:18.125463Z",
     "iopub.status.busy": "2022-12-03T19:19:18.124367Z",
     "iopub.status.idle": "2022-12-03T19:19:18.157172Z",
     "shell.execute_reply": "2022-12-03T19:19:18.156079Z"
    },
    "papermill": {
     "duration": 0.068411,
     "end_time": "2022-12-03T19:19:18.159788",
     "exception": false,
     "start_time": "2022-12-03T19:19:18.091377",
     "status": "completed"
    },
    "tags": []
   },
   "outputs": [
    {
     "data": {
      "text/html": [
       "<div>\n",
       "<style scoped>\n",
       "    .dataframe tbody tr th:only-of-type {\n",
       "        vertical-align: middle;\n",
       "    }\n",
       "\n",
       "    .dataframe tbody tr th {\n",
       "        vertical-align: top;\n",
       "    }\n",
       "\n",
       "    .dataframe thead th {\n",
       "        text-align: right;\n",
       "    }\n",
       "</style>\n",
       "<table border=\"1\" class=\"dataframe\">\n",
       "  <thead>\n",
       "    <tr style=\"text-align: right;\">\n",
       "      <th></th>\n",
       "      <th>Age</th>\n",
       "      <th>HighChol</th>\n",
       "      <th>CholCheck</th>\n",
       "      <th>BMI</th>\n",
       "      <th>HeartDiseaseorAttack</th>\n",
       "      <th>PhysActivity</th>\n",
       "      <th>GenHlth</th>\n",
       "      <th>PhysHlth</th>\n",
       "      <th>DiffWalk</th>\n",
       "      <th>Hypertension</th>\n",
       "      <th>Stroke</th>\n",
       "      <th>Diabetes</th>\n",
       "      <th>Risk</th>\n",
       "    </tr>\n",
       "  </thead>\n",
       "  <tbody>\n",
       "    <tr>\n",
       "      <th>0</th>\n",
       "      <td>4.0</td>\n",
       "      <td>0.0</td>\n",
       "      <td>1.0</td>\n",
       "      <td>26.0</td>\n",
       "      <td>0.0</td>\n",
       "      <td>1.0</td>\n",
       "      <td>3.0</td>\n",
       "      <td>30.0</td>\n",
       "      <td>0.0</td>\n",
       "      <td>1.0</td>\n",
       "      <td>0.0</td>\n",
       "      <td>0.0</td>\n",
       "      <td>0</td>\n",
       "    </tr>\n",
       "    <tr>\n",
       "      <th>1</th>\n",
       "      <td>12.0</td>\n",
       "      <td>1.0</td>\n",
       "      <td>1.0</td>\n",
       "      <td>26.0</td>\n",
       "      <td>0.0</td>\n",
       "      <td>0.0</td>\n",
       "      <td>3.0</td>\n",
       "      <td>0.0</td>\n",
       "      <td>0.0</td>\n",
       "      <td>1.0</td>\n",
       "      <td>1.0</td>\n",
       "      <td>0.0</td>\n",
       "      <td>0</td>\n",
       "    </tr>\n",
       "    <tr>\n",
       "      <th>2</th>\n",
       "      <td>13.0</td>\n",
       "      <td>0.0</td>\n",
       "      <td>1.0</td>\n",
       "      <td>26.0</td>\n",
       "      <td>0.0</td>\n",
       "      <td>1.0</td>\n",
       "      <td>1.0</td>\n",
       "      <td>10.0</td>\n",
       "      <td>0.0</td>\n",
       "      <td>0.0</td>\n",
       "      <td>0.0</td>\n",
       "      <td>0.0</td>\n",
       "      <td>0</td>\n",
       "    </tr>\n",
       "    <tr>\n",
       "      <th>3</th>\n",
       "      <td>11.0</td>\n",
       "      <td>1.0</td>\n",
       "      <td>1.0</td>\n",
       "      <td>28.0</td>\n",
       "      <td>0.0</td>\n",
       "      <td>1.0</td>\n",
       "      <td>3.0</td>\n",
       "      <td>3.0</td>\n",
       "      <td>0.0</td>\n",
       "      <td>1.0</td>\n",
       "      <td>0.0</td>\n",
       "      <td>0.0</td>\n",
       "      <td>0</td>\n",
       "    </tr>\n",
       "    <tr>\n",
       "      <th>4</th>\n",
       "      <td>8.0</td>\n",
       "      <td>0.0</td>\n",
       "      <td>1.0</td>\n",
       "      <td>29.0</td>\n",
       "      <td>0.0</td>\n",
       "      <td>1.0</td>\n",
       "      <td>2.0</td>\n",
       "      <td>0.0</td>\n",
       "      <td>0.0</td>\n",
       "      <td>0.0</td>\n",
       "      <td>0.0</td>\n",
       "      <td>0.0</td>\n",
       "      <td>0</td>\n",
       "    </tr>\n",
       "    <tr>\n",
       "      <th>...</th>\n",
       "      <td>...</td>\n",
       "      <td>...</td>\n",
       "      <td>...</td>\n",
       "      <td>...</td>\n",
       "      <td>...</td>\n",
       "      <td>...</td>\n",
       "      <td>...</td>\n",
       "      <td>...</td>\n",
       "      <td>...</td>\n",
       "      <td>...</td>\n",
       "      <td>...</td>\n",
       "      <td>...</td>\n",
       "      <td>...</td>\n",
       "    </tr>\n",
       "    <tr>\n",
       "      <th>80686</th>\n",
       "      <td>7.0</td>\n",
       "      <td>1.0</td>\n",
       "      <td>1.0</td>\n",
       "      <td>41.0</td>\n",
       "      <td>0.0</td>\n",
       "      <td>0.0</td>\n",
       "      <td>4.0</td>\n",
       "      <td>5.0</td>\n",
       "      <td>1.0</td>\n",
       "      <td>1.0</td>\n",
       "      <td>0.0</td>\n",
       "      <td>1.0</td>\n",
       "      <td>1</td>\n",
       "    </tr>\n",
       "    <tr>\n",
       "      <th>80687</th>\n",
       "      <td>3.0</td>\n",
       "      <td>0.0</td>\n",
       "      <td>1.0</td>\n",
       "      <td>23.0</td>\n",
       "      <td>0.0</td>\n",
       "      <td>1.0</td>\n",
       "      <td>3.0</td>\n",
       "      <td>0.0</td>\n",
       "      <td>1.0</td>\n",
       "      <td>0.0</td>\n",
       "      <td>0.0</td>\n",
       "      <td>0.0</td>\n",
       "      <td>0</td>\n",
       "    </tr>\n",
       "    <tr>\n",
       "      <th>80688</th>\n",
       "      <td>10.0</td>\n",
       "      <td>1.0</td>\n",
       "      <td>1.0</td>\n",
       "      <td>22.0</td>\n",
       "      <td>0.0</td>\n",
       "      <td>0.0</td>\n",
       "      <td>3.0</td>\n",
       "      <td>30.0</td>\n",
       "      <td>1.0</td>\n",
       "      <td>1.0</td>\n",
       "      <td>0.0</td>\n",
       "      <td>1.0</td>\n",
       "      <td>1</td>\n",
       "    </tr>\n",
       "    <tr>\n",
       "      <th>80690</th>\n",
       "      <td>4.0</td>\n",
       "      <td>1.0</td>\n",
       "      <td>0.0</td>\n",
       "      <td>29.0</td>\n",
       "      <td>0.0</td>\n",
       "      <td>1.0</td>\n",
       "      <td>3.0</td>\n",
       "      <td>15.0</td>\n",
       "      <td>0.0</td>\n",
       "      <td>0.0</td>\n",
       "      <td>0.0</td>\n",
       "      <td>0.0</td>\n",
       "      <td>0</td>\n",
       "    </tr>\n",
       "    <tr>\n",
       "      <th>80691</th>\n",
       "      <td>11.0</td>\n",
       "      <td>1.0</td>\n",
       "      <td>0.0</td>\n",
       "      <td>26.0</td>\n",
       "      <td>0.0</td>\n",
       "      <td>1.0</td>\n",
       "      <td>1.0</td>\n",
       "      <td>0.0</td>\n",
       "      <td>0.0</td>\n",
       "      <td>1.0</td>\n",
       "      <td>0.0</td>\n",
       "      <td>1.0</td>\n",
       "      <td>0</td>\n",
       "    </tr>\n",
       "  </tbody>\n",
       "</table>\n",
       "<p>45660 rows × 13 columns</p>\n",
       "</div>"
      ],
      "text/plain": [
       "        Age  HighChol  CholCheck   BMI  HeartDiseaseorAttack  PhysActivity  \\\n",
       "0       4.0       0.0        1.0  26.0                   0.0           1.0   \n",
       "1      12.0       1.0        1.0  26.0                   0.0           0.0   \n",
       "2      13.0       0.0        1.0  26.0                   0.0           1.0   \n",
       "3      11.0       1.0        1.0  28.0                   0.0           1.0   \n",
       "4       8.0       0.0        1.0  29.0                   0.0           1.0   \n",
       "...     ...       ...        ...   ...                   ...           ...   \n",
       "80686   7.0       1.0        1.0  41.0                   0.0           0.0   \n",
       "80687   3.0       0.0        1.0  23.0                   0.0           1.0   \n",
       "80688  10.0       1.0        1.0  22.0                   0.0           0.0   \n",
       "80690   4.0       1.0        0.0  29.0                   0.0           1.0   \n",
       "80691  11.0       1.0        0.0  26.0                   0.0           1.0   \n",
       "\n",
       "       GenHlth  PhysHlth  DiffWalk  Hypertension  Stroke  Diabetes  Risk  \n",
       "0          3.0      30.0       0.0           1.0     0.0       0.0     0  \n",
       "1          3.0       0.0       0.0           1.0     1.0       0.0     0  \n",
       "2          1.0      10.0       0.0           0.0     0.0       0.0     0  \n",
       "3          3.0       3.0       0.0           1.0     0.0       0.0     0  \n",
       "4          2.0       0.0       0.0           0.0     0.0       0.0     0  \n",
       "...        ...       ...       ...           ...     ...       ...   ...  \n",
       "80686      4.0       5.0       1.0           1.0     0.0       1.0     1  \n",
       "80687      3.0       0.0       1.0           0.0     0.0       0.0     0  \n",
       "80688      3.0      30.0       1.0           1.0     0.0       1.0     1  \n",
       "80690      3.0      15.0       0.0           0.0     0.0       0.0     0  \n",
       "80691      1.0       0.0       0.0           1.0     0.0       1.0     0  \n",
       "\n",
       "[45660 rows x 13 columns]"
      ]
     },
     "execution_count": 55,
     "metadata": {},
     "output_type": "execute_result"
    }
   ],
   "source": [
    "df"
   ]
  },
  {
   "cell_type": "code",
   "execution_count": 56,
   "id": "6d7f2bbf",
   "metadata": {
    "execution": {
     "iopub.execute_input": "2022-12-03T19:19:18.228654Z",
     "iopub.status.busy": "2022-12-03T19:19:18.227934Z",
     "iopub.status.idle": "2022-12-03T19:19:18.275260Z",
     "shell.execute_reply": "2022-12-03T19:19:18.273866Z"
    },
    "papermill": {
     "duration": 0.086333,
     "end_time": "2022-12-03T19:19:18.278417",
     "exception": false,
     "start_time": "2022-12-03T19:19:18.192084",
     "status": "completed"
    },
    "tags": []
   },
   "outputs": [
    {
     "data": {
      "text/html": [
       "<div>\n",
       "<style scoped>\n",
       "    .dataframe tbody tr th:only-of-type {\n",
       "        vertical-align: middle;\n",
       "    }\n",
       "\n",
       "    .dataframe tbody tr th {\n",
       "        vertical-align: top;\n",
       "    }\n",
       "\n",
       "    .dataframe thead th {\n",
       "        text-align: right;\n",
       "    }\n",
       "</style>\n",
       "<table border=\"1\" class=\"dataframe\">\n",
       "  <thead>\n",
       "    <tr style=\"text-align: right;\">\n",
       "      <th></th>\n",
       "      <th>Age</th>\n",
       "      <th>HighChol</th>\n",
       "      <th>CholCheck</th>\n",
       "      <th>BMI</th>\n",
       "      <th>HeartDiseaseorAttack</th>\n",
       "      <th>PhysActivity</th>\n",
       "      <th>GenHlth</th>\n",
       "      <th>PhysHlth</th>\n",
       "      <th>DiffWalk</th>\n",
       "      <th>Hypertension</th>\n",
       "      <th>Stroke</th>\n",
       "      <th>Diabetes</th>\n",
       "      <th>Risk</th>\n",
       "    </tr>\n",
       "  </thead>\n",
       "  <tbody>\n",
       "    <tr>\n",
       "      <th>Age</th>\n",
       "      <td>1.000000</td>\n",
       "      <td>0.158616</td>\n",
       "      <td>0.112070</td>\n",
       "      <td>-0.055506</td>\n",
       "      <td>0.221471</td>\n",
       "      <td>-0.081675</td>\n",
       "      <td>0.114351</td>\n",
       "      <td>0.072058</td>\n",
       "      <td>0.203866</td>\n",
       "      <td>0.253668</td>\n",
       "      <td>0.134873</td>\n",
       "      <td>0.212786</td>\n",
       "      <td>0.097680</td>\n",
       "    </tr>\n",
       "    <tr>\n",
       "      <th>HighChol</th>\n",
       "      <td>0.158616</td>\n",
       "      <td>1.000000</td>\n",
       "      <td>0.107894</td>\n",
       "      <td>0.087965</td>\n",
       "      <td>0.166781</td>\n",
       "      <td>-0.060238</td>\n",
       "      <td>0.166799</td>\n",
       "      <td>0.103466</td>\n",
       "      <td>0.138357</td>\n",
       "      <td>0.235160</td>\n",
       "      <td>0.105212</td>\n",
       "      <td>0.209540</td>\n",
       "      <td>0.357971</td>\n",
       "    </tr>\n",
       "    <tr>\n",
       "      <th>CholCheck</th>\n",
       "      <td>0.112070</td>\n",
       "      <td>0.107894</td>\n",
       "      <td>1.000000</td>\n",
       "      <td>0.071497</td>\n",
       "      <td>0.078649</td>\n",
       "      <td>-0.035610</td>\n",
       "      <td>0.103844</td>\n",
       "      <td>0.076241</td>\n",
       "      <td>0.092239</td>\n",
       "      <td>0.136257</td>\n",
       "      <td>0.045839</td>\n",
       "      <td>0.149753</td>\n",
       "      <td>0.051337</td>\n",
       "    </tr>\n",
       "    <tr>\n",
       "      <th>BMI</th>\n",
       "      <td>-0.055506</td>\n",
       "      <td>0.087965</td>\n",
       "      <td>0.071497</td>\n",
       "      <td>1.000000</td>\n",
       "      <td>0.028031</td>\n",
       "      <td>-0.079606</td>\n",
       "      <td>0.129547</td>\n",
       "      <td>0.042365</td>\n",
       "      <td>0.140272</td>\n",
       "      <td>0.172158</td>\n",
       "      <td>-0.005761</td>\n",
       "      <td>0.213929</td>\n",
       "      <td>0.179031</td>\n",
       "    </tr>\n",
       "    <tr>\n",
       "      <th>HeartDiseaseorAttack</th>\n",
       "      <td>0.221471</td>\n",
       "      <td>0.166781</td>\n",
       "      <td>0.078649</td>\n",
       "      <td>0.028031</td>\n",
       "      <td>1.000000</td>\n",
       "      <td>-0.036269</td>\n",
       "      <td>0.211570</td>\n",
       "      <td>0.124838</td>\n",
       "      <td>0.175053</td>\n",
       "      <td>0.196331</td>\n",
       "      <td>0.194367</td>\n",
       "      <td>0.175584</td>\n",
       "      <td>0.110586</td>\n",
       "    </tr>\n",
       "    <tr>\n",
       "      <th>PhysActivity</th>\n",
       "      <td>-0.081675</td>\n",
       "      <td>-0.060238</td>\n",
       "      <td>-0.035610</td>\n",
       "      <td>-0.079606</td>\n",
       "      <td>-0.036269</td>\n",
       "      <td>1.000000</td>\n",
       "      <td>-0.167087</td>\n",
       "      <td>-0.123608</td>\n",
       "      <td>-0.192575</td>\n",
       "      <td>-0.076957</td>\n",
       "      <td>-0.048622</td>\n",
       "      <td>-0.109331</td>\n",
       "      <td>-0.496418</td>\n",
       "    </tr>\n",
       "    <tr>\n",
       "      <th>GenHlth</th>\n",
       "      <td>0.114351</td>\n",
       "      <td>0.166799</td>\n",
       "      <td>0.103844</td>\n",
       "      <td>0.129547</td>\n",
       "      <td>0.211570</td>\n",
       "      <td>-0.167087</td>\n",
       "      <td>1.000000</td>\n",
       "      <td>0.447814</td>\n",
       "      <td>0.377447</td>\n",
       "      <td>0.220290</td>\n",
       "      <td>0.147669</td>\n",
       "      <td>0.290769</td>\n",
       "      <td>0.181169</td>\n",
       "    </tr>\n",
       "    <tr>\n",
       "      <th>PhysHlth</th>\n",
       "      <td>0.072058</td>\n",
       "      <td>0.103466</td>\n",
       "      <td>0.076241</td>\n",
       "      <td>0.042365</td>\n",
       "      <td>0.124838</td>\n",
       "      <td>-0.123608</td>\n",
       "      <td>0.447814</td>\n",
       "      <td>1.000000</td>\n",
       "      <td>0.350962</td>\n",
       "      <td>0.119568</td>\n",
       "      <td>0.112623</td>\n",
       "      <td>0.134255</td>\n",
       "      <td>0.126663</td>\n",
       "    </tr>\n",
       "    <tr>\n",
       "      <th>DiffWalk</th>\n",
       "      <td>0.203866</td>\n",
       "      <td>0.138357</td>\n",
       "      <td>0.092239</td>\n",
       "      <td>0.140272</td>\n",
       "      <td>0.175053</td>\n",
       "      <td>-0.192575</td>\n",
       "      <td>0.377447</td>\n",
       "      <td>0.350962</td>\n",
       "      <td>1.000000</td>\n",
       "      <td>0.200397</td>\n",
       "      <td>0.155470</td>\n",
       "      <td>0.224337</td>\n",
       "      <td>0.194571</td>\n",
       "    </tr>\n",
       "    <tr>\n",
       "      <th>Hypertension</th>\n",
       "      <td>0.253668</td>\n",
       "      <td>0.235160</td>\n",
       "      <td>0.136257</td>\n",
       "      <td>0.172158</td>\n",
       "      <td>0.196331</td>\n",
       "      <td>-0.076957</td>\n",
       "      <td>0.220290</td>\n",
       "      <td>0.119568</td>\n",
       "      <td>0.200397</td>\n",
       "      <td>1.000000</td>\n",
       "      <td>0.135419</td>\n",
       "      <td>0.263728</td>\n",
       "      <td>0.329513</td>\n",
       "    </tr>\n",
       "    <tr>\n",
       "      <th>Stroke</th>\n",
       "      <td>0.134873</td>\n",
       "      <td>0.105212</td>\n",
       "      <td>0.045839</td>\n",
       "      <td>-0.005761</td>\n",
       "      <td>0.194367</td>\n",
       "      <td>-0.048622</td>\n",
       "      <td>0.147669</td>\n",
       "      <td>0.112623</td>\n",
       "      <td>0.155470</td>\n",
       "      <td>0.135419</td>\n",
       "      <td>1.000000</td>\n",
       "      <td>0.117748</td>\n",
       "      <td>0.093628</td>\n",
       "    </tr>\n",
       "    <tr>\n",
       "      <th>Diabetes</th>\n",
       "      <td>0.212786</td>\n",
       "      <td>0.209540</td>\n",
       "      <td>0.149753</td>\n",
       "      <td>0.213929</td>\n",
       "      <td>0.175584</td>\n",
       "      <td>-0.109331</td>\n",
       "      <td>0.290769</td>\n",
       "      <td>0.134255</td>\n",
       "      <td>0.224337</td>\n",
       "      <td>0.263728</td>\n",
       "      <td>0.117748</td>\n",
       "      <td>1.000000</td>\n",
       "      <td>0.177117</td>\n",
       "    </tr>\n",
       "    <tr>\n",
       "      <th>Risk</th>\n",
       "      <td>0.097680</td>\n",
       "      <td>0.357971</td>\n",
       "      <td>0.051337</td>\n",
       "      <td>0.179031</td>\n",
       "      <td>0.110586</td>\n",
       "      <td>-0.496418</td>\n",
       "      <td>0.181169</td>\n",
       "      <td>0.126663</td>\n",
       "      <td>0.194571</td>\n",
       "      <td>0.329513</td>\n",
       "      <td>0.093628</td>\n",
       "      <td>0.177117</td>\n",
       "      <td>1.000000</td>\n",
       "    </tr>\n",
       "  </tbody>\n",
       "</table>\n",
       "</div>"
      ],
      "text/plain": [
       "                           Age  HighChol  CholCheck       BMI  \\\n",
       "Age                   1.000000  0.158616   0.112070 -0.055506   \n",
       "HighChol              0.158616  1.000000   0.107894  0.087965   \n",
       "CholCheck             0.112070  0.107894   1.000000  0.071497   \n",
       "BMI                  -0.055506  0.087965   0.071497  1.000000   \n",
       "HeartDiseaseorAttack  0.221471  0.166781   0.078649  0.028031   \n",
       "PhysActivity         -0.081675 -0.060238  -0.035610 -0.079606   \n",
       "GenHlth               0.114351  0.166799   0.103844  0.129547   \n",
       "PhysHlth              0.072058  0.103466   0.076241  0.042365   \n",
       "DiffWalk              0.203866  0.138357   0.092239  0.140272   \n",
       "Hypertension          0.253668  0.235160   0.136257  0.172158   \n",
       "Stroke                0.134873  0.105212   0.045839 -0.005761   \n",
       "Diabetes              0.212786  0.209540   0.149753  0.213929   \n",
       "Risk                  0.097680  0.357971   0.051337  0.179031   \n",
       "\n",
       "                      HeartDiseaseorAttack  PhysActivity   GenHlth  PhysHlth  \\\n",
       "Age                               0.221471     -0.081675  0.114351  0.072058   \n",
       "HighChol                          0.166781     -0.060238  0.166799  0.103466   \n",
       "CholCheck                         0.078649     -0.035610  0.103844  0.076241   \n",
       "BMI                               0.028031     -0.079606  0.129547  0.042365   \n",
       "HeartDiseaseorAttack              1.000000     -0.036269  0.211570  0.124838   \n",
       "PhysActivity                     -0.036269      1.000000 -0.167087 -0.123608   \n",
       "GenHlth                           0.211570     -0.167087  1.000000  0.447814   \n",
       "PhysHlth                          0.124838     -0.123608  0.447814  1.000000   \n",
       "DiffWalk                          0.175053     -0.192575  0.377447  0.350962   \n",
       "Hypertension                      0.196331     -0.076957  0.220290  0.119568   \n",
       "Stroke                            0.194367     -0.048622  0.147669  0.112623   \n",
       "Diabetes                          0.175584     -0.109331  0.290769  0.134255   \n",
       "Risk                              0.110586     -0.496418  0.181169  0.126663   \n",
       "\n",
       "                      DiffWalk  Hypertension    Stroke  Diabetes      Risk  \n",
       "Age                   0.203866      0.253668  0.134873  0.212786  0.097680  \n",
       "HighChol              0.138357      0.235160  0.105212  0.209540  0.357971  \n",
       "CholCheck             0.092239      0.136257  0.045839  0.149753  0.051337  \n",
       "BMI                   0.140272      0.172158 -0.005761  0.213929  0.179031  \n",
       "HeartDiseaseorAttack  0.175053      0.196331  0.194367  0.175584  0.110586  \n",
       "PhysActivity         -0.192575     -0.076957 -0.048622 -0.109331 -0.496418  \n",
       "GenHlth               0.377447      0.220290  0.147669  0.290769  0.181169  \n",
       "PhysHlth              0.350962      0.119568  0.112623  0.134255  0.126663  \n",
       "DiffWalk              1.000000      0.200397  0.155470  0.224337  0.194571  \n",
       "Hypertension          0.200397      1.000000  0.135419  0.263728  0.329513  \n",
       "Stroke                0.155470      0.135419  1.000000  0.117748  0.093628  \n",
       "Diabetes              0.224337      0.263728  0.117748  1.000000  0.177117  \n",
       "Risk                  0.194571      0.329513  0.093628  0.177117  1.000000  "
      ]
     },
     "execution_count": 56,
     "metadata": {},
     "output_type": "execute_result"
    }
   ],
   "source": [
    "df.corr()"
   ]
  },
  {
   "cell_type": "code",
   "execution_count": 57,
   "id": "f1a63914",
   "metadata": {
    "execution": {
     "iopub.execute_input": "2022-12-03T19:19:18.346558Z",
     "iopub.status.busy": "2022-12-03T19:19:18.345019Z",
     "iopub.status.idle": "2022-12-03T19:19:18.352465Z",
     "shell.execute_reply": "2022-12-03T19:19:18.351515Z"
    },
    "papermill": {
     "duration": 0.043406,
     "end_time": "2022-12-03T19:19:18.354679",
     "exception": false,
     "start_time": "2022-12-03T19:19:18.311273",
     "status": "completed"
    },
    "tags": []
   },
   "outputs": [],
   "source": [
    "df.loc[(df['Risk'].isnull(),'Risk')]=0"
   ]
  },
  {
   "cell_type": "code",
   "execution_count": 58,
   "id": "d8eac392",
   "metadata": {
    "execution": {
     "iopub.execute_input": "2022-12-03T19:19:18.423491Z",
     "iopub.status.busy": "2022-12-03T19:19:18.423011Z",
     "iopub.status.idle": "2022-12-03T19:19:18.429812Z",
     "shell.execute_reply": "2022-12-03T19:19:18.428401Z"
    },
    "papermill": {
     "duration": 0.045323,
     "end_time": "2022-12-03T19:19:18.432311",
     "exception": false,
     "start_time": "2022-12-03T19:19:18.386988",
     "status": "completed"
    },
    "tags": []
   },
   "outputs": [],
   "source": [
    "cor_test.loc[(cor_test['Risk'].isnull(),'Risk')]=0"
   ]
  },
  {
   "cell_type": "code",
   "execution_count": 59,
   "id": "59f5b356",
   "metadata": {
    "execution": {
     "iopub.execute_input": "2022-12-03T19:19:18.500008Z",
     "iopub.status.busy": "2022-12-03T19:19:18.499569Z",
     "iopub.status.idle": "2022-12-03T19:19:18.506722Z",
     "shell.execute_reply": "2022-12-03T19:19:18.505396Z"
    },
    "papermill": {
     "duration": 0.044471,
     "end_time": "2022-12-03T19:19:18.509217",
     "exception": false,
     "start_time": "2022-12-03T19:19:18.464746",
     "status": "completed"
    },
    "tags": []
   },
   "outputs": [
    {
     "data": {
      "text/plain": [
       "\"df['BMI'] = np.log(df.BMI)\\ndf['BMI'].hist()\""
      ]
     },
     "execution_count": 59,
     "metadata": {},
     "output_type": "execute_result"
    }
   ],
   "source": [
    "'''df['BMI'] = np.log(df.BMI)\n",
    "df['BMI'].hist()'''"
   ]
  },
  {
   "cell_type": "code",
   "execution_count": 60,
   "id": "7f433a71",
   "metadata": {
    "execution": {
     "iopub.execute_input": "2022-12-03T19:19:18.577083Z",
     "iopub.status.busy": "2022-12-03T19:19:18.576200Z",
     "iopub.status.idle": "2022-12-03T19:19:18.581251Z",
     "shell.execute_reply": "2022-12-03T19:19:18.579920Z"
    },
    "papermill": {
     "duration": 0.041631,
     "end_time": "2022-12-03T19:19:18.583447",
     "exception": false,
     "start_time": "2022-12-03T19:19:18.541816",
     "status": "completed"
    },
    "tags": []
   },
   "outputs": [],
   "source": [
    "#cor_test['BMI'] = np.log(df.BMI)"
   ]
  },
  {
   "cell_type": "code",
   "execution_count": 61,
   "id": "e5e9528f",
   "metadata": {
    "execution": {
     "iopub.execute_input": "2022-12-03T19:19:18.650809Z",
     "iopub.status.busy": "2022-12-03T19:19:18.650351Z",
     "iopub.status.idle": "2022-12-03T19:19:18.655409Z",
     "shell.execute_reply": "2022-12-03T19:19:18.654238Z"
    },
    "papermill": {
     "duration": 0.041365,
     "end_time": "2022-12-03T19:19:18.657800",
     "exception": false,
     "start_time": "2022-12-03T19:19:18.616435",
     "status": "completed"
    },
    "tags": []
   },
   "outputs": [],
   "source": [
    "#df.hist(figsize=(20, 16))"
   ]
  },
  {
   "cell_type": "code",
   "execution_count": 62,
   "id": "9445b8a3",
   "metadata": {
    "execution": {
     "iopub.execute_input": "2022-12-03T19:19:18.725506Z",
     "iopub.status.busy": "2022-12-03T19:19:18.725066Z",
     "iopub.status.idle": "2022-12-03T19:19:18.988692Z",
     "shell.execute_reply": "2022-12-03T19:19:18.987389Z"
    },
    "papermill": {
     "duration": 0.300111,
     "end_time": "2022-12-03T19:19:18.991235",
     "exception": false,
     "start_time": "2022-12-03T19:19:18.691124",
     "status": "completed"
    },
    "tags": []
   },
   "outputs": [
    {
     "data": {
      "image/png": "[encoded data removed]",
      "text/plain": [
       "<Figure size 576x576 with 2 Axes>"
      ]
     },
     "metadata": {
      "needs_background": "light"
     },
     "output_type": "display_data"
    }
   ],
   "source": [
    "warnings.filterwarnings('ignore')\n",
    "\n",
    "figure1, plot1 = plt.subplots(1,2,figsize=(8,8))\n",
    "\n",
    "sns.countplot(df['Diabetes'],ax=plot1[0])\n",
    "\n",
    "\n",
    "#checking diabetic and non diabetic pepoles average by pie \n",
    "\n",
    "labels=[\"non-Diabetic\",\"Diabetic\"]\n",
    "\n",
    "plt.pie(df[\"Diabetes\"].value_counts() , labels =labels ,autopct='%.02f' );"
   ]
  },
  {
   "cell_type": "code",
   "execution_count": 63,
   "id": "127340a5",
   "metadata": {
    "execution": {
     "iopub.execute_input": "2022-12-03T19:19:19.058641Z",
     "iopub.status.busy": "2022-12-03T19:19:19.058203Z",
     "iopub.status.idle": "2022-12-03T19:19:19.065860Z",
     "shell.execute_reply": "2022-12-03T19:19:19.064644Z"
    },
    "papermill": {
     "duration": 0.044193,
     "end_time": "2022-12-03T19:19:19.068139",
     "exception": false,
     "start_time": "2022-12-03T19:19:19.023946",
     "status": "completed"
    },
    "tags": []
   },
   "outputs": [
    {
     "data": {
      "text/plain": [
       "(20000, 12)"
      ]
     },
     "execution_count": 63,
     "metadata": {},
     "output_type": "execute_result"
    }
   ],
   "source": [
    "cor_test.shape"
   ]
  },
  {
   "cell_type": "code",
   "execution_count": 64,
   "id": "5a4e7970",
   "metadata": {
    "execution": {
     "iopub.execute_input": "2022-12-03T19:19:19.136980Z",
     "iopub.status.busy": "2022-12-03T19:19:19.136580Z",
     "iopub.status.idle": "2022-12-03T19:19:19.143586Z",
     "shell.execute_reply": "2022-12-03T19:19:19.142423Z"
    },
    "papermill": {
     "duration": 0.044911,
     "end_time": "2022-12-03T19:19:19.145933",
     "exception": false,
     "start_time": "2022-12-03T19:19:19.101022",
     "status": "completed"
    },
    "tags": []
   },
   "outputs": [
    {
     "data": {
      "text/plain": [
       "(45660, 13)"
      ]
     },
     "execution_count": 64,
     "metadata": {},
     "output_type": "execute_result"
    }
   ],
   "source": [
    "df.shape"
   ]
  },
  {
   "cell_type": "code",
   "execution_count": 65,
   "id": "095a7f54",
   "metadata": {
    "execution": {
     "iopub.execute_input": "2022-12-03T19:19:19.213557Z",
     "iopub.status.busy": "2022-12-03T19:19:19.213117Z",
     "iopub.status.idle": "2022-12-03T19:19:19.262032Z",
     "shell.execute_reply": "2022-12-03T19:19:19.261187Z"
    },
    "papermill": {
     "duration": 0.085168,
     "end_time": "2022-12-03T19:19:19.264266",
     "exception": false,
     "start_time": "2022-12-03T19:19:19.179098",
     "status": "completed"
    },
    "tags": []
   },
   "outputs": [
    {
     "data": {
      "text/html": [
       "<div>\n",
       "<style scoped>\n",
       "    .dataframe tbody tr th:only-of-type {\n",
       "        vertical-align: middle;\n",
       "    }\n",
       "\n",
       "    .dataframe tbody tr th {\n",
       "        vertical-align: top;\n",
       "    }\n",
       "\n",
       "    .dataframe thead th {\n",
       "        text-align: right;\n",
       "    }\n",
       "</style>\n",
       "<table border=\"1\" class=\"dataframe\">\n",
       "  <thead>\n",
       "    <tr style=\"text-align: right;\">\n",
       "      <th></th>\n",
       "      <th>Age</th>\n",
       "      <th>HighChol</th>\n",
       "      <th>CholCheck</th>\n",
       "      <th>BMI</th>\n",
       "      <th>HeartDiseaseorAttack</th>\n",
       "      <th>PhysActivity</th>\n",
       "      <th>GenHlth</th>\n",
       "      <th>PhysHlth</th>\n",
       "      <th>DiffWalk</th>\n",
       "      <th>Hypertension</th>\n",
       "      <th>Stroke</th>\n",
       "      <th>Diabetes</th>\n",
       "      <th>Risk</th>\n",
       "    </tr>\n",
       "  </thead>\n",
       "  <tbody>\n",
       "    <tr>\n",
       "      <th>Age</th>\n",
       "      <td>1.000000</td>\n",
       "      <td>0.158616</td>\n",
       "      <td>0.112070</td>\n",
       "      <td>-0.055506</td>\n",
       "      <td>0.221471</td>\n",
       "      <td>-0.081675</td>\n",
       "      <td>0.114351</td>\n",
       "      <td>0.072058</td>\n",
       "      <td>0.203866</td>\n",
       "      <td>0.253668</td>\n",
       "      <td>0.134873</td>\n",
       "      <td>0.212786</td>\n",
       "      <td>0.097680</td>\n",
       "    </tr>\n",
       "    <tr>\n",
       "      <th>HighChol</th>\n",
       "      <td>0.158616</td>\n",
       "      <td>1.000000</td>\n",
       "      <td>0.107894</td>\n",
       "      <td>0.087965</td>\n",
       "      <td>0.166781</td>\n",
       "      <td>-0.060238</td>\n",
       "      <td>0.166799</td>\n",
       "      <td>0.103466</td>\n",
       "      <td>0.138357</td>\n",
       "      <td>0.235160</td>\n",
       "      <td>0.105212</td>\n",
       "      <td>0.209540</td>\n",
       "      <td>0.357971</td>\n",
       "    </tr>\n",
       "    <tr>\n",
       "      <th>CholCheck</th>\n",
       "      <td>0.112070</td>\n",
       "      <td>0.107894</td>\n",
       "      <td>1.000000</td>\n",
       "      <td>0.071497</td>\n",
       "      <td>0.078649</td>\n",
       "      <td>-0.035610</td>\n",
       "      <td>0.103844</td>\n",
       "      <td>0.076241</td>\n",
       "      <td>0.092239</td>\n",
       "      <td>0.136257</td>\n",
       "      <td>0.045839</td>\n",
       "      <td>0.149753</td>\n",
       "      <td>0.051337</td>\n",
       "    </tr>\n",
       "    <tr>\n",
       "      <th>BMI</th>\n",
       "      <td>-0.055506</td>\n",
       "      <td>0.087965</td>\n",
       "      <td>0.071497</td>\n",
       "      <td>1.000000</td>\n",
       "      <td>0.028031</td>\n",
       "      <td>-0.079606</td>\n",
       "      <td>0.129547</td>\n",
       "      <td>0.042365</td>\n",
       "      <td>0.140272</td>\n",
       "      <td>0.172158</td>\n",
       "      <td>-0.005761</td>\n",
       "      <td>0.213929</td>\n",
       "      <td>0.179031</td>\n",
       "    </tr>\n",
       "    <tr>\n",
       "      <th>HeartDiseaseorAttack</th>\n",
       "      <td>0.221471</td>\n",
       "      <td>0.166781</td>\n",
       "      <td>0.078649</td>\n",
       "      <td>0.028031</td>\n",
       "      <td>1.000000</td>\n",
       "      <td>-0.036269</td>\n",
       "      <td>0.211570</td>\n",
       "      <td>0.124838</td>\n",
       "      <td>0.175053</td>\n",
       "      <td>0.196331</td>\n",
       "      <td>0.194367</td>\n",
       "      <td>0.175584</td>\n",
       "      <td>0.110586</td>\n",
       "    </tr>\n",
       "    <tr>\n",
       "      <th>PhysActivity</th>\n",
       "      <td>-0.081675</td>\n",
       "      <td>-0.060238</td>\n",
       "      <td>-0.035610</td>\n",
       "      <td>-0.079606</td>\n",
       "      <td>-0.036269</td>\n",
       "      <td>1.000000</td>\n",
       "      <td>-0.167087</td>\n",
       "      <td>-0.123608</td>\n",
       "      <td>-0.192575</td>\n",
       "      <td>-0.076957</td>\n",
       "      <td>-0.048622</td>\n",
       "      <td>-0.109331</td>\n",
       "      <td>-0.496418</td>\n",
       "    </tr>\n",
       "    <tr>\n",
       "      <th>GenHlth</th>\n",
       "      <td>0.114351</td>\n",
       "      <td>0.166799</td>\n",
       "      <td>0.103844</td>\n",
       "      <td>0.129547</td>\n",
       "      <td>0.211570</td>\n",
       "      <td>-0.167087</td>\n",
       "      <td>1.000000</td>\n",
       "      <td>0.447814</td>\n",
       "      <td>0.377447</td>\n",
       "      <td>0.220290</td>\n",
       "      <td>0.147669</td>\n",
       "      <td>0.290769</td>\n",
       "      <td>0.181169</td>\n",
       "    </tr>\n",
       "    <tr>\n",
       "      <th>PhysHlth</th>\n",
       "      <td>0.072058</td>\n",
       "      <td>0.103466</td>\n",
       "      <td>0.076241</td>\n",
       "      <td>0.042365</td>\n",
       "      <td>0.124838</td>\n",
       "      <td>-0.123608</td>\n",
       "      <td>0.447814</td>\n",
       "      <td>1.000000</td>\n",
       "      <td>0.350962</td>\n",
       "      <td>0.119568</td>\n",
       "      <td>0.112623</td>\n",
       "      <td>0.134255</td>\n",
       "      <td>0.126663</td>\n",
       "    </tr>\n",
       "    <tr>\n",
       "      <th>DiffWalk</th>\n",
       "      <td>0.203866</td>\n",
       "      <td>0.138357</td>\n",
       "      <td>0.092239</td>\n",
       "      <td>0.140272</td>\n",
       "      <td>0.175053</td>\n",
       "      <td>-0.192575</td>\n",
       "      <td>0.377447</td>\n",
       "      <td>0.350962</td>\n",
       "      <td>1.000000</td>\n",
       "      <td>0.200397</td>\n",
       "      <td>0.155470</td>\n",
       "      <td>0.224337</td>\n",
       "      <td>0.194571</td>\n",
       "    </tr>\n",
       "    <tr>\n",
       "      <th>Hypertension</th>\n",
       "      <td>0.253668</td>\n",
       "      <td>0.235160</td>\n",
       "      <td>0.136257</td>\n",
       "      <td>0.172158</td>\n",
       "      <td>0.196331</td>\n",
       "      <td>-0.076957</td>\n",
       "      <td>0.220290</td>\n",
       "      <td>0.119568</td>\n",
       "      <td>0.200397</td>\n",
       "      <td>1.000000</td>\n",
       "      <td>0.135419</td>\n",
       "      <td>0.263728</td>\n",
       "      <td>0.329513</td>\n",
       "    </tr>\n",
       "    <tr>\n",
       "      <th>Stroke</th>\n",
       "      <td>0.134873</td>\n",
       "      <td>0.105212</td>\n",
       "      <td>0.045839</td>\n",
       "      <td>-0.005761</td>\n",
       "      <td>0.194367</td>\n",
       "      <td>-0.048622</td>\n",
       "      <td>0.147669</td>\n",
       "      <td>0.112623</td>\n",
       "      <td>0.155470</td>\n",
       "      <td>0.135419</td>\n",
       "      <td>1.000000</td>\n",
       "      <td>0.117748</td>\n",
       "      <td>0.093628</td>\n",
       "    </tr>\n",
       "    <tr>\n",
       "      <th>Diabetes</th>\n",
       "      <td>0.212786</td>\n",
       "      <td>0.209540</td>\n",
       "      <td>0.149753</td>\n",
       "      <td>0.213929</td>\n",
       "      <td>0.175584</td>\n",
       "      <td>-0.109331</td>\n",
       "      <td>0.290769</td>\n",
       "      <td>0.134255</td>\n",
       "      <td>0.224337</td>\n",
       "      <td>0.263728</td>\n",
       "      <td>0.117748</td>\n",
       "      <td>1.000000</td>\n",
       "      <td>0.177117</td>\n",
       "    </tr>\n",
       "    <tr>\n",
       "      <th>Risk</th>\n",
       "      <td>0.097680</td>\n",
       "      <td>0.357971</td>\n",
       "      <td>0.051337</td>\n",
       "      <td>0.179031</td>\n",
       "      <td>0.110586</td>\n",
       "      <td>-0.496418</td>\n",
       "      <td>0.181169</td>\n",
       "      <td>0.126663</td>\n",
       "      <td>0.194571</td>\n",
       "      <td>0.329513</td>\n",
       "      <td>0.093628</td>\n",
       "      <td>0.177117</td>\n",
       "      <td>1.000000</td>\n",
       "    </tr>\n",
       "  </tbody>\n",
       "</table>\n",
       "</div>"
      ],
      "text/plain": [
       "                           Age  HighChol  CholCheck       BMI  \\\n",
       "Age                   1.000000  0.158616   0.112070 -0.055506   \n",
       "HighChol              0.158616  1.000000   0.107894  0.087965   \n",
       "CholCheck             0.112070  0.107894   1.000000  0.071497   \n",
       "BMI                  -0.055506  0.087965   0.071497  1.000000   \n",
       "HeartDiseaseorAttack  0.221471  0.166781   0.078649  0.028031   \n",
       "PhysActivity         -0.081675 -0.060238  -0.035610 -0.079606   \n",
       "GenHlth               0.114351  0.166799   0.103844  0.129547   \n",
       "PhysHlth              0.072058  0.103466   0.076241  0.042365   \n",
       "DiffWalk              0.203866  0.138357   0.092239  0.140272   \n",
       "Hypertension          0.253668  0.235160   0.136257  0.172158   \n",
       "Stroke                0.134873  0.105212   0.045839 -0.005761   \n",
       "Diabetes              0.212786  0.209540   0.149753  0.213929   \n",
       "Risk                  0.097680  0.357971   0.051337  0.179031   \n",
       "\n",
       "                      HeartDiseaseorAttack  PhysActivity   GenHlth  PhysHlth  \\\n",
       "Age                               0.221471     -0.081675  0.114351  0.072058   \n",
       "HighChol                          0.166781     -0.060238  0.166799  0.103466   \n",
       "CholCheck                         0.078649     -0.035610  0.103844  0.076241   \n",
       "BMI                               0.028031     -0.079606  0.129547  0.042365   \n",
       "HeartDiseaseorAttack              1.000000     -0.036269  0.211570  0.124838   \n",
       "PhysActivity                     -0.036269      1.000000 -0.167087 -0.123608   \n",
       "GenHlth                           0.211570     -0.167087  1.000000  0.447814   \n",
       "PhysHlth                          0.124838     -0.123608  0.447814  1.000000   \n",
       "DiffWalk                          0.175053     -0.192575  0.377447  0.350962   \n",
       "Hypertension                      0.196331     -0.076957  0.220290  0.119568   \n",
       "Stroke                            0.194367     -0.048622  0.147669  0.112623   \n",
       "Diabetes                          0.175584     -0.109331  0.290769  0.134255   \n",
       "Risk                              0.110586     -0.496418  0.181169  0.126663   \n",
       "\n",
       "                      DiffWalk  Hypertension    Stroke  Diabetes      Risk  \n",
       "Age                   0.203866      0.253668  0.134873  0.212786  0.097680  \n",
       "HighChol              0.138357      0.235160  0.105212  0.209540  0.357971  \n",
       "CholCheck             0.092239      0.136257  0.045839  0.149753  0.051337  \n",
       "BMI                   0.140272      0.172158 -0.005761  0.213929  0.179031  \n",
       "HeartDiseaseorAttack  0.175053      0.196331  0.194367  0.175584  0.110586  \n",
       "PhysActivity         -0.192575     -0.076957 -0.048622 -0.109331 -0.496418  \n",
       "GenHlth               0.377447      0.220290  0.147669  0.290769  0.181169  \n",
       "PhysHlth              0.350962      0.119568  0.112623  0.134255  0.126663  \n",
       "DiffWalk              1.000000      0.200397  0.155470  0.224337  0.194571  \n",
       "Hypertension          0.200397      1.000000  0.135419  0.263728  0.329513  \n",
       "Stroke                0.155470      0.135419  1.000000  0.117748  0.093628  \n",
       "Diabetes              0.224337      0.263728  0.117748  1.000000  0.177117  \n",
       "Risk                  0.194571      0.329513  0.093628  0.177117  1.000000  "
      ]
     },
     "execution_count": 65,
     "metadata": {},
     "output_type": "execute_result"
    }
   ],
   "source": [
    "df.corr()"
   ]
  },
  {
   "cell_type": "code",
   "execution_count": 66,
   "id": "287f6b9a",
   "metadata": {
    "execution": {
     "iopub.execute_input": "2022-12-03T19:19:19.335242Z",
     "iopub.status.busy": "2022-12-03T19:19:19.334834Z",
     "iopub.status.idle": "2022-12-03T19:19:19.364496Z",
     "shell.execute_reply": "2022-12-03T19:19:19.363362Z"
    },
    "papermill": {
     "duration": 0.067916,
     "end_time": "2022-12-03T19:19:19.367109",
     "exception": false,
     "start_time": "2022-12-03T19:19:19.299193",
     "status": "completed"
    },
    "tags": []
   },
   "outputs": [
    {
     "data": {
      "text/html": [
       "<div>\n",
       "<style scoped>\n",
       "    .dataframe tbody tr th:only-of-type {\n",
       "        vertical-align: middle;\n",
       "    }\n",
       "\n",
       "    .dataframe tbody tr th {\n",
       "        vertical-align: top;\n",
       "    }\n",
       "\n",
       "    .dataframe thead th {\n",
       "        text-align: right;\n",
       "    }\n",
       "</style>\n",
       "<table border=\"1\" class=\"dataframe\">\n",
       "  <thead>\n",
       "    <tr style=\"text-align: right;\">\n",
       "      <th></th>\n",
       "      <th>Age</th>\n",
       "      <th>HighChol</th>\n",
       "      <th>CholCheck</th>\n",
       "      <th>BMI</th>\n",
       "      <th>HeartDiseaseorAttack</th>\n",
       "      <th>PhysActivity</th>\n",
       "      <th>GenHlth</th>\n",
       "      <th>PhysHlth</th>\n",
       "      <th>DiffWalk</th>\n",
       "      <th>Hypertension</th>\n",
       "      <th>Stroke</th>\n",
       "      <th>Diabetes</th>\n",
       "      <th>Risk</th>\n",
       "    </tr>\n",
       "  </thead>\n",
       "  <tbody>\n",
       "    <tr>\n",
       "      <th>0</th>\n",
       "      <td>4.0</td>\n",
       "      <td>0.0</td>\n",
       "      <td>1.0</td>\n",
       "      <td>26.0</td>\n",
       "      <td>0.0</td>\n",
       "      <td>1.0</td>\n",
       "      <td>3.0</td>\n",
       "      <td>30.0</td>\n",
       "      <td>0.0</td>\n",
       "      <td>1.0</td>\n",
       "      <td>0.0</td>\n",
       "      <td>0.0</td>\n",
       "      <td>0</td>\n",
       "    </tr>\n",
       "    <tr>\n",
       "      <th>1</th>\n",
       "      <td>12.0</td>\n",
       "      <td>1.0</td>\n",
       "      <td>1.0</td>\n",
       "      <td>26.0</td>\n",
       "      <td>0.0</td>\n",
       "      <td>0.0</td>\n",
       "      <td>3.0</td>\n",
       "      <td>0.0</td>\n",
       "      <td>0.0</td>\n",
       "      <td>1.0</td>\n",
       "      <td>1.0</td>\n",
       "      <td>0.0</td>\n",
       "      <td>0</td>\n",
       "    </tr>\n",
       "    <tr>\n",
       "      <th>2</th>\n",
       "      <td>13.0</td>\n",
       "      <td>0.0</td>\n",
       "      <td>1.0</td>\n",
       "      <td>26.0</td>\n",
       "      <td>0.0</td>\n",
       "      <td>1.0</td>\n",
       "      <td>1.0</td>\n",
       "      <td>10.0</td>\n",
       "      <td>0.0</td>\n",
       "      <td>0.0</td>\n",
       "      <td>0.0</td>\n",
       "      <td>0.0</td>\n",
       "      <td>0</td>\n",
       "    </tr>\n",
       "    <tr>\n",
       "      <th>3</th>\n",
       "      <td>11.0</td>\n",
       "      <td>1.0</td>\n",
       "      <td>1.0</td>\n",
       "      <td>28.0</td>\n",
       "      <td>0.0</td>\n",
       "      <td>1.0</td>\n",
       "      <td>3.0</td>\n",
       "      <td>3.0</td>\n",
       "      <td>0.0</td>\n",
       "      <td>1.0</td>\n",
       "      <td>0.0</td>\n",
       "      <td>0.0</td>\n",
       "      <td>0</td>\n",
       "    </tr>\n",
       "    <tr>\n",
       "      <th>4</th>\n",
       "      <td>8.0</td>\n",
       "      <td>0.0</td>\n",
       "      <td>1.0</td>\n",
       "      <td>29.0</td>\n",
       "      <td>0.0</td>\n",
       "      <td>1.0</td>\n",
       "      <td>2.0</td>\n",
       "      <td>0.0</td>\n",
       "      <td>0.0</td>\n",
       "      <td>0.0</td>\n",
       "      <td>0.0</td>\n",
       "      <td>0.0</td>\n",
       "      <td>0</td>\n",
       "    </tr>\n",
       "    <tr>\n",
       "      <th>...</th>\n",
       "      <td>...</td>\n",
       "      <td>...</td>\n",
       "      <td>...</td>\n",
       "      <td>...</td>\n",
       "      <td>...</td>\n",
       "      <td>...</td>\n",
       "      <td>...</td>\n",
       "      <td>...</td>\n",
       "      <td>...</td>\n",
       "      <td>...</td>\n",
       "      <td>...</td>\n",
       "      <td>...</td>\n",
       "      <td>...</td>\n",
       "    </tr>\n",
       "    <tr>\n",
       "      <th>80686</th>\n",
       "      <td>7.0</td>\n",
       "      <td>1.0</td>\n",
       "      <td>1.0</td>\n",
       "      <td>41.0</td>\n",
       "      <td>0.0</td>\n",
       "      <td>0.0</td>\n",
       "      <td>4.0</td>\n",
       "      <td>5.0</td>\n",
       "      <td>1.0</td>\n",
       "      <td>1.0</td>\n",
       "      <td>0.0</td>\n",
       "      <td>1.0</td>\n",
       "      <td>1</td>\n",
       "    </tr>\n",
       "    <tr>\n",
       "      <th>80687</th>\n",
       "      <td>3.0</td>\n",
       "      <td>0.0</td>\n",
       "      <td>1.0</td>\n",
       "      <td>23.0</td>\n",
       "      <td>0.0</td>\n",
       "      <td>1.0</td>\n",
       "      <td>3.0</td>\n",
       "      <td>0.0</td>\n",
       "      <td>1.0</td>\n",
       "      <td>0.0</td>\n",
       "      <td>0.0</td>\n",
       "      <td>0.0</td>\n",
       "      <td>0</td>\n",
       "    </tr>\n",
       "    <tr>\n",
       "      <th>80688</th>\n",
       "      <td>10.0</td>\n",
       "      <td>1.0</td>\n",
       "      <td>1.0</td>\n",
       "      <td>22.0</td>\n",
       "      <td>0.0</td>\n",
       "      <td>0.0</td>\n",
       "      <td>3.0</td>\n",
       "      <td>30.0</td>\n",
       "      <td>1.0</td>\n",
       "      <td>1.0</td>\n",
       "      <td>0.0</td>\n",
       "      <td>1.0</td>\n",
       "      <td>1</td>\n",
       "    </tr>\n",
       "    <tr>\n",
       "      <th>80690</th>\n",
       "      <td>4.0</td>\n",
       "      <td>1.0</td>\n",
       "      <td>0.0</td>\n",
       "      <td>29.0</td>\n",
       "      <td>0.0</td>\n",
       "      <td>1.0</td>\n",
       "      <td>3.0</td>\n",
       "      <td>15.0</td>\n",
       "      <td>0.0</td>\n",
       "      <td>0.0</td>\n",
       "      <td>0.0</td>\n",
       "      <td>0.0</td>\n",
       "      <td>0</td>\n",
       "    </tr>\n",
       "    <tr>\n",
       "      <th>80691</th>\n",
       "      <td>11.0</td>\n",
       "      <td>1.0</td>\n",
       "      <td>0.0</td>\n",
       "      <td>26.0</td>\n",
       "      <td>0.0</td>\n",
       "      <td>1.0</td>\n",
       "      <td>1.0</td>\n",
       "      <td>0.0</td>\n",
       "      <td>0.0</td>\n",
       "      <td>1.0</td>\n",
       "      <td>0.0</td>\n",
       "      <td>1.0</td>\n",
       "      <td>0</td>\n",
       "    </tr>\n",
       "  </tbody>\n",
       "</table>\n",
       "<p>45660 rows × 13 columns</p>\n",
       "</div>"
      ],
      "text/plain": [
       "        Age  HighChol  CholCheck   BMI  HeartDiseaseorAttack  PhysActivity  \\\n",
       "0       4.0       0.0        1.0  26.0                   0.0           1.0   \n",
       "1      12.0       1.0        1.0  26.0                   0.0           0.0   \n",
       "2      13.0       0.0        1.0  26.0                   0.0           1.0   \n",
       "3      11.0       1.0        1.0  28.0                   0.0           1.0   \n",
       "4       8.0       0.0        1.0  29.0                   0.0           1.0   \n",
       "...     ...       ...        ...   ...                   ...           ...   \n",
       "80686   7.0       1.0        1.0  41.0                   0.0           0.0   \n",
       "80687   3.0       0.0        1.0  23.0                   0.0           1.0   \n",
       "80688  10.0       1.0        1.0  22.0                   0.0           0.0   \n",
       "80690   4.0       1.0        0.0  29.0                   0.0           1.0   \n",
       "80691  11.0       1.0        0.0  26.0                   0.0           1.0   \n",
       "\n",
       "       GenHlth  PhysHlth  DiffWalk  Hypertension  Stroke  Diabetes  Risk  \n",
       "0          3.0      30.0       0.0           1.0     0.0       0.0     0  \n",
       "1          3.0       0.0       0.0           1.0     1.0       0.0     0  \n",
       "2          1.0      10.0       0.0           0.0     0.0       0.0     0  \n",
       "3          3.0       3.0       0.0           1.0     0.0       0.0     0  \n",
       "4          2.0       0.0       0.0           0.0     0.0       0.0     0  \n",
       "...        ...       ...       ...           ...     ...       ...   ...  \n",
       "80686      4.0       5.0       1.0           1.0     0.0       1.0     1  \n",
       "80687      3.0       0.0       1.0           0.0     0.0       0.0     0  \n",
       "80688      3.0      30.0       1.0           1.0     0.0       1.0     1  \n",
       "80690      3.0      15.0       0.0           0.0     0.0       0.0     0  \n",
       "80691      1.0       0.0       0.0           1.0     0.0       1.0     0  \n",
       "\n",
       "[45660 rows x 13 columns]"
      ]
     },
     "execution_count": 66,
     "metadata": {},
     "output_type": "execute_result"
    }
   ],
   "source": [
    "df"
   ]
  },
  {
   "cell_type": "code",
   "execution_count": 67,
   "id": "98cf3ae8",
   "metadata": {
    "execution": {
     "iopub.execute_input": "2022-12-03T19:19:19.437507Z",
     "iopub.status.busy": "2022-12-03T19:19:19.437068Z",
     "iopub.status.idle": "2022-12-03T19:19:19.441428Z",
     "shell.execute_reply": "2022-12-03T19:19:19.440624Z"
    },
    "papermill": {
     "duration": 0.042483,
     "end_time": "2022-12-03T19:19:19.443606",
     "exception": false,
     "start_time": "2022-12-03T19:19:19.401123",
     "status": "completed"
    },
    "tags": []
   },
   "outputs": [],
   "source": [
    "#diabet=train['Diabetes']"
   ]
  },
  {
   "cell_type": "code",
   "execution_count": 68,
   "id": "9dee6e40",
   "metadata": {
    "execution": {
     "iopub.execute_input": "2022-12-03T19:19:19.515635Z",
     "iopub.status.busy": "2022-12-03T19:19:19.515214Z",
     "iopub.status.idle": "2022-12-03T19:19:19.521750Z",
     "shell.execute_reply": "2022-12-03T19:19:19.520866Z"
    },
    "papermill": {
     "duration": 0.04445,
     "end_time": "2022-12-03T19:19:19.524000",
     "exception": false,
     "start_time": "2022-12-03T19:19:19.479550",
     "status": "completed"
    },
    "tags": []
   },
   "outputs": [
    {
     "data": {
      "text/plain": [
       "\"df.drop(columns=['Age','BMI'],inplace=True,axis=1)\\ncor_test.drop(columns=['Age','BMI'],inplace=True,axis=1)\""
      ]
     },
     "execution_count": 68,
     "metadata": {},
     "output_type": "execute_result"
    }
   ],
   "source": [
    "'''df.drop(columns=['Age','BMI'],inplace=True,axis=1)\n",
    "cor_test.drop(columns=['Age','BMI'],inplace=True,axis=1)'''"
   ]
  },
  {
   "cell_type": "code",
   "execution_count": 69,
   "id": "61570be1",
   "metadata": {
    "execution": {
     "iopub.execute_input": "2022-12-03T19:19:19.596140Z",
     "iopub.status.busy": "2022-12-03T19:19:19.595765Z",
     "iopub.status.idle": "2022-12-03T19:19:19.601149Z",
     "shell.execute_reply": "2022-12-03T19:19:19.600368Z"
    },
    "papermill": {
     "duration": 0.044303,
     "end_time": "2022-12-03T19:19:19.603250",
     "exception": false,
     "start_time": "2022-12-03T19:19:19.558947",
     "status": "completed"
    },
    "tags": []
   },
   "outputs": [
    {
     "data": {
      "text/plain": [
       "\"df=pd.get_dummies(df,columns=['HighChol','CholCheck','GenHlth','PhysHlth'],drop_first=True)\\ncor_test=pd.get_dummies(cor_test,columns=['HighChol','CholCheck','GenHlth','PhysHlth'],drop_first=True)\""
      ]
     },
     "execution_count": 69,
     "metadata": {},
     "output_type": "execute_result"
    }
   ],
   "source": [
    "'''df=pd.get_dummies(df,columns=['HighChol','CholCheck','GenHlth','PhysHlth'],drop_first=True)\n",
    "cor_test=pd.get_dummies(cor_test,columns=['HighChol','CholCheck','GenHlth','PhysHlth'],drop_first=True)'''"
   ]
  },
  {
   "cell_type": "code",
   "execution_count": 70,
   "id": "4b9e6078",
   "metadata": {
    "execution": {
     "iopub.execute_input": "2022-12-03T19:19:19.676353Z",
     "iopub.status.busy": "2022-12-03T19:19:19.675663Z",
     "iopub.status.idle": "2022-12-03T19:19:19.722507Z",
     "shell.execute_reply": "2022-12-03T19:19:19.721616Z"
    },
    "papermill": {
     "duration": 0.08655,
     "end_time": "2022-12-03T19:19:19.725005",
     "exception": false,
     "start_time": "2022-12-03T19:19:19.638455",
     "status": "completed"
    },
    "tags": []
   },
   "outputs": [
    {
     "data": {
      "text/html": [
       "<div>\n",
       "<style scoped>\n",
       "    .dataframe tbody tr th:only-of-type {\n",
       "        vertical-align: middle;\n",
       "    }\n",
       "\n",
       "    .dataframe tbody tr th {\n",
       "        vertical-align: top;\n",
       "    }\n",
       "\n",
       "    .dataframe thead th {\n",
       "        text-align: right;\n",
       "    }\n",
       "</style>\n",
       "<table border=\"1\" class=\"dataframe\">\n",
       "  <thead>\n",
       "    <tr style=\"text-align: right;\">\n",
       "      <th></th>\n",
       "      <th>Age</th>\n",
       "      <th>HighChol</th>\n",
       "      <th>CholCheck</th>\n",
       "      <th>BMI</th>\n",
       "      <th>HeartDiseaseorAttack</th>\n",
       "      <th>PhysActivity</th>\n",
       "      <th>GenHlth</th>\n",
       "      <th>PhysHlth</th>\n",
       "      <th>DiffWalk</th>\n",
       "      <th>Hypertension</th>\n",
       "      <th>Stroke</th>\n",
       "      <th>Diabetes</th>\n",
       "      <th>Risk</th>\n",
       "    </tr>\n",
       "  </thead>\n",
       "  <tbody>\n",
       "    <tr>\n",
       "      <th>Age</th>\n",
       "      <td>1.000000</td>\n",
       "      <td>0.158616</td>\n",
       "      <td>0.112070</td>\n",
       "      <td>-0.055506</td>\n",
       "      <td>0.221471</td>\n",
       "      <td>-0.081675</td>\n",
       "      <td>0.114351</td>\n",
       "      <td>0.072058</td>\n",
       "      <td>0.203866</td>\n",
       "      <td>0.253668</td>\n",
       "      <td>0.134873</td>\n",
       "      <td>0.212786</td>\n",
       "      <td>0.097680</td>\n",
       "    </tr>\n",
       "    <tr>\n",
       "      <th>HighChol</th>\n",
       "      <td>0.158616</td>\n",
       "      <td>1.000000</td>\n",
       "      <td>0.107894</td>\n",
       "      <td>0.087965</td>\n",
       "      <td>0.166781</td>\n",
       "      <td>-0.060238</td>\n",
       "      <td>0.166799</td>\n",
       "      <td>0.103466</td>\n",
       "      <td>0.138357</td>\n",
       "      <td>0.235160</td>\n",
       "      <td>0.105212</td>\n",
       "      <td>0.209540</td>\n",
       "      <td>0.357971</td>\n",
       "    </tr>\n",
       "    <tr>\n",
       "      <th>CholCheck</th>\n",
       "      <td>0.112070</td>\n",
       "      <td>0.107894</td>\n",
       "      <td>1.000000</td>\n",
       "      <td>0.071497</td>\n",
       "      <td>0.078649</td>\n",
       "      <td>-0.035610</td>\n",
       "      <td>0.103844</td>\n",
       "      <td>0.076241</td>\n",
       "      <td>0.092239</td>\n",
       "      <td>0.136257</td>\n",
       "      <td>0.045839</td>\n",
       "      <td>0.149753</td>\n",
       "      <td>0.051337</td>\n",
       "    </tr>\n",
       "    <tr>\n",
       "      <th>BMI</th>\n",
       "      <td>-0.055506</td>\n",
       "      <td>0.087965</td>\n",
       "      <td>0.071497</td>\n",
       "      <td>1.000000</td>\n",
       "      <td>0.028031</td>\n",
       "      <td>-0.079606</td>\n",
       "      <td>0.129547</td>\n",
       "      <td>0.042365</td>\n",
       "      <td>0.140272</td>\n",
       "      <td>0.172158</td>\n",
       "      <td>-0.005761</td>\n",
       "      <td>0.213929</td>\n",
       "      <td>0.179031</td>\n",
       "    </tr>\n",
       "    <tr>\n",
       "      <th>HeartDiseaseorAttack</th>\n",
       "      <td>0.221471</td>\n",
       "      <td>0.166781</td>\n",
       "      <td>0.078649</td>\n",
       "      <td>0.028031</td>\n",
       "      <td>1.000000</td>\n",
       "      <td>-0.036269</td>\n",
       "      <td>0.211570</td>\n",
       "      <td>0.124838</td>\n",
       "      <td>0.175053</td>\n",
       "      <td>0.196331</td>\n",
       "      <td>0.194367</td>\n",
       "      <td>0.175584</td>\n",
       "      <td>0.110586</td>\n",
       "    </tr>\n",
       "    <tr>\n",
       "      <th>PhysActivity</th>\n",
       "      <td>-0.081675</td>\n",
       "      <td>-0.060238</td>\n",
       "      <td>-0.035610</td>\n",
       "      <td>-0.079606</td>\n",
       "      <td>-0.036269</td>\n",
       "      <td>1.000000</td>\n",
       "      <td>-0.167087</td>\n",
       "      <td>-0.123608</td>\n",
       "      <td>-0.192575</td>\n",
       "      <td>-0.076957</td>\n",
       "      <td>-0.048622</td>\n",
       "      <td>-0.109331</td>\n",
       "      <td>-0.496418</td>\n",
       "    </tr>\n",
       "    <tr>\n",
       "      <th>GenHlth</th>\n",
       "      <td>0.114351</td>\n",
       "      <td>0.166799</td>\n",
       "      <td>0.103844</td>\n",
       "      <td>0.129547</td>\n",
       "      <td>0.211570</td>\n",
       "      <td>-0.167087</td>\n",
       "      <td>1.000000</td>\n",
       "      <td>0.447814</td>\n",
       "      <td>0.377447</td>\n",
       "      <td>0.220290</td>\n",
       "      <td>0.147669</td>\n",
       "      <td>0.290769</td>\n",
       "      <td>0.181169</td>\n",
       "    </tr>\n",
       "    <tr>\n",
       "      <th>PhysHlth</th>\n",
       "      <td>0.072058</td>\n",
       "      <td>0.103466</td>\n",
       "      <td>0.076241</td>\n",
       "      <td>0.042365</td>\n",
       "      <td>0.124838</td>\n",
       "      <td>-0.123608</td>\n",
       "      <td>0.447814</td>\n",
       "      <td>1.000000</td>\n",
       "      <td>0.350962</td>\n",
       "      <td>0.119568</td>\n",
       "      <td>0.112623</td>\n",
       "      <td>0.134255</td>\n",
       "      <td>0.126663</td>\n",
       "    </tr>\n",
       "    <tr>\n",
       "      <th>DiffWalk</th>\n",
       "      <td>0.203866</td>\n",
       "      <td>0.138357</td>\n",
       "      <td>0.092239</td>\n",
       "      <td>0.140272</td>\n",
       "      <td>0.175053</td>\n",
       "      <td>-0.192575</td>\n",
       "      <td>0.377447</td>\n",
       "      <td>0.350962</td>\n",
       "      <td>1.000000</td>\n",
       "      <td>0.200397</td>\n",
       "      <td>0.155470</td>\n",
       "      <td>0.224337</td>\n",
       "      <td>0.194571</td>\n",
       "    </tr>\n",
       "    <tr>\n",
       "      <th>Hypertension</th>\n",
       "      <td>0.253668</td>\n",
       "      <td>0.235160</td>\n",
       "      <td>0.136257</td>\n",
       "      <td>0.172158</td>\n",
       "      <td>0.196331</td>\n",
       "      <td>-0.076957</td>\n",
       "      <td>0.220290</td>\n",
       "      <td>0.119568</td>\n",
       "      <td>0.200397</td>\n",
       "      <td>1.000000</td>\n",
       "      <td>0.135419</td>\n",
       "      <td>0.263728</td>\n",
       "      <td>0.329513</td>\n",
       "    </tr>\n",
       "    <tr>\n",
       "      <th>Stroke</th>\n",
       "      <td>0.134873</td>\n",
       "      <td>0.105212</td>\n",
       "      <td>0.045839</td>\n",
       "      <td>-0.005761</td>\n",
       "      <td>0.194367</td>\n",
       "      <td>-0.048622</td>\n",
       "      <td>0.147669</td>\n",
       "      <td>0.112623</td>\n",
       "      <td>0.155470</td>\n",
       "      <td>0.135419</td>\n",
       "      <td>1.000000</td>\n",
       "      <td>0.117748</td>\n",
       "      <td>0.093628</td>\n",
       "    </tr>\n",
       "    <tr>\n",
       "      <th>Diabetes</th>\n",
       "      <td>0.212786</td>\n",
       "      <td>0.209540</td>\n",
       "      <td>0.149753</td>\n",
       "      <td>0.213929</td>\n",
       "      <td>0.175584</td>\n",
       "      <td>-0.109331</td>\n",
       "      <td>0.290769</td>\n",
       "      <td>0.134255</td>\n",
       "      <td>0.224337</td>\n",
       "      <td>0.263728</td>\n",
       "      <td>0.117748</td>\n",
       "      <td>1.000000</td>\n",
       "      <td>0.177117</td>\n",
       "    </tr>\n",
       "    <tr>\n",
       "      <th>Risk</th>\n",
       "      <td>0.097680</td>\n",
       "      <td>0.357971</td>\n",
       "      <td>0.051337</td>\n",
       "      <td>0.179031</td>\n",
       "      <td>0.110586</td>\n",
       "      <td>-0.496418</td>\n",
       "      <td>0.181169</td>\n",
       "      <td>0.126663</td>\n",
       "      <td>0.194571</td>\n",
       "      <td>0.329513</td>\n",
       "      <td>0.093628</td>\n",
       "      <td>0.177117</td>\n",
       "      <td>1.000000</td>\n",
       "    </tr>\n",
       "  </tbody>\n",
       "</table>\n",
       "</div>"
      ],
      "text/plain": [
       "                           Age  HighChol  CholCheck       BMI  \\\n",
       "Age                   1.000000  0.158616   0.112070 -0.055506   \n",
       "HighChol              0.158616  1.000000   0.107894  0.087965   \n",
       "CholCheck             0.112070  0.107894   1.000000  0.071497   \n",
       "BMI                  -0.055506  0.087965   0.071497  1.000000   \n",
       "HeartDiseaseorAttack  0.221471  0.166781   0.078649  0.028031   \n",
       "PhysActivity         -0.081675 -0.060238  -0.035610 -0.079606   \n",
       "GenHlth               0.114351  0.166799   0.103844  0.129547   \n",
       "PhysHlth              0.072058  0.103466   0.076241  0.042365   \n",
       "DiffWalk              0.203866  0.138357   0.092239  0.140272   \n",
       "Hypertension          0.253668  0.235160   0.136257  0.172158   \n",
       "Stroke                0.134873  0.105212   0.045839 -0.005761   \n",
       "Diabetes              0.212786  0.209540   0.149753  0.213929   \n",
       "Risk                  0.097680  0.357971   0.051337  0.179031   \n",
       "\n",
       "                      HeartDiseaseorAttack  PhysActivity   GenHlth  PhysHlth  \\\n",
       "Age                               0.221471     -0.081675  0.114351  0.072058   \n",
       "HighChol                          0.166781     -0.060238  0.166799  0.103466   \n",
       "CholCheck                         0.078649     -0.035610  0.103844  0.076241   \n",
       "BMI                               0.028031     -0.079606  0.129547  0.042365   \n",
       "HeartDiseaseorAttack              1.000000     -0.036269  0.211570  0.124838   \n",
       "PhysActivity                     -0.036269      1.000000 -0.167087 -0.123608   \n",
       "GenHlth                           0.211570     -0.167087  1.000000  0.447814   \n",
       "PhysHlth                          0.124838     -0.123608  0.447814  1.000000   \n",
       "DiffWalk                          0.175053     -0.192575  0.377447  0.350962   \n",
       "Hypertension                      0.196331     -0.076957  0.220290  0.119568   \n",
       "Stroke                            0.194367     -0.048622  0.147669  0.112623   \n",
       "Diabetes                          0.175584     -0.109331  0.290769  0.134255   \n",
       "Risk                              0.110586     -0.496418  0.181169  0.126663   \n",
       "\n",
       "                      DiffWalk  Hypertension    Stroke  Diabetes      Risk  \n",
       "Age                   0.203866      0.253668  0.134873  0.212786  0.097680  \n",
       "HighChol              0.138357      0.235160  0.105212  0.209540  0.357971  \n",
       "CholCheck             0.092239      0.136257  0.045839  0.149753  0.051337  \n",
       "BMI                   0.140272      0.172158 -0.005761  0.213929  0.179031  \n",
       "HeartDiseaseorAttack  0.175053      0.196331  0.194367  0.175584  0.110586  \n",
       "PhysActivity         -0.192575     -0.076957 -0.048622 -0.109331 -0.496418  \n",
       "GenHlth               0.377447      0.220290  0.147669  0.290769  0.181169  \n",
       "PhysHlth              0.350962      0.119568  0.112623  0.134255  0.126663  \n",
       "DiffWalk              1.000000      0.200397  0.155470  0.224337  0.194571  \n",
       "Hypertension          0.200397      1.000000  0.135419  0.263728  0.329513  \n",
       "Stroke                0.155470      0.135419  1.000000  0.117748  0.093628  \n",
       "Diabetes              0.224337      0.263728  0.117748  1.000000  0.177117  \n",
       "Risk                  0.194571      0.329513  0.093628  0.177117  1.000000  "
      ]
     },
     "execution_count": 70,
     "metadata": {},
     "output_type": "execute_result"
    }
   ],
   "source": [
    "df.corr()"
   ]
  },
  {
   "cell_type": "code",
   "execution_count": 71,
   "id": "8e1518fe",
   "metadata": {
    "execution": {
     "iopub.execute_input": "2022-12-03T19:19:19.805158Z",
     "iopub.status.busy": "2022-12-03T19:19:19.804720Z",
     "iopub.status.idle": "2022-12-03T19:19:19.811414Z",
     "shell.execute_reply": "2022-12-03T19:19:19.810536Z"
    },
    "papermill": {
     "duration": 0.052313,
     "end_time": "2022-12-03T19:19:19.814549",
     "exception": false,
     "start_time": "2022-12-03T19:19:19.762236",
     "status": "completed"
    },
    "tags": []
   },
   "outputs": [
    {
     "data": {
      "text/plain": [
       "(45660, 13)"
      ]
     },
     "execution_count": 71,
     "metadata": {},
     "output_type": "execute_result"
    }
   ],
   "source": [
    "df.shape"
   ]
  },
  {
   "cell_type": "code",
   "execution_count": 72,
   "id": "68126ef3",
   "metadata": {
    "execution": {
     "iopub.execute_input": "2022-12-03T19:19:19.888549Z",
     "iopub.status.busy": "2022-12-03T19:19:19.888103Z",
     "iopub.status.idle": "2022-12-03T19:19:19.894968Z",
     "shell.execute_reply": "2022-12-03T19:19:19.894196Z"
    },
    "papermill": {
     "duration": 0.045236,
     "end_time": "2022-12-03T19:19:19.896914",
     "exception": false,
     "start_time": "2022-12-03T19:19:19.851678",
     "status": "completed"
    },
    "tags": []
   },
   "outputs": [
    {
     "data": {
      "text/plain": [
       "(20000, 12)"
      ]
     },
     "execution_count": 72,
     "metadata": {},
     "output_type": "execute_result"
    }
   ],
   "source": [
    "cor_test.shape"
   ]
  },
  {
   "cell_type": "code",
   "execution_count": 73,
   "id": "488ee129",
   "metadata": {
    "execution": {
     "iopub.execute_input": "2022-12-03T19:19:19.967687Z",
     "iopub.status.busy": "2022-12-03T19:19:19.967099Z",
     "iopub.status.idle": "2022-12-03T19:19:19.974824Z",
     "shell.execute_reply": "2022-12-03T19:19:19.973762Z"
    },
    "papermill": {
     "duration": 0.045724,
     "end_time": "2022-12-03T19:19:19.977056",
     "exception": false,
     "start_time": "2022-12-03T19:19:19.931332",
     "status": "completed"
    },
    "tags": []
   },
   "outputs": [],
   "source": [
    "x=df.drop(columns='Diabetes',axis=1)\n",
    "#cor_test=cor_test[['HighChol','BMI','GenHlth','Hypertension']]\n",
    "y=df['Diabetes']"
   ]
  },
  {
   "cell_type": "code",
   "execution_count": 74,
   "id": "ba2deef7",
   "metadata": {
    "execution": {
     "iopub.execute_input": "2022-12-03T19:19:20.048087Z",
     "iopub.status.busy": "2022-12-03T19:19:20.047665Z",
     "iopub.status.idle": "2022-12-03T19:19:20.061670Z",
     "shell.execute_reply": "2022-12-03T19:19:20.060512Z"
    },
    "papermill": {
     "duration": 0.052478,
     "end_time": "2022-12-03T19:19:20.064215",
     "exception": false,
     "start_time": "2022-12-03T19:19:20.011737",
     "status": "completed"
    },
    "tags": []
   },
   "outputs": [],
   "source": [
    "x_train,x_test,y_train,y_test=train_test_split(x,y,test_size=0.15, random_state=0)"
   ]
  },
  {
   "cell_type": "code",
   "execution_count": 75,
   "id": "5ffe560c",
   "metadata": {
    "execution": {
     "iopub.execute_input": "2022-12-03T19:19:20.134854Z",
     "iopub.status.busy": "2022-12-03T19:19:20.134430Z",
     "iopub.status.idle": "2022-12-03T19:19:34.001119Z",
     "shell.execute_reply": "2022-12-03T19:19:33.999603Z"
    },
    "papermill": {
     "duration": 13.905632,
     "end_time": "2022-12-03T19:19:34.004147",
     "exception": false,
     "start_time": "2022-12-03T19:19:20.098515",
     "status": "completed"
    },
    "tags": []
   },
   "outputs": [
    {
     "name": "stdout",
     "output_type": "stream",
     "text": [
      "Collecting flaml\r\n",
      "  Downloading FLAML-1.0.14-py3-none-any.whl (208 kB)\r\n",
      "\u001b[2K     \u001b[90m━━━━━━━━━━━━━━━━━━━━━━━━━━━━━━━━━━━━━━━\u001b[0m \u001b[32m208.6/208.6 kB\u001b[0m \u001b[31m1.4 MB/s\u001b[0m eta \u001b[36m0:00:00\u001b[0m\r\n",
      "\u001b[?25hRequirement already satisfied: lightgbm>=2.3.1 in /opt/conda/lib/python3.7/site-packages (from flaml) (3.3.2)\r\n",
      "Requirement already satisfied: scipy>=1.4.1 in /opt/conda/lib/python3.7/site-packages (from flaml) (1.7.3)\r\n",
      "Requirement already satisfied: pandas>=1.1.4 in /opt/conda/lib/python3.7/site-packages (from flaml) (1.3.5)\r\n",
      "Requirement already satisfied: xgboost>=0.90 in /opt/conda/lib/python3.7/site-packages (from flaml) (1.6.2)\r\n",
      "Requirement already satisfied: NumPy>=1.17.0rc1 in /opt/conda/lib/python3.7/site-packages (from flaml) (1.21.6)\r\n",
      "Requirement already satisfied: scikit-learn>=0.24 in /opt/conda/lib/python3.7/site-packages (from flaml) (1.0.2)\r\n",
      "Requirement already satisfied: wheel in /opt/conda/lib/python3.7/site-packages (from lightgbm>=2.3.1->flaml) (0.37.1)\r\n",
      "Requirement already satisfied: python-dateutil>=2.7.3 in /opt/conda/lib/python3.7/site-packages (from pandas>=1.1.4->flaml) (2.8.2)\r\n",
      "Requirement already satisfied: pytz>=2017.3 in /opt/conda/lib/python3.7/site-packages (from pandas>=1.1.4->flaml) (2022.1)\r\n",
      "Requirement already satisfied: joblib>=0.11 in /opt/conda/lib/python3.7/site-packages (from scikit-learn>=0.24->flaml) (1.0.1)\r\n",
      "Requirement already satisfied: threadpoolctl>=2.0.0 in /opt/conda/lib/python3.7/site-packages (from scikit-learn>=0.24->flaml) (3.1.0)\r\n",
      "Requirement already satisfied: six>=1.5 in /opt/conda/lib/python3.7/site-packages (from python-dateutil>=2.7.3->pandas>=1.1.4->flaml) (1.15.0)\r\n",
      "Installing collected packages: flaml\r\n",
      "Successfully installed flaml-1.0.14\r\n",
      "\u001b[33mWARNING: Running pip as the 'root' user can result in broken permissions and conflicting behaviour with the system package manager. It is recommended to use a virtual environment instead: https://pip.pypa.io/warnings/venv\u001b[0m\u001b[33m\r\n",
      "\u001b[0m"
     ]
    }
   ],
   "source": [
    "!pip install flaml\n",
    "from sklearn.metrics import mean_absolute_percentage_error"
   ]
  },
  {
   "cell_type": "code",
   "execution_count": 76,
   "id": "a43c3e84",
   "metadata": {
    "execution": {
     "iopub.execute_input": "2022-12-03T19:19:34.076486Z",
     "iopub.status.busy": "2022-12-03T19:19:34.076006Z",
     "iopub.status.idle": "2022-12-03T19:19:36.241167Z",
     "shell.execute_reply": "2022-12-03T19:19:36.240031Z"
    },
    "papermill": {
     "duration": 2.204574,
     "end_time": "2022-12-03T19:19:36.243943",
     "exception": false,
     "start_time": "2022-12-03T19:19:34.039369",
     "status": "completed"
    },
    "tags": []
   },
   "outputs": [
    {
     "data": {
      "text/html": [
       "<style type='text/css'>\n",
       ".datatable table.frame { margin-bottom: 0; }\n",
       ".datatable table.frame thead { border-bottom: none; }\n",
       ".datatable table.frame tr.coltypes td {  color: #FFFFFF;  line-height: 6px;  padding: 0 0.5em;}\n",
       ".datatable .bool    { background: #DDDD99; }\n",
       ".datatable .object  { background: #565656; }\n",
       ".datatable .int     { background: #5D9E5D; }\n",
       ".datatable .float   { background: #4040CC; }\n",
       ".datatable .str     { background: #CC4040; }\n",
       ".datatable .time    { background: #40CC40; }\n",
       ".datatable .row_index {  background: var(--jp-border-color3);  border-right: 1px solid var(--jp-border-color0);  color: var(--jp-ui-font-color3);  font-size: 9px;}\n",
       ".datatable .frame tbody td { text-align: left; }\n",
       ".datatable .frame tr.coltypes .row_index {  background: var(--jp-border-color0);}\n",
       ".datatable th:nth-child(2) { padding-left: 12px; }\n",
       ".datatable .hellipsis {  color: var(--jp-cell-editor-border-color);}\n",
       ".datatable .vellipsis {  background: var(--jp-layout-color0);  color: var(--jp-cell-editor-border-color);}\n",
       ".datatable .na {  color: var(--jp-cell-editor-border-color);  font-size: 80%;}\n",
       ".datatable .sp {  opacity: 0.25;}\n",
       ".datatable .footer { font-size: 9px; }\n",
       ".datatable .frame_dimensions {  background: var(--jp-border-color3);  border-top: 1px solid var(--jp-border-color0);  color: var(--jp-ui-font-color3);  display: inline-block;  opacity: 0.6;  padding: 1px 10px 1px 5px;}\n",
       ".datatable .frame thead tr.colnames {  background-image: url('data:image/png;base64,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');  background-repeat: repeat-x;  background-size: 14px;  height: 28px;}\n",
       "</style>\n"
      ],
      "text/plain": [
       "<IPython.core.display.HTML object>"
      ]
     },
     "metadata": {},
     "output_type": "display_data"
    }
   ],
   "source": [
    "from flaml import AutoML\n",
    "automl = AutoML()"
   ]
  },
  {
   "cell_type": "code",
   "execution_count": 77,
   "id": "d17731cc",
   "metadata": {
    "execution": {
     "iopub.execute_input": "2022-12-03T19:19:36.319072Z",
     "iopub.status.busy": "2022-12-03T19:19:36.318645Z",
     "iopub.status.idle": "2022-12-03T19:24:37.368323Z",
     "shell.execute_reply": "2022-12-03T19:24:37.366977Z"
    },
    "papermill": {
     "duration": 301.089927,
     "end_time": "2022-12-03T19:24:37.370817",
     "exception": false,
     "start_time": "2022-12-03T19:19:36.280890",
     "status": "completed"
    },
    "tags": []
   },
   "outputs": [
    {
     "name": "stderr",
     "output_type": "stream",
     "text": [
      "[flaml.automl: 12-03 19:19:36] {2599} INFO - task = classification\n",
      "[flaml.automl: 12-03 19:19:36] {2601} INFO - Data split method: stratified\n",
      "[flaml.automl: 12-03 19:19:36] {2604} INFO - Evaluation method: cv\n",
      "[flaml.automl: 12-03 19:19:36] {2726} INFO - Minimizing error metric: 1-roc_auc\n",
      "[flaml.automl: 12-03 19:19:36] {2870} INFO - List of ML learners in AutoML Run: ['lgbm', 'rf', 'catboost', 'xgboost', 'extra_tree', 'xgb_limitdepth', 'lrl1']\n",
      "[flaml.automl: 12-03 19:19:36] {3166} INFO - iteration 0, current learner lgbm\n",
      "[flaml.automl: 12-03 19:19:37] {3297} INFO - Estimated sufficient time budget=3875s. Estimated necessary time budget=95s.\n",
      "[flaml.automl: 12-03 19:19:37] {3349} INFO -  at 0.7s,\testimator lgbm's best error=0.2803,\tbest estimator lgbm's best error=0.2803\n",
      "[flaml.automl: 12-03 19:19:37] {3166} INFO - iteration 1, current learner lgbm\n",
      "[flaml.automl: 12-03 19:19:37] {3349} INFO -  at 1.0s,\testimator lgbm's best error=0.2803,\tbest estimator lgbm's best error=0.2803\n",
      "[flaml.automl: 12-03 19:19:37] {3166} INFO - iteration 2, current learner lgbm\n",
      "[flaml.automl: 12-03 19:19:37] {3349} INFO -  at 1.4s,\testimator lgbm's best error=0.2624,\tbest estimator lgbm's best error=0.2624\n",
      "[flaml.automl: 12-03 19:19:37] {3166} INFO - iteration 3, current learner lgbm\n",
      "[flaml.automl: 12-03 19:19:38] {3349} INFO -  at 1.7s,\testimator lgbm's best error=0.2434,\tbest estimator lgbm's best error=0.2434\n",
      "[flaml.automl: 12-03 19:19:38] {3166} INFO - iteration 4, current learner lgbm\n",
      "[flaml.automl: 12-03 19:19:38] {3349} INFO -  at 2.0s,\testimator lgbm's best error=0.2434,\tbest estimator lgbm's best error=0.2434\n",
      "[flaml.automl: 12-03 19:19:38] {3166} INFO - iteration 5, current learner lgbm\n",
      "[flaml.automl: 12-03 19:19:38] {3349} INFO -  at 2.3s,\testimator lgbm's best error=0.2419,\tbest estimator lgbm's best error=0.2419\n",
      "[flaml.automl: 12-03 19:19:38] {3166} INFO - iteration 6, current learner lgbm\n",
      "[flaml.automl: 12-03 19:19:38] {3349} INFO -  at 2.6s,\testimator lgbm's best error=0.2419,\tbest estimator lgbm's best error=0.2419\n",
      "[flaml.automl: 12-03 19:19:38] {3166} INFO - iteration 7, current learner lgbm\n",
      "[flaml.automl: 12-03 19:19:39] {3349} INFO -  at 2.9s,\testimator lgbm's best error=0.2419,\tbest estimator lgbm's best error=0.2419\n",
      "[flaml.automl: 12-03 19:19:39] {3166} INFO - iteration 8, current learner lgbm\n",
      "[flaml.automl: 12-03 19:19:40] {3349} INFO -  at 4.4s,\testimator lgbm's best error=0.2390,\tbest estimator lgbm's best error=0.2390\n",
      "[flaml.automl: 12-03 19:19:40] {3166} INFO - iteration 9, current learner xgboost\n",
      "[flaml.automl: 12-03 19:19:41] {3349} INFO -  at 4.9s,\testimator xgboost's best error=0.2806,\tbest estimator lgbm's best error=0.2390\n",
      "[flaml.automl: 12-03 19:19:41] {3166} INFO - iteration 10, current learner xgboost\n",
      "[flaml.automl: 12-03 19:19:41] {3349} INFO -  at 5.4s,\testimator xgboost's best error=0.2806,\tbest estimator lgbm's best error=0.2390\n",
      "[flaml.automl: 12-03 19:19:41] {3166} INFO - iteration 11, current learner xgboost\n",
      "[flaml.automl: 12-03 19:19:42] {3349} INFO -  at 5.8s,\testimator xgboost's best error=0.2640,\tbest estimator lgbm's best error=0.2390\n",
      "[flaml.automl: 12-03 19:19:42] {3166} INFO - iteration 12, current learner extra_tree\n",
      "[flaml.automl: 12-03 19:19:43] {3349} INFO -  at 7.1s,\testimator extra_tree's best error=0.2854,\tbest estimator lgbm's best error=0.2390\n",
      "[flaml.automl: 12-03 19:19:43] {3166} INFO - iteration 13, current learner rf\n",
      "[flaml.automl: 12-03 19:19:44] {3349} INFO -  at 8.3s,\testimator rf's best error=0.2802,\tbest estimator lgbm's best error=0.2390\n",
      "[flaml.automl: 12-03 19:19:44] {3166} INFO - iteration 14, current learner rf\n",
      "[flaml.automl: 12-03 19:19:45] {3349} INFO -  at 9.6s,\testimator rf's best error=0.2629,\tbest estimator lgbm's best error=0.2390\n",
      "[flaml.automl: 12-03 19:19:45] {3166} INFO - iteration 15, current learner extra_tree\n",
      "[flaml.automl: 12-03 19:19:47] {3349} INFO -  at 10.8s,\testimator extra_tree's best error=0.2624,\tbest estimator lgbm's best error=0.2390\n",
      "[flaml.automl: 12-03 19:19:47] {3166} INFO - iteration 16, current learner lgbm\n",
      "[flaml.automl: 12-03 19:19:47] {3349} INFO -  at 11.2s,\testimator lgbm's best error=0.2390,\tbest estimator lgbm's best error=0.2390\n",
      "[flaml.automl: 12-03 19:19:47] {3166} INFO - iteration 17, current learner extra_tree\n",
      "[flaml.automl: 12-03 19:19:48] {3349} INFO -  at 12.4s,\testimator extra_tree's best error=0.2624,\tbest estimator lgbm's best error=0.2390\n",
      "[flaml.automl: 12-03 19:19:48] {3166} INFO - iteration 18, current learner lgbm\n",
      "[flaml.automl: 12-03 19:19:50] {3349} INFO -  at 14.4s,\testimator lgbm's best error=0.2390,\tbest estimator lgbm's best error=0.2390\n",
      "[flaml.automl: 12-03 19:19:50] {3166} INFO - iteration 19, current learner xgboost\n",
      "[flaml.automl: 12-03 19:19:51] {3349} INFO -  at 14.9s,\testimator xgboost's best error=0.2579,\tbest estimator lgbm's best error=0.2390\n",
      "[flaml.automl: 12-03 19:19:51] {3166} INFO - iteration 20, current learner rf\n",
      "[flaml.automl: 12-03 19:19:52] {3349} INFO -  at 16.1s,\testimator rf's best error=0.2629,\tbest estimator lgbm's best error=0.2390\n",
      "[flaml.automl: 12-03 19:19:52] {3166} INFO - iteration 21, current learner xgboost\n",
      "[flaml.automl: 12-03 19:19:52] {3349} INFO -  at 16.6s,\testimator xgboost's best error=0.2537,\tbest estimator lgbm's best error=0.2390\n",
      "[flaml.automl: 12-03 19:19:52] {3166} INFO - iteration 22, current learner lgbm\n",
      "[flaml.automl: 12-03 19:19:53] {3349} INFO -  at 17.3s,\testimator lgbm's best error=0.2390,\tbest estimator lgbm's best error=0.2390\n",
      "[flaml.automl: 12-03 19:19:53] {3166} INFO - iteration 23, current learner lgbm\n",
      "[flaml.automl: 12-03 19:19:54] {3349} INFO -  at 17.9s,\testimator lgbm's best error=0.2390,\tbest estimator lgbm's best error=0.2390\n",
      "[flaml.automl: 12-03 19:19:54] {3166} INFO - iteration 24, current learner extra_tree\n",
      "[flaml.automl: 12-03 19:19:55] {3349} INFO -  at 19.5s,\testimator extra_tree's best error=0.2624,\tbest estimator lgbm's best error=0.2390\n",
      "[flaml.automl: 12-03 19:19:55] {3166} INFO - iteration 25, current learner extra_tree\n",
      "[flaml.automl: 12-03 19:19:57] {3349} INFO -  at 20.7s,\testimator extra_tree's best error=0.2624,\tbest estimator lgbm's best error=0.2390\n",
      "[flaml.automl: 12-03 19:19:57] {3166} INFO - iteration 26, current learner lgbm\n",
      "[flaml.automl: 12-03 19:19:57] {3349} INFO -  at 21.5s,\testimator lgbm's best error=0.2390,\tbest estimator lgbm's best error=0.2390\n",
      "[flaml.automl: 12-03 19:19:57] {3166} INFO - iteration 27, current learner xgboost\n",
      "[flaml.automl: 12-03 19:19:58] {3349} INFO -  at 22.0s,\testimator xgboost's best error=0.2537,\tbest estimator lgbm's best error=0.2390\n",
      "[flaml.automl: 12-03 19:19:58] {3166} INFO - iteration 28, current learner extra_tree\n",
      "[flaml.automl: 12-03 19:19:59] {3349} INFO -  at 23.3s,\testimator extra_tree's best error=0.2624,\tbest estimator lgbm's best error=0.2390\n",
      "[flaml.automl: 12-03 19:19:59] {3166} INFO - iteration 29, current learner extra_tree\n",
      "[flaml.automl: 12-03 19:20:00] {3349} INFO -  at 24.6s,\testimator extra_tree's best error=0.2624,\tbest estimator lgbm's best error=0.2390\n",
      "[flaml.automl: 12-03 19:20:00] {3166} INFO - iteration 30, current learner lgbm\n",
      "[flaml.automl: 12-03 19:20:01] {3349} INFO -  at 25.2s,\testimator lgbm's best error=0.2374,\tbest estimator lgbm's best error=0.2374\n",
      "[flaml.automl: 12-03 19:20:01] {3166} INFO - iteration 31, current learner lgbm\n",
      "[flaml.automl: 12-03 19:20:02] {3349} INFO -  at 25.9s,\testimator lgbm's best error=0.2374,\tbest estimator lgbm's best error=0.2374\n",
      "[flaml.automl: 12-03 19:20:02] {3166} INFO - iteration 32, current learner lgbm\n",
      "[flaml.automl: 12-03 19:20:02] {3349} INFO -  at 26.5s,\testimator lgbm's best error=0.2374,\tbest estimator lgbm's best error=0.2374\n",
      "[flaml.automl: 12-03 19:20:02] {3166} INFO - iteration 33, current learner xgboost\n",
      "[flaml.automl: 12-03 19:20:03] {3349} INFO -  at 27.1s,\testimator xgboost's best error=0.2406,\tbest estimator lgbm's best error=0.2374\n",
      "[flaml.automl: 12-03 19:20:03] {3166} INFO - iteration 34, current learner lgbm\n",
      "[flaml.automl: 12-03 19:20:04] {3349} INFO -  at 27.8s,\testimator lgbm's best error=0.2374,\tbest estimator lgbm's best error=0.2374\n",
      "[flaml.automl: 12-03 19:20:04] {3166} INFO - iteration 35, current learner xgboost\n",
      "[flaml.automl: 12-03 19:20:04] {3349} INFO -  at 28.6s,\testimator xgboost's best error=0.2406,\tbest estimator lgbm's best error=0.2374\n",
      "[flaml.automl: 12-03 19:20:04] {3166} INFO - iteration 36, current learner extra_tree\n",
      "[flaml.automl: 12-03 19:20:06] {3349} INFO -  at 30.0s,\testimator extra_tree's best error=0.2574,\tbest estimator lgbm's best error=0.2374\n",
      "[flaml.automl: 12-03 19:20:06] {3166} INFO - iteration 37, current learner xgboost\n",
      "[flaml.automl: 12-03 19:20:06] {3349} INFO -  at 30.5s,\testimator xgboost's best error=0.2406,\tbest estimator lgbm's best error=0.2374\n",
      "[flaml.automl: 12-03 19:20:06] {3166} INFO - iteration 38, current learner xgboost\n",
      "[flaml.automl: 12-03 19:20:07] {3349} INFO -  at 31.2s,\testimator xgboost's best error=0.2406,\tbest estimator lgbm's best error=0.2374\n",
      "[flaml.automl: 12-03 19:20:07] {3166} INFO - iteration 39, current learner rf\n",
      "[flaml.automl: 12-03 19:20:08] {3349} INFO -  at 32.6s,\testimator rf's best error=0.2603,\tbest estimator lgbm's best error=0.2374\n",
      "[flaml.automl: 12-03 19:20:08] {3166} INFO - iteration 40, current learner xgboost\n",
      "[flaml.automl: 12-03 19:20:09] {3349} INFO -  at 33.2s,\testimator xgboost's best error=0.2406,\tbest estimator lgbm's best error=0.2374\n",
      "[flaml.automl: 12-03 19:20:09] {3166} INFO - iteration 41, current learner xgboost\n",
      "[flaml.automl: 12-03 19:20:09] {3349} INFO -  at 33.7s,\testimator xgboost's best error=0.2406,\tbest estimator lgbm's best error=0.2374\n",
      "[flaml.automl: 12-03 19:20:09] {3166} INFO - iteration 42, current learner lgbm\n",
      "[flaml.automl: 12-03 19:20:10] {3349} INFO -  at 34.4s,\testimator lgbm's best error=0.2374,\tbest estimator lgbm's best error=0.2374\n",
      "[flaml.automl: 12-03 19:20:10] {3166} INFO - iteration 43, current learner xgboost\n",
      "[flaml.automl: 12-03 19:20:12] {3349} INFO -  at 36.2s,\testimator xgboost's best error=0.2377,\tbest estimator lgbm's best error=0.2374\n",
      "[flaml.automl: 12-03 19:20:12] {3166} INFO - iteration 44, current learner extra_tree\n",
      "[flaml.automl: 12-03 19:20:13] {3349} INFO -  at 37.4s,\testimator extra_tree's best error=0.2574,\tbest estimator lgbm's best error=0.2374\n",
      "[flaml.automl: 12-03 19:20:13] {3166} INFO - iteration 45, current learner xgboost\n",
      "[flaml.automl: 12-03 19:20:14] {3349} INFO -  at 38.0s,\testimator xgboost's best error=0.2377,\tbest estimator lgbm's best error=0.2374\n",
      "[flaml.automl: 12-03 19:20:14] {3166} INFO - iteration 46, current learner lgbm\n",
      "[flaml.automl: 12-03 19:20:14] {3349} INFO -  at 38.3s,\testimator lgbm's best error=0.2374,\tbest estimator lgbm's best error=0.2374\n",
      "[flaml.automl: 12-03 19:20:14] {3166} INFO - iteration 47, current learner xgboost\n",
      "[flaml.automl: 12-03 19:20:16] {3349} INFO -  at 40.2s,\testimator xgboost's best error=0.2377,\tbest estimator lgbm's best error=0.2374\n",
      "[flaml.automl: 12-03 19:20:16] {3166} INFO - iteration 48, current learner lgbm\n",
      "[flaml.automl: 12-03 19:20:17] {3349} INFO -  at 41.5s,\testimator lgbm's best error=0.2363,\tbest estimator lgbm's best error=0.2363\n",
      "[flaml.automl: 12-03 19:20:17] {3166} INFO - iteration 49, current learner lgbm\n",
      "[flaml.automl: 12-03 19:20:19] {3349} INFO -  at 43.2s,\testimator lgbm's best error=0.2362,\tbest estimator lgbm's best error=0.2362\n",
      "[flaml.automl: 12-03 19:20:19] {3166} INFO - iteration 50, current learner xgboost\n",
      "[flaml.automl: 12-03 19:20:20] {3349} INFO -  at 43.8s,\testimator xgboost's best error=0.2377,\tbest estimator lgbm's best error=0.2362\n",
      "[flaml.automl: 12-03 19:20:20] {3166} INFO - iteration 51, current learner lgbm\n",
      "[flaml.automl: 12-03 19:20:21] {3349} INFO -  at 45.2s,\testimator lgbm's best error=0.2362,\tbest estimator lgbm's best error=0.2362\n",
      "[flaml.automl: 12-03 19:20:21] {3166} INFO - iteration 52, current learner lgbm\n",
      "[flaml.automl: 12-03 19:20:23] {3349} INFO -  at 47.1s,\testimator lgbm's best error=0.2362,\tbest estimator lgbm's best error=0.2362\n",
      "[flaml.automl: 12-03 19:20:23] {3166} INFO - iteration 53, current learner lgbm\n",
      "[flaml.automl: 12-03 19:20:25] {3349} INFO -  at 49.0s,\testimator lgbm's best error=0.2362,\tbest estimator lgbm's best error=0.2362\n",
      "[flaml.automl: 12-03 19:20:25] {3166} INFO - iteration 54, current learner lgbm\n",
      "[flaml.automl: 12-03 19:20:27] {3349} INFO -  at 51.6s,\testimator lgbm's best error=0.2362,\tbest estimator lgbm's best error=0.2362\n",
      "[flaml.automl: 12-03 19:20:27] {3166} INFO - iteration 55, current learner catboost\n",
      "[flaml.automl: 12-03 19:20:29] {3349} INFO -  at 53.2s,\testimator catboost's best error=0.2374,\tbest estimator lgbm's best error=0.2362\n",
      "[flaml.automl: 12-03 19:20:29] {3166} INFO - iteration 56, current learner catboost\n",
      "[flaml.automl: 12-03 19:20:31] {3349} INFO -  at 55.0s,\testimator catboost's best error=0.2374,\tbest estimator lgbm's best error=0.2362\n",
      "[flaml.automl: 12-03 19:20:31] {3166} INFO - iteration 57, current learner catboost\n",
      "[flaml.automl: 12-03 19:20:32] {3349} INFO -  at 56.0s,\testimator catboost's best error=0.2374,\tbest estimator lgbm's best error=0.2362\n",
      "[flaml.automl: 12-03 19:20:32] {3166} INFO - iteration 58, current learner catboost\n",
      "[flaml.automl: 12-03 19:20:34] {3349} INFO -  at 57.7s,\testimator catboost's best error=0.2374,\tbest estimator lgbm's best error=0.2362\n",
      "[flaml.automl: 12-03 19:20:34] {3166} INFO - iteration 59, current learner catboost\n",
      "[flaml.automl: 12-03 19:20:34] {3349} INFO -  at 58.6s,\testimator catboost's best error=0.2374,\tbest estimator lgbm's best error=0.2362\n",
      "[flaml.automl: 12-03 19:20:34] {3166} INFO - iteration 60, current learner lgbm\n",
      "[flaml.automl: 12-03 19:20:36] {3349} INFO -  at 60.3s,\testimator lgbm's best error=0.2362,\tbest estimator lgbm's best error=0.2362\n",
      "[flaml.automl: 12-03 19:20:36] {3166} INFO - iteration 61, current learner catboost\n",
      "[flaml.automl: 12-03 19:20:52] {3349} INFO -  at 75.9s,\testimator catboost's best error=0.2374,\tbest estimator lgbm's best error=0.2362\n",
      "[flaml.automl: 12-03 19:20:52] {3166} INFO - iteration 62, current learner lgbm\n",
      "[flaml.automl: 12-03 19:20:56] {3349} INFO -  at 80.5s,\testimator lgbm's best error=0.2362,\tbest estimator lgbm's best error=0.2362\n",
      "[flaml.automl: 12-03 19:20:56] {3166} INFO - iteration 63, current learner xgboost\n",
      "[flaml.automl: 12-03 19:20:58] {3349} INFO -  at 81.9s,\testimator xgboost's best error=0.2377,\tbest estimator lgbm's best error=0.2362\n",
      "[flaml.automl: 12-03 19:20:58] {3166} INFO - iteration 64, current learner xgboost\n",
      "[flaml.automl: 12-03 19:20:58] {3349} INFO -  at 82.5s,\testimator xgboost's best error=0.2377,\tbest estimator lgbm's best error=0.2362\n",
      "[flaml.automl: 12-03 19:20:58] {3166} INFO - iteration 65, current learner lgbm\n",
      "[flaml.automl: 12-03 19:20:59] {3349} INFO -  at 83.3s,\testimator lgbm's best error=0.2362,\tbest estimator lgbm's best error=0.2362\n",
      "[flaml.automl: 12-03 19:20:59] {3166} INFO - iteration 66, current learner catboost\n",
      "[flaml.automl: 12-03 19:21:23] {3349} INFO -  at 107.7s,\testimator catboost's best error=0.2374,\tbest estimator lgbm's best error=0.2362\n",
      "[flaml.automl: 12-03 19:21:23] {3166} INFO - iteration 67, current learner xgboost\n",
      "[flaml.automl: 12-03 19:21:25] {3349} INFO -  at 109.5s,\testimator xgboost's best error=0.2360,\tbest estimator xgboost's best error=0.2360\n",
      "[flaml.automl: 12-03 19:21:25] {3166} INFO - iteration 68, current learner xgboost\n",
      "[flaml.automl: 12-03 19:21:26] {3349} INFO -  at 110.3s,\testimator xgboost's best error=0.2360,\tbest estimator xgboost's best error=0.2360\n",
      "[flaml.automl: 12-03 19:21:26] {3166} INFO - iteration 69, current learner rf\n",
      "[flaml.automl: 12-03 19:21:27] {3349} INFO -  at 111.6s,\testimator rf's best error=0.2602,\tbest estimator xgboost's best error=0.2360\n",
      "[flaml.automl: 12-03 19:21:27] {3166} INFO - iteration 70, current learner xgboost\n",
      "[flaml.automl: 12-03 19:21:35] {3349} INFO -  at 118.9s,\testimator xgboost's best error=0.2360,\tbest estimator xgboost's best error=0.2360\n",
      "[flaml.automl: 12-03 19:21:35] {3166} INFO - iteration 71, current learner xgboost\n",
      "[flaml.automl: 12-03 19:21:36] {3349} INFO -  at 120.3s,\testimator xgboost's best error=0.2360,\tbest estimator xgboost's best error=0.2360\n",
      "[flaml.automl: 12-03 19:21:36] {3166} INFO - iteration 72, current learner xgboost\n",
      "[flaml.automl: 12-03 19:21:39] {3349} INFO -  at 122.9s,\testimator xgboost's best error=0.2360,\tbest estimator xgboost's best error=0.2360\n",
      "[flaml.automl: 12-03 19:21:39] {3166} INFO - iteration 73, current learner extra_tree\n",
      "[flaml.automl: 12-03 19:21:40] {3349} INFO -  at 124.3s,\testimator extra_tree's best error=0.2574,\tbest estimator xgboost's best error=0.2360\n",
      "[flaml.automl: 12-03 19:21:40] {3166} INFO - iteration 74, current learner xgboost\n",
      "[flaml.automl: 12-03 19:21:41] {3349} INFO -  at 125.5s,\testimator xgboost's best error=0.2360,\tbest estimator xgboost's best error=0.2360\n",
      "[flaml.automl: 12-03 19:21:41] {3166} INFO - iteration 75, current learner xgboost\n",
      "[flaml.automl: 12-03 19:21:46] {3349} INFO -  at 129.7s,\testimator xgboost's best error=0.2360,\tbest estimator xgboost's best error=0.2360\n",
      "[flaml.automl: 12-03 19:21:46] {3166} INFO - iteration 76, current learner catboost\n",
      "[flaml.automl: 12-03 19:22:01] {3349} INFO -  at 144.7s,\testimator catboost's best error=0.2374,\tbest estimator xgboost's best error=0.2360\n",
      "[flaml.automl: 12-03 19:22:01] {3166} INFO - iteration 77, current learner catboost\n",
      "[flaml.automl: 12-03 19:22:18] {3349} INFO -  at 162.3s,\testimator catboost's best error=0.2374,\tbest estimator xgboost's best error=0.2360\n",
      "[flaml.automl: 12-03 19:22:18] {3166} INFO - iteration 78, current learner xgboost\n",
      "[flaml.automl: 12-03 19:22:19] {3349} INFO -  at 163.0s,\testimator xgboost's best error=0.2360,\tbest estimator xgboost's best error=0.2360\n",
      "[flaml.automl: 12-03 19:22:19] {3166} INFO - iteration 79, current learner xgboost\n",
      "[flaml.automl: 12-03 19:22:27] {3349} INFO -  at 171.1s,\testimator xgboost's best error=0.2360,\tbest estimator xgboost's best error=0.2360\n",
      "[flaml.automl: 12-03 19:22:27] {3166} INFO - iteration 80, current learner xgb_limitdepth\n",
      "[flaml.automl: 12-03 19:22:28] {3349} INFO -  at 172.3s,\testimator xgb_limitdepth's best error=0.2393,\tbest estimator xgboost's best error=0.2360\n",
      "[flaml.automl: 12-03 19:22:28] {3166} INFO - iteration 81, current learner xgb_limitdepth\n",
      "[flaml.automl: 12-03 19:22:29] {3349} INFO -  at 173.3s,\testimator xgb_limitdepth's best error=0.2393,\tbest estimator xgboost's best error=0.2360\n",
      "[flaml.automl: 12-03 19:22:29] {3166} INFO - iteration 82, current learner xgb_limitdepth\n",
      "[flaml.automl: 12-03 19:22:30] {3349} INFO -  at 174.6s,\testimator xgb_limitdepth's best error=0.2393,\tbest estimator xgboost's best error=0.2360\n",
      "[flaml.automl: 12-03 19:22:30] {3166} INFO - iteration 83, current learner xgb_limitdepth\n",
      "[flaml.automl: 12-03 19:22:31] {3349} INFO -  at 175.6s,\testimator xgb_limitdepth's best error=0.2393,\tbest estimator xgboost's best error=0.2360\n",
      "[flaml.automl: 12-03 19:22:31] {3166} INFO - iteration 84, current learner xgb_limitdepth\n",
      "[flaml.automl: 12-03 19:22:33] {3349} INFO -  at 176.9s,\testimator xgb_limitdepth's best error=0.2393,\tbest estimator xgboost's best error=0.2360\n",
      "[flaml.automl: 12-03 19:22:33] {3166} INFO - iteration 85, current learner xgb_limitdepth\n",
      "[flaml.automl: 12-03 19:22:33] {3349} INFO -  at 177.6s,\testimator xgb_limitdepth's best error=0.2393,\tbest estimator xgboost's best error=0.2360\n",
      "[flaml.automl: 12-03 19:22:33] {3166} INFO - iteration 86, current learner xgb_limitdepth\n",
      "[flaml.automl: 12-03 19:22:36] {3349} INFO -  at 180.2s,\testimator xgb_limitdepth's best error=0.2393,\tbest estimator xgboost's best error=0.2360\n",
      "[flaml.automl: 12-03 19:22:36] {3166} INFO - iteration 87, current learner xgb_limitdepth\n",
      "[flaml.automl: 12-03 19:22:37] {3349} INFO -  at 181.6s,\testimator xgb_limitdepth's best error=0.2393,\tbest estimator xgboost's best error=0.2360\n",
      "[flaml.automl: 12-03 19:22:37] {3166} INFO - iteration 88, current learner xgb_limitdepth\n",
      "[flaml.automl: 12-03 19:22:38] {3349} INFO -  at 182.4s,\testimator xgb_limitdepth's best error=0.2393,\tbest estimator xgboost's best error=0.2360\n",
      "[flaml.automl: 12-03 19:22:38] {3166} INFO - iteration 89, current learner extra_tree\n",
      "[flaml.automl: 12-03 19:22:40] {3349} INFO -  at 184.0s,\testimator extra_tree's best error=0.2499,\tbest estimator xgboost's best error=0.2360\n",
      "[flaml.automl: 12-03 19:22:40] {3166} INFO - iteration 90, current learner extra_tree\n",
      "[flaml.automl: 12-03 19:22:41] {3349} INFO -  at 185.4s,\testimator extra_tree's best error=0.2499,\tbest estimator xgboost's best error=0.2360\n",
      "[flaml.automl: 12-03 19:22:41] {3166} INFO - iteration 91, current learner xgb_limitdepth\n",
      "[flaml.automl: 12-03 19:22:43] {3349} INFO -  at 186.8s,\testimator xgb_limitdepth's best error=0.2393,\tbest estimator xgboost's best error=0.2360\n",
      "[flaml.automl: 12-03 19:22:43] {3166} INFO - iteration 92, current learner extra_tree\n",
      "[flaml.automl: 12-03 19:22:44] {3349} INFO -  at 188.3s,\testimator extra_tree's best error=0.2460,\tbest estimator xgboost's best error=0.2360\n",
      "[flaml.automl: 12-03 19:22:44] {3166} INFO - iteration 93, current learner xgb_limitdepth\n",
      "[flaml.automl: 12-03 19:22:45] {3349} INFO -  at 189.2s,\testimator xgb_limitdepth's best error=0.2393,\tbest estimator xgboost's best error=0.2360\n",
      "[flaml.automl: 12-03 19:22:45] {3166} INFO - iteration 94, current learner xgb_limitdepth\n",
      "[flaml.automl: 12-03 19:22:46] {3349} INFO -  at 190.0s,\testimator xgb_limitdepth's best error=0.2393,\tbest estimator xgboost's best error=0.2360\n",
      "[flaml.automl: 12-03 19:22:46] {3166} INFO - iteration 95, current learner extra_tree\n",
      "[flaml.automl: 12-03 19:22:47] {3349} INFO -  at 191.3s,\testimator extra_tree's best error=0.2460,\tbest estimator xgboost's best error=0.2360\n",
      "[flaml.automl: 12-03 19:22:47] {3166} INFO - iteration 96, current learner xgboost\n",
      "[flaml.automl: 12-03 19:22:49] {3349} INFO -  at 193.3s,\testimator xgboost's best error=0.2360,\tbest estimator xgboost's best error=0.2360\n",
      "[flaml.automl: 12-03 19:22:49] {3166} INFO - iteration 97, current learner xgb_limitdepth\n",
      "[flaml.automl: 12-03 19:22:51] {3349} INFO -  at 195.2s,\testimator xgb_limitdepth's best error=0.2369,\tbest estimator xgboost's best error=0.2360\n",
      "[flaml.automl: 12-03 19:22:51] {3166} INFO - iteration 98, current learner extra_tree\n",
      "[flaml.automl: 12-03 19:22:53] {3349} INFO -  at 197.5s,\testimator extra_tree's best error=0.2460,\tbest estimator xgboost's best error=0.2360\n",
      "[flaml.automl: 12-03 19:22:53] {3166} INFO - iteration 99, current learner xgb_limitdepth\n",
      "[flaml.automl: 12-03 19:22:54] {3349} INFO -  at 198.4s,\testimator xgb_limitdepth's best error=0.2369,\tbest estimator xgboost's best error=0.2360\n",
      "[flaml.automl: 12-03 19:22:54] {3166} INFO - iteration 100, current learner extra_tree\n",
      "[flaml.automl: 12-03 19:22:56] {3349} INFO -  at 200.0s,\testimator extra_tree's best error=0.2460,\tbest estimator xgboost's best error=0.2360\n",
      "[flaml.automl: 12-03 19:22:56] {3166} INFO - iteration 101, current learner xgboost\n",
      "[flaml.automl: 12-03 19:22:58] {3349} INFO -  at 202.4s,\testimator xgboost's best error=0.2360,\tbest estimator xgboost's best error=0.2360\n",
      "[flaml.automl: 12-03 19:22:58] {3166} INFO - iteration 102, current learner xgb_limitdepth\n",
      "[flaml.automl: 12-03 19:23:02] {3349} INFO -  at 206.3s,\testimator xgb_limitdepth's best error=0.2366,\tbest estimator xgboost's best error=0.2360\n",
      "[flaml.automl: 12-03 19:23:02] {3166} INFO - iteration 103, current learner extra_tree\n",
      "[flaml.automl: 12-03 19:23:04] {3349} INFO -  at 207.9s,\testimator extra_tree's best error=0.2460,\tbest estimator xgboost's best error=0.2360\n",
      "[flaml.automl: 12-03 19:23:04] {3166} INFO - iteration 104, current learner lgbm\n",
      "[flaml.automl: 12-03 19:23:05] {3349} INFO -  at 208.8s,\testimator lgbm's best error=0.2362,\tbest estimator xgboost's best error=0.2360\n",
      "[flaml.automl: 12-03 19:23:05] {3166} INFO - iteration 105, current learner extra_tree\n",
      "[flaml.automl: 12-03 19:23:06] {3349} INFO -  at 210.1s,\testimator extra_tree's best error=0.2460,\tbest estimator xgboost's best error=0.2360\n",
      "[flaml.automl: 12-03 19:23:06] {3166} INFO - iteration 106, current learner xgboost\n",
      "[flaml.automl: 12-03 19:23:07] {3349} INFO -  at 210.8s,\testimator xgboost's best error=0.2360,\tbest estimator xgboost's best error=0.2360\n",
      "[flaml.automl: 12-03 19:23:07] {3166} INFO - iteration 107, current learner extra_tree\n",
      "[flaml.automl: 12-03 19:23:09] {3349} INFO -  at 212.7s,\testimator extra_tree's best error=0.2460,\tbest estimator xgboost's best error=0.2360\n",
      "[flaml.automl: 12-03 19:23:09] {3166} INFO - iteration 108, current learner xgb_limitdepth\n",
      "[flaml.automl: 12-03 19:23:11] {3349} INFO -  at 215.0s,\testimator xgb_limitdepth's best error=0.2366,\tbest estimator xgboost's best error=0.2360\n",
      "[flaml.automl: 12-03 19:23:11] {3166} INFO - iteration 109, current learner xgboost\n",
      "[flaml.automl: 12-03 19:23:18] {3349} INFO -  at 222.1s,\testimator xgboost's best error=0.2360,\tbest estimator xgboost's best error=0.2360\n",
      "[flaml.automl: 12-03 19:23:18] {3166} INFO - iteration 110, current learner xgb_limitdepth\n",
      "[flaml.automl: 12-03 19:23:26] {3349} INFO -  at 230.3s,\testimator xgb_limitdepth's best error=0.2366,\tbest estimator xgboost's best error=0.2360\n",
      "[flaml.automl: 12-03 19:23:26] {3166} INFO - iteration 111, current learner extra_tree\n",
      "[flaml.automl: 12-03 19:23:28] {3349} INFO -  at 232.1s,\testimator extra_tree's best error=0.2459,\tbest estimator xgboost's best error=0.2360\n",
      "[flaml.automl: 12-03 19:23:28] {3166} INFO - iteration 112, current learner lgbm\n",
      "[flaml.automl: 12-03 19:23:32] {3349} INFO -  at 235.9s,\testimator lgbm's best error=0.2362,\tbest estimator xgboost's best error=0.2360\n",
      "[flaml.automl: 12-03 19:23:32] {3166} INFO - iteration 113, current learner xgb_limitdepth\n",
      "[flaml.automl: 12-03 19:23:34] {3349} INFO -  at 237.8s,\testimator xgb_limitdepth's best error=0.2366,\tbest estimator xgboost's best error=0.2360\n",
      "[flaml.automl: 12-03 19:23:34] {3166} INFO - iteration 114, current learner xgboost\n",
      "[flaml.automl: 12-03 19:23:36] {3349} INFO -  at 240.4s,\testimator xgboost's best error=0.2360,\tbest estimator xgboost's best error=0.2360\n",
      "[flaml.automl: 12-03 19:23:36] {3166} INFO - iteration 115, current learner xgb_limitdepth\n",
      "[flaml.automl: 12-03 19:23:46] {3349} INFO -  at 250.4s,\testimator xgb_limitdepth's best error=0.2366,\tbest estimator xgboost's best error=0.2360\n",
      "[flaml.automl: 12-03 19:23:46] {3166} INFO - iteration 116, current learner catboost\n",
      "[flaml.automl: 12-03 19:24:12] {3349} INFO -  at 276.6s,\testimator catboost's best error=0.2374,\tbest estimator xgboost's best error=0.2360\n",
      "[flaml.automl: 12-03 19:24:12] {3166} INFO - iteration 117, current learner catboost\n",
      "[flaml.automl: 12-03 19:24:24] {3349} INFO -  at 288.6s,\testimator catboost's best error=0.2374,\tbest estimator xgboost's best error=0.2360\n",
      "[flaml.automl: 12-03 19:24:24] {3166} INFO - iteration 118, current learner xgb_limitdepth\n",
      "[flaml.automl: 12-03 19:24:26] {3349} INFO -  at 289.9s,\testimator xgb_limitdepth's best error=0.2366,\tbest estimator xgboost's best error=0.2360\n",
      "[flaml.automl: 12-03 19:24:26] {3166} INFO - iteration 119, current learner xgboost\n",
      "[flaml.automl: 12-03 19:24:27] {3349} INFO -  at 291.6s,\testimator xgboost's best error=0.2360,\tbest estimator xgboost's best error=0.2360\n",
      "[flaml.automl: 12-03 19:24:27] {3166} INFO - iteration 120, current learner lgbm\n",
      "[flaml.automl: 12-03 19:24:29] {3349} INFO -  at 292.7s,\testimator lgbm's best error=0.2362,\tbest estimator xgboost's best error=0.2360\n",
      "[flaml.automl: 12-03 19:24:29] {3166} INFO - iteration 121, current learner xgboost\n",
      "[flaml.automl: 12-03 19:24:32] {3349} INFO -  at 295.8s,\testimator xgboost's best error=0.2355,\tbest estimator xgboost's best error=0.2355\n",
      "[flaml.automl: 12-03 19:24:32] {3166} INFO - iteration 122, current learner xgboost\n",
      "[flaml.automl: 12-03 19:24:33] {3349} INFO -  at 297.6s,\testimator xgboost's best error=0.2355,\tbest estimator xgboost's best error=0.2355\n",
      "[flaml.automl: 12-03 19:24:33] {3166} INFO - iteration 123, current learner lrl1\n",
      "[flaml.automl: 12-03 19:24:36] {3349} INFO -  at 300.3s,\testimator lrl1's best error=0.2463,\tbest estimator xgboost's best error=0.2355\n",
      "[flaml.automl: 12-03 19:24:37] {3604} INFO - retrain xgboost for 0.7s\n",
      "[flaml.automl: 12-03 19:24:37] {3609} INFO - retrained model: XGBClassifier(base_score=0.5, booster='gbtree', callbacks=[],\n",
      "              colsample_bylevel=0.8338434007513006, colsample_bynode=1,\n",
      "              colsample_bytree=0.7377857945978481, early_stopping_rounds=None,\n",
      "              enable_categorical=False, eval_metric=None, gamma=0, gpu_id=-1,\n",
      "              grow_policy='lossguide', importance_type=None,\n",
      "              interaction_constraints='', learning_rate=0.056057349376686424,\n",
      "              max_bin=256, max_cat_to_onehot=4, max_delta_step=0, max_depth=0,\n",
      "              max_leaves=22, min_child_weight=13.017567406702602, missing=nan,\n",
      "              monotone_constraints='()', n_estimators=95, n_jobs=-1,\n",
      "              num_parallel_tree=1, predictor='auto', random_state=0,\n",
      "              reg_alpha=0.004473635521006217, reg_lambda=0.15851678308484152, ...)\n",
      "[flaml.automl: 12-03 19:24:37] {2901} INFO - fit succeeded\n",
      "[flaml.automl: 12-03 19:24:37] {2903} INFO - Time taken to find the best model: 295.76472878456116\n",
      "[flaml.automl: 12-03 19:24:37] {2917} WARNING - Time taken to find the best model is 99% of the provided time budget and not all estimators' hyperparameter search converged. Consider increasing the time budget.\n"
     ]
    }
   ],
   "source": [
    "automl.fit(x_train, y_train, task=\"classification\",metric='roc_auc',time_budget=300)"
   ]
  },
  {
   "cell_type": "code",
   "execution_count": 78,
   "id": "67e55955",
   "metadata": {
    "execution": {
     "iopub.execute_input": "2022-12-03T19:24:37.478795Z",
     "iopub.status.busy": "2022-12-03T19:24:37.477659Z",
     "iopub.status.idle": "2022-12-03T19:24:37.483593Z",
     "shell.execute_reply": "2022-12-03T19:24:37.482754Z"
    },
    "papermill": {
     "duration": 0.0627,
     "end_time": "2022-12-03T19:24:37.485922",
     "exception": false,
     "start_time": "2022-12-03T19:24:37.423222",
     "status": "completed"
    },
    "tags": []
   },
   "outputs": [],
   "source": [
    "from sklearn.model_selection import KFold, cross_val_score\n",
    "from sklearn.metrics import accuracy_score, precision_score, recall_score, f1_score\n",
    "from sklearn import metrics\n",
    "from sklearn.model_selection import train_test_split \n",
    "import xgboost as xgb \n",
    "from xgboost import cv"
   ]
  },
  {
   "cell_type": "code",
   "execution_count": 79,
   "id": "c6951b27",
   "metadata": {
    "execution": {
     "iopub.execute_input": "2022-12-03T19:24:37.592530Z",
     "iopub.status.busy": "2022-12-03T19:24:37.592133Z",
     "iopub.status.idle": "2022-12-03T19:24:37.605417Z",
     "shell.execute_reply": "2022-12-03T19:24:37.604445Z"
    },
    "papermill": {
     "duration": 0.068718,
     "end_time": "2022-12-03T19:24:37.607954",
     "exception": false,
     "start_time": "2022-12-03T19:24:37.539236",
     "status": "completed"
    },
    "tags": []
   },
   "outputs": [],
   "source": [
    "'''import xgboost as xgb\n",
    "from sklearn.model_selection import train_test_split\n",
    "from xgboost import XGBClassifier, XGBRegressor'''\n",
    "x_train,x_test,y_train,y_test=train_test_split(x,y,test_size=0.15, random_state=0)"
   ]
  },
  {
   "cell_type": "code",
   "execution_count": 80,
   "id": "308bc248",
   "metadata": {
    "execution": {
     "iopub.execute_input": "2022-12-03T19:24:37.715657Z",
     "iopub.status.busy": "2022-12-03T19:24:37.715008Z",
     "iopub.status.idle": "2022-12-03T19:24:37.721236Z",
     "shell.execute_reply": "2022-12-03T19:24:37.720256Z"
    },
    "papermill": {
     "duration": 0.060887,
     "end_time": "2022-12-03T19:24:37.723305",
     "exception": false,
     "start_time": "2022-12-03T19:24:37.662418",
     "status": "completed"
    },
    "tags": []
   },
   "outputs": [
    {
     "data": {
      "text/plain": [
       "\"from sklearn.model_selection import GridSearchCV\\nparam_grid = {\\n    'n_estimators': [300, 400],\\n    'learning_rate' : [0.03, 0.06, 0.1, 0.3],\\n    'reg_alpha' : range(2, 7, 2),\\n    #'reg_lambda' : [0.1, 0.2, 0.3, 0.4, 0.5],\\n    'max_depth' : [3, 4],\\n    #'min_child_weight' : range(1, 6),\\n    'subsample' : [0.8, 0.9]    \\n}\\n\\nCV_xgb = GridSearchCV(estimator=xgb.XGBClassifier(), param_grid=param_grid, cv= 5)\\nCV_xgb.fit(x, y)\\nprint(CV_xgb.best_params_)\""
      ]
     },
     "execution_count": 80,
     "metadata": {},
     "output_type": "execute_result"
    }
   ],
   "source": [
    "'''from sklearn.model_selection import GridSearchCV\n",
    "param_grid = {\n",
    "    'n_estimators': [300, 400],\n",
    "    'learning_rate' : [0.03, 0.06, 0.1, 0.3],\n",
    "    'reg_alpha' : range(2, 7, 2),\n",
    "    #'reg_lambda' : [0.1, 0.2, 0.3, 0.4, 0.5],\n",
    "    'max_depth' : [3, 4],\n",
    "    #'min_child_weight' : range(1, 6),\n",
    "    'subsample' : [0.8, 0.9]    \n",
    "}\n",
    "\n",
    "CV_xgb = GridSearchCV(estimator=xgb.XGBClassifier(), param_grid=param_grid, cv= 5)\n",
    "CV_xgb.fit(x, y)\n",
    "print(CV_xgb.best_params_)'''\n"
   ]
  },
  {
   "cell_type": "code",
   "execution_count": 81,
   "id": "245ad51a",
   "metadata": {
    "execution": {
     "iopub.execute_input": "2022-12-03T19:24:37.829770Z",
     "iopub.status.busy": "2022-12-03T19:24:37.829093Z",
     "iopub.status.idle": "2022-12-03T19:24:38.986265Z",
     "shell.execute_reply": "2022-12-03T19:24:38.985388Z"
    },
    "papermill": {
     "duration": 1.215476,
     "end_time": "2022-12-03T19:24:38.989960",
     "exception": false,
     "start_time": "2022-12-03T19:24:37.774484",
     "status": "completed"
    },
    "tags": []
   },
   "outputs": [
    {
     "name": "stdout",
     "output_type": "stream",
     "text": [
      "XGBoost Training time:  1.130768  seconds\n",
      "accuracy is % 70.0\n",
      "precision is % 80.0\n",
      "recall is % 70.0\n",
      "f1 is % 75.0\n"
     ]
    }
   ],
   "source": [
    "from datetime import datetime\n",
    "\n",
    "model = xgb.XGBClassifier(n_estimators = 95,\n",
    "                            max_leaves= 22,\n",
    "                            learning_rate =  0.056057349376686424,\n",
    "                            objective = 'binary:logistic',\n",
    "                            min_split_loss = 0.05,\n",
    "                            colsample_bylevel= 0.8338434007513006,\n",
    "                            max_depth = 4,\n",
    "                            reg_alpha = 0.004473635521006217,\n",
    "                            reg_lambda =  0.15851678308484152,\n",
    "                            subsample =0.9442946098381059,\n",
    "                            min_child_weight = 13.017567406702602,\n",
    "                            colsample_bytree =  0.7377857945978481,\n",
    "                            gamma = 5,\n",
    "                            random_state = 50)\n",
    "\"\"\"model = RandomForestClassifier(n_estimators = 300,\n",
    "                               criterion = 'entropy',\n",
    "                               max_depth = 3,\n",
    "                               random_state = 0)\"\"\"\n",
    "\n",
    "start = datetime.now()\n",
    "model.fit(x_train, y_train)\n",
    "predict_test = model.predict(x_test)\n",
    "end = datetime.now()\n",
    "\n",
    "print('XGBoost Training time: ', (end-start).total_seconds(), ' seconds')\n",
    "print(\"accuracy is %\", round(accuracy_score(predict_test, y_test), 2)*100)\n",
    "print(\"precision is %\", round(precision_score(predict_test, y_test), 2)*100)\n",
    "print(\"recall is %\", round(recall_score(predict_test, y_test), 2)*100)\n",
    "print(\"f1 is %\", round(f1_score(predict_test, y_test), 2)*100)"
   ]
  },
  {
   "cell_type": "code",
   "execution_count": 82,
   "id": "52df22b4",
   "metadata": {
    "execution": {
     "iopub.execute_input": "2022-12-03T19:24:39.094358Z",
     "iopub.status.busy": "2022-12-03T19:24:39.093722Z",
     "iopub.status.idle": "2022-12-03T19:24:39.097713Z",
     "shell.execute_reply": "2022-12-03T19:24:39.096748Z"
    },
    "papermill": {
     "duration": 0.058288,
     "end_time": "2022-12-03T19:24:39.099827",
     "exception": false,
     "start_time": "2022-12-03T19:24:39.041539",
     "status": "completed"
    },
    "tags": []
   },
   "outputs": [],
   "source": [
    "#pred.shape"
   ]
  },
  {
   "cell_type": "code",
   "execution_count": 83,
   "id": "4c81ff2d",
   "metadata": {
    "execution": {
     "iopub.execute_input": "2022-12-03T19:24:39.203190Z",
     "iopub.status.busy": "2022-12-03T19:24:39.202487Z",
     "iopub.status.idle": "2022-12-03T19:24:39.208389Z",
     "shell.execute_reply": "2022-12-03T19:24:39.207628Z"
    },
    "papermill": {
     "duration": 0.061154,
     "end_time": "2022-12-03T19:24:39.211582",
     "exception": false,
     "start_time": "2022-12-03T19:24:39.150428",
     "status": "completed"
    },
    "tags": []
   },
   "outputs": [
    {
     "name": "stdout",
     "output_type": "stream",
     "text": [
      "Best ML leaner: xgboost\n",
      "Best hyperparmeter config: {'n_estimators': 95, 'max_leaves': 22, 'min_child_weight': 13.017567406702602, 'learning_rate': 0.056057349376686424, 'subsample': 0.9442946098381059, 'colsample_bylevel': 0.8338434007513006, 'colsample_bytree': 0.7377857945978481, 'reg_alpha': 0.004473635521006217, 'reg_lambda': 0.15851678308484152}\n",
      "Best roc_auc on validation data: 0.7645\n",
      "Training duration of best run: 0.729 s\n"
     ]
    }
   ],
   "source": [
    "print('Best ML leaner:', automl.best_estimator)\n",
    "print('Best hyperparmeter config:', automl.best_config)\n",
    "print('Best roc_auc on validation data: {0:.4g}'.format(1-automl.best_loss))\n",
    "print('Training duration of best run: {0:.4g} s'.format(automl.best_config_train_time))"
   ]
  },
  {
   "cell_type": "code",
   "execution_count": 84,
   "id": "58bf6d21",
   "metadata": {
    "execution": {
     "iopub.execute_input": "2022-12-03T19:24:39.317072Z",
     "iopub.status.busy": "2022-12-03T19:24:39.316252Z",
     "iopub.status.idle": "2022-12-03T19:24:39.323281Z",
     "shell.execute_reply": "2022-12-03T19:24:39.322214Z"
    },
    "papermill": {
     "duration": 0.062802,
     "end_time": "2022-12-03T19:24:39.325800",
     "exception": false,
     "start_time": "2022-12-03T19:24:39.262998",
     "status": "completed"
    },
    "tags": []
   },
   "outputs": [
    {
     "data": {
      "text/plain": [
       "\"Best ML leaner: xgboost\\nBest hyperparmeter config: {'n_estimators': 95, 'max_leaves': 22, 'min_child_weight': 13.017567406702602, 'learning_rate': 0.056057349376686424, 'subsample': 0.9442946098381059, 'colsample_bylevel': 0.8338434007513006, 'colsample_bytree': 0.7377857945978481, 'reg_alpha': 0.004473635521006217, 'reg_lambda': 0.15851678308484152}\\nBest roc_auc on validation data: 0.7645\\nTraining duration of best run: 0.7496 s\""
      ]
     },
     "execution_count": 84,
     "metadata": {},
     "output_type": "execute_result"
    }
   ],
   "source": [
    "'''Best ML leaner: xgboost\n",
    "Best hyperparmeter config: {'n_estimators': 95, 'max_leaves': 22, 'min_child_weight': 13.017567406702602, 'learning_rate': 0.056057349376686424, 'subsample': 0.9442946098381059, 'colsample_bylevel': 0.8338434007513006, 'colsample_bytree': 0.7377857945978481, 'reg_alpha': 0.004473635521006217, 'reg_lambda': 0.15851678308484152}\n",
    "Best roc_auc on validation data: 0.7645\n",
    "Training duration of best run: 0.7496 s'''"
   ]
  },
  {
   "cell_type": "code",
   "execution_count": 85,
   "id": "bf78be1d",
   "metadata": {
    "execution": {
     "iopub.execute_input": "2022-12-03T19:24:39.431171Z",
     "iopub.status.busy": "2022-12-03T19:24:39.430436Z",
     "iopub.status.idle": "2022-12-03T19:24:39.615277Z",
     "shell.execute_reply": "2022-12-03T19:24:39.614362Z"
    },
    "papermill": {
     "duration": 0.240846,
     "end_time": "2022-12-03T19:24:39.617536",
     "exception": false,
     "start_time": "2022-12-03T19:24:39.376690",
     "status": "completed"
    },
    "tags": []
   },
   "outputs": [
    {
     "name": "stdout",
     "output_type": "stream",
     "text": [
      "              precision    recall  f1-score   support\n",
      "\n",
      "         0.0       0.69      0.57      0.63     16490\n",
      "         1.0       0.72      0.81      0.76     22321\n",
      "\n",
      "    accuracy                           0.71     38811\n",
      "   macro avg       0.71      0.69      0.69     38811\n",
      "weighted avg       0.71      0.71      0.70     38811\n",
      "\n"
     ]
    }
   ],
   "source": [
    "from sklearn.metrics import classification_report\n",
    "print(classification_report(y_train, automl.predict(x_train)))"
   ]
  },
  {
   "cell_type": "code",
   "execution_count": 86,
   "id": "975c37d4",
   "metadata": {
    "execution": {
     "iopub.execute_input": "2022-12-03T19:24:39.724024Z",
     "iopub.status.busy": "2022-12-03T19:24:39.723367Z",
     "iopub.status.idle": "2022-12-03T19:24:39.773531Z",
     "shell.execute_reply": "2022-12-03T19:24:39.772105Z"
    },
    "papermill": {
     "duration": 0.107047,
     "end_time": "2022-12-03T19:24:39.776158",
     "exception": false,
     "start_time": "2022-12-03T19:24:39.669111",
     "status": "completed"
    },
    "tags": []
   },
   "outputs": [
    {
     "name": "stdout",
     "output_type": "stream",
     "text": [
      "              precision    recall  f1-score   support\n",
      "\n",
      "         0.0       0.68      0.56      0.61      2958\n",
      "         1.0       0.70      0.80      0.75      3891\n",
      "\n",
      "    accuracy                           0.69      6849\n",
      "   macro avg       0.69      0.68      0.68      6849\n",
      "weighted avg       0.69      0.69      0.69      6849\n",
      "\n"
     ]
    }
   ],
   "source": [
    "print(classification_report(y_test, automl.predict(x_test)))"
   ]
  },
  {
   "cell_type": "code",
   "execution_count": 87,
   "id": "6b1e137d",
   "metadata": {
    "execution": {
     "iopub.execute_input": "2022-12-03T19:24:39.882826Z",
     "iopub.status.busy": "2022-12-03T19:24:39.882417Z",
     "iopub.status.idle": "2022-12-03T19:24:39.903197Z",
     "shell.execute_reply": "2022-12-03T19:24:39.902140Z"
    },
    "papermill": {
     "duration": 0.076528,
     "end_time": "2022-12-03T19:24:39.905935",
     "exception": false,
     "start_time": "2022-12-03T19:24:39.829407",
     "status": "completed"
    },
    "tags": []
   },
   "outputs": [],
   "source": [
    "id = pd.read_csv(\"../input/diabetes-prediction-competitiontfug-chd-nov-2022/sample_submission.csv\")"
   ]
  },
  {
   "cell_type": "code",
   "execution_count": 88,
   "id": "330dbdd0",
   "metadata": {
    "execution": {
     "iopub.execute_input": "2022-12-03T19:24:40.009953Z",
     "iopub.status.busy": "2022-12-03T19:24:40.009525Z",
     "iopub.status.idle": "2022-12-03T19:24:40.014142Z",
     "shell.execute_reply": "2022-12-03T19:24:40.013372Z"
    },
    "papermill": {
     "duration": 0.059156,
     "end_time": "2022-12-03T19:24:40.016320",
     "exception": false,
     "start_time": "2022-12-03T19:24:39.957164",
     "status": "completed"
    },
    "tags": []
   },
   "outputs": [],
   "source": [
    "Id=id['id']"
   ]
  },
  {
   "cell_type": "code",
   "execution_count": 89,
   "id": "601ab49c",
   "metadata": {
    "execution": {
     "iopub.execute_input": "2022-12-03T19:24:40.121064Z",
     "iopub.status.busy": "2022-12-03T19:24:40.120425Z",
     "iopub.status.idle": "2022-12-03T19:24:40.168174Z",
     "shell.execute_reply": "2022-12-03T19:24:40.167105Z"
    },
    "papermill": {
     "duration": 0.103934,
     "end_time": "2022-12-03T19:24:40.170914",
     "exception": false,
     "start_time": "2022-12-03T19:24:40.066980",
     "status": "completed"
    },
    "tags": []
   },
   "outputs": [],
   "source": [
    "pred=automl.predict(cor_test)"
   ]
  },
  {
   "cell_type": "code",
   "execution_count": 90,
   "id": "dca3ab30",
   "metadata": {
    "execution": {
     "iopub.execute_input": "2022-12-03T19:24:40.358112Z",
     "iopub.status.busy": "2022-12-03T19:24:40.357677Z",
     "iopub.status.idle": "2022-12-03T19:24:40.365347Z",
     "shell.execute_reply": "2022-12-03T19:24:40.364245Z"
    },
    "papermill": {
     "duration": 0.062673,
     "end_time": "2022-12-03T19:24:40.367467",
     "exception": false,
     "start_time": "2022-12-03T19:24:40.304794",
     "status": "completed"
    },
    "tags": []
   },
   "outputs": [
    {
     "data": {
      "text/plain": [
       "array([1., 1., 1., ..., 1., 0., 0.])"
      ]
     },
     "execution_count": 90,
     "metadata": {},
     "output_type": "execute_result"
    }
   ],
   "source": [
    "pred"
   ]
  },
  {
   "cell_type": "code",
   "execution_count": 91,
   "id": "250a3c56",
   "metadata": {
    "execution": {
     "iopub.execute_input": "2022-12-03T19:24:40.472969Z",
     "iopub.status.busy": "2022-12-03T19:24:40.471593Z",
     "iopub.status.idle": "2022-12-03T19:24:40.478458Z",
     "shell.execute_reply": "2022-12-03T19:24:40.477448Z"
    },
    "papermill": {
     "duration": 0.062607,
     "end_time": "2022-12-03T19:24:40.480958",
     "exception": false,
     "start_time": "2022-12-03T19:24:40.418351",
     "status": "completed"
    },
    "tags": []
   },
   "outputs": [],
   "source": [
    "pd_sb=pd.DataFrame({\"id\":Id,'Diabetes':pred})"
   ]
  },
  {
   "cell_type": "code",
   "execution_count": 92,
   "id": "f9bc6a5d",
   "metadata": {
    "execution": {
     "iopub.execute_input": "2022-12-03T19:24:40.589510Z",
     "iopub.status.busy": "2022-12-03T19:24:40.588322Z",
     "iopub.status.idle": "2022-12-03T19:24:40.600730Z",
     "shell.execute_reply": "2022-12-03T19:24:40.599838Z"
    },
    "papermill": {
     "duration": 0.069418,
     "end_time": "2022-12-03T19:24:40.603027",
     "exception": false,
     "start_time": "2022-12-03T19:24:40.533609",
     "status": "completed"
    },
    "tags": []
   },
   "outputs": [
    {
     "data": {
      "text/html": [
       "<div>\n",
       "<style scoped>\n",
       "    .dataframe tbody tr th:only-of-type {\n",
       "        vertical-align: middle;\n",
       "    }\n",
       "\n",
       "    .dataframe tbody tr th {\n",
       "        vertical-align: top;\n",
       "    }\n",
       "\n",
       "    .dataframe thead th {\n",
       "        text-align: right;\n",
       "    }\n",
       "</style>\n",
       "<table border=\"1\" class=\"dataframe\">\n",
       "  <thead>\n",
       "    <tr style=\"text-align: right;\">\n",
       "      <th></th>\n",
       "      <th>id</th>\n",
       "      <th>Diabetes</th>\n",
       "    </tr>\n",
       "  </thead>\n",
       "  <tbody>\n",
       "    <tr>\n",
       "      <th>0</th>\n",
       "      <td>0</td>\n",
       "      <td>1.0</td>\n",
       "    </tr>\n",
       "    <tr>\n",
       "      <th>1</th>\n",
       "      <td>1</td>\n",
       "      <td>1.0</td>\n",
       "    </tr>\n",
       "    <tr>\n",
       "      <th>2</th>\n",
       "      <td>2</td>\n",
       "      <td>1.0</td>\n",
       "    </tr>\n",
       "    <tr>\n",
       "      <th>3</th>\n",
       "      <td>3</td>\n",
       "      <td>0.0</td>\n",
       "    </tr>\n",
       "    <tr>\n",
       "      <th>4</th>\n",
       "      <td>4</td>\n",
       "      <td>0.0</td>\n",
       "    </tr>\n",
       "    <tr>\n",
       "      <th>5</th>\n",
       "      <td>5</td>\n",
       "      <td>0.0</td>\n",
       "    </tr>\n",
       "    <tr>\n",
       "      <th>6</th>\n",
       "      <td>6</td>\n",
       "      <td>1.0</td>\n",
       "    </tr>\n",
       "    <tr>\n",
       "      <th>7</th>\n",
       "      <td>7</td>\n",
       "      <td>1.0</td>\n",
       "    </tr>\n",
       "    <tr>\n",
       "      <th>8</th>\n",
       "      <td>8</td>\n",
       "      <td>0.0</td>\n",
       "    </tr>\n",
       "    <tr>\n",
       "      <th>9</th>\n",
       "      <td>9</td>\n",
       "      <td>0.0</td>\n",
       "    </tr>\n",
       "  </tbody>\n",
       "</table>\n",
       "</div>"
      ],
      "text/plain": [
       "   id  Diabetes\n",
       "0   0       1.0\n",
       "1   1       1.0\n",
       "2   2       1.0\n",
       "3   3       0.0\n",
       "4   4       0.0\n",
       "5   5       0.0\n",
       "6   6       1.0\n",
       "7   7       1.0\n",
       "8   8       0.0\n",
       "9   9       0.0"
      ]
     },
     "execution_count": 92,
     "metadata": {},
     "output_type": "execute_result"
    }
   ],
   "source": [
    "pd_sb.head(10)"
   ]
  },
  {
   "cell_type": "code",
   "execution_count": 93,
   "id": "665a2d60",
   "metadata": {
    "execution": {
     "iopub.execute_input": "2022-12-03T19:24:40.708824Z",
     "iopub.status.busy": "2022-12-03T19:24:40.708434Z",
     "iopub.status.idle": "2022-12-03T19:24:40.717827Z",
     "shell.execute_reply": "2022-12-03T19:24:40.716723Z"
    },
    "papermill": {
     "duration": 0.064955,
     "end_time": "2022-12-03T19:24:40.720390",
     "exception": false,
     "start_time": "2022-12-03T19:24:40.655435",
     "status": "completed"
    },
    "tags": []
   },
   "outputs": [
    {
     "data": {
      "text/plain": [
       "1.0    10256\n",
       "0.0     9744\n",
       "Name: Diabetes, dtype: int64"
      ]
     },
     "execution_count": 93,
     "metadata": {},
     "output_type": "execute_result"
    }
   ],
   "source": [
    "pd_sb['Diabetes'].value_counts()"
   ]
  },
  {
   "cell_type": "code",
   "execution_count": 94,
   "id": "764c8b34",
   "metadata": {
    "execution": {
     "iopub.execute_input": "2022-12-03T19:24:40.827226Z",
     "iopub.status.busy": "2022-12-03T19:24:40.826766Z",
     "iopub.status.idle": "2022-12-03T19:24:41.101641Z",
     "shell.execute_reply": "2022-12-03T19:24:41.100256Z"
    },
    "papermill": {
     "duration": 0.331522,
     "end_time": "2022-12-03T19:24:41.104397",
     "exception": false,
     "start_time": "2022-12-03T19:24:40.772875",
     "status": "completed"
    },
    "tags": []
   },
   "outputs": [
    {
     "data": {
      "text/plain": [
       "([<matplotlib.patches.Wedge at 0x7f21bd740d90>,\n",
       "  <matplotlib.patches.Wedge at 0x7f21bd74fb90>],\n",
       " [Text(-0.25366107476179733, 1.0703532403607185, 'non-Diabetic'),\n",
       "  Text(0.25366107476179695, -1.0703532403607185, 'Diabetic')],\n",
       " [Text(-0.13836058623370762, 0.5838290401967555, '57.41'),\n",
       "  Text(0.13836058623370742, -0.5838290401967555, '42.59')])"
      ]
     },
     "execution_count": 94,
     "metadata": {},
     "output_type": "execute_result"
    },
    {
     "data": {
      "image/png": "[encoded data removed]",
      "text/plain": [
       "<Figure size 576x576 with 2 Axes>"
      ]
     },
     "metadata": {
      "needs_background": "light"
     },
     "output_type": "display_data"
    }
   ],
   "source": [
    "warnings.filterwarnings('ignore')\n",
    "\n",
    "figure1, plot1 = plt.subplots(1,2,figsize=(8,8))\n",
    "\n",
    "sns.countplot(pd_sb['Diabetes'],ax=plot1[0])\n",
    "\n",
    "\n",
    "#checking diabetic and non diabetic pepoles average by pie \n",
    "\n",
    "labels=[\"non-Diabetic\",\"Diabetic\"]\n",
    "\n",
    "plt.pie(df[\"Diabetes\"].value_counts() , labels =labels ,autopct='%.02f' )"
   ]
  },
  {
   "cell_type": "code",
   "execution_count": 95,
   "id": "8edd00af",
   "metadata": {
    "execution": {
     "iopub.execute_input": "2022-12-03T19:24:41.213573Z",
     "iopub.status.busy": "2022-12-03T19:24:41.213182Z",
     "iopub.status.idle": "2022-12-03T19:24:41.247730Z",
     "shell.execute_reply": "2022-12-03T19:24:41.246495Z"
    },
    "papermill": {
     "duration": 0.091491,
     "end_time": "2022-12-03T19:24:41.250570",
     "exception": false,
     "start_time": "2022-12-03T19:24:41.159079",
     "status": "completed"
    },
    "tags": []
   },
   "outputs": [],
   "source": [
    "pd_sb.to_csv('submission.csv', index=False)"
   ]
  }
 ],
 "metadata": {
  "kernelspec": {
   "display_name": "Python 3",
   "language": "python",
   "name": "python3"
  },
  "language_info": {
   "codemirror_mode": {
    "name": "ipython",
    "version": 3
   },
   "file_extension": ".py",
   "mimetype": "text/x-python",
   "name": "python",
   "nbconvert_exporter": "python",
   "pygments_lexer": "ipython3",
   "version": "3.7.12"
  },
  "papermill": {
   "default_parameters": {},
   "duration": 349.189831,
   "end_time": "2022-12-03T19:24:42.629345",
   "environment_variables": {},
   "exception": null,
   "input_path": "__notebook__.ipynb",
   "output_path": "__notebook__.ipynb",
   "parameters": {},
   "start_time": "2022-12-03T19:18:53.439514",
   "version": "2.3.4"
  }
 },
 "nbformat": 4,
 "nbformat_minor": 5
}
